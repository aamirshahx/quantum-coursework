{
 "cells": [
  {
   "cell_type": "markdown",
   "metadata": {},
   "source": [
    "<table width=\"100%\"> <tr>\n",
    "        <td  style=\"background-color:#ffffff;\">\n",
    "            <a href=\"https://qsoftware.lu.lv/index.php/qworld/\" target=\"_blank\"><img src=\"..\\images\\qworld.jpg\" width=\"35%\" align=\"left\"> </a></td>\n",
    "        <td style=\"background-color:#ffffff;vertical-align:bottom;text-align:right;\">\n",
    "            prepared by Abuzer Yakaryilmaz (<a href=\"http://qworld.lu.lv/index.php/qlatvia/\" target=\"_blank\">QLatvia</a>)\n",
    "        </td>        \n",
    "</tr></table>"
   ]
  },
  {
   "cell_type": "markdown",
   "metadata": {},
   "source": [
    "<table width=\"100%\"><tr><td style=\"color:#bbbbbb;background-color:#ffffff;font-size:11px;font-style:italic;text-align:right;\">This cell contains some macros. If there is a problem with displaying mathematical formulas, please run this cell to load these macros. </td></tr></table>\n",
    "$ \\newcommand{\\bra}[1]{\\langle #1|} $\n",
    "$ \\newcommand{\\ket}[1]{|#1\\rangle} $\n",
    "$ \\newcommand{\\braket}[2]{\\langle #1|#2\\rangle} $\n",
    "$ \\newcommand{\\dot}[2]{ #1 \\cdot #2} $\n",
    "$ \\newcommand{\\biginner}[2]{\\left\\langle #1,#2\\right\\rangle} $\n",
    "$ \\newcommand{\\mymatrix}[2]{\\left( \\begin{array}{#1} #2\\end{array} \\right)} $\n",
    "$ \\newcommand{\\myvector}[1]{\\mymatrix{c}{#1}} $\n",
    "$ \\newcommand{\\myrvector}[1]{\\mymatrix{r}{#1}} $\n",
    "$ \\newcommand{\\mypar}[1]{\\left( #1 \\right)} $\n",
    "$ \\newcommand{\\mybigpar}[1]{ \\Big( #1 \\Big)} $\n",
    "$ \\newcommand{\\sqrttwo}{\\frac{1}{\\sqrt{2}}} $\n",
    "$ \\newcommand{\\dsqrttwo}{\\dfrac{1}{\\sqrt{2}}} $\n",
    "$ \\newcommand{\\onehalf}{\\frac{1}{2}} $\n",
    "$ \\newcommand{\\donehalf}{\\dfrac{1}{2}} $\n",
    "$ \\newcommand{\\hadamard}{ \\mymatrix{rr}{ \\sqrttwo & \\sqrttwo \\\\ \\sqrttwo & -\\sqrttwo }} $\n",
    "$ \\newcommand{\\vzero}{\\myvector{1\\\\0}} $\n",
    "$ \\newcommand{\\vone}{\\myvector{0\\\\1}} $\n",
    "$ \\newcommand{\\vhadamardzero}{\\myvector{ \\sqrttwo \\\\  \\sqrttwo } } $\n",
    "$ \\newcommand{\\vhadamardone}{ \\myrvector{ \\sqrttwo \\\\ -\\sqrttwo } } $\n",
    "$ \\newcommand{\\myarray}[2]{ \\begin{array}{#1}#2\\end{array}} $\n",
    "$ \\newcommand{\\X}{ \\mymatrix{cc}{0 & 1 \\\\ 1 & 0}  } $\n",
    "$ \\newcommand{\\Z}{ \\mymatrix{rr}{1 & 0 \\\\ 0 & -1}  } $\n",
    "$ \\newcommand{\\Htwo}{ \\mymatrix{rrrr}{ \\frac{1}{2} & \\frac{1}{2} & \\frac{1}{2} & \\frac{1}{2} \\\\ \\frac{1}{2} & -\\frac{1}{2} & \\frac{1}{2} & -\\frac{1}{2} \\\\ \\frac{1}{2} & \\frac{1}{2} & -\\frac{1}{2} & -\\frac{1}{2} \\\\ \\frac{1}{2} & -\\frac{1}{2} & -\\frac{1}{2} & \\frac{1}{2} } } $\n",
    "$ \\newcommand{\\CNOT}{ \\mymatrix{cccc}{1 & 0 & 0 & 0 \\\\ 0 & 1 & 0 & 0 \\\\ 0 & 0 & 0 & 1 \\\\ 0 & 0 & 1 & 0} } $\n",
    "$ \\newcommand{\\norm}[1]{ \\left\\lVert #1 \\right\\rVert } $"
   ]
  },
  {
   "cell_type": "markdown",
   "metadata": {},
   "source": [
    "# <h2> A Game with two biased coins </h2>\n",
    "\n",
    "[Watch Lecture](https://youtu.be/k0OJvv7AAgU)\n",
    "\n",
    "Our friend Asja has one euro and one cent. \n",
    "\n",
    "Both coins are biased, and the probabilities of getting heads and tails are as follows:\n",
    "<ul>\n",
    "    <li> one euro: head with probability $ 0.6 $ and tail with probability $ 0.4 $. </li>\n",
    "    <li> one cent: head with probability $ 0.3 $ and tail with probability $ 0.7 $. </li>\n",
    "</ul>\n",
    "\n",
    "Asja flips her coins based on the following <b>protocol</b>: \n",
    "<ol> \n",
    "    <li> whenever she gets a head, she flips one euro; </li>\n",
    "    <li> whenever she gets a tail, she flips one cent; and </li>\n",
    "    <li> she starts with flipping one euro (we assume that she got head from nowhere). </li>\n",
    "</ol>\n",
    "\n",
    "By using a single bit, we summarize all possible transitions of this game as follows:\n",
    "\n",
    "$\n",
    "GameCoins = \\begin{array}{c|cc} & \\mathbf{Head} & \\mathbf{Tail} \\\\ \\hline \\mathbf{Head} & 0.6 & 0.3\\\\  \\mathbf{Tail} & 0.4 & 0.7  \\end{array} = \\begin{array}{c|cc} & \\mathbf{0} & \\mathbf{1} \\\\ \\hline \\mathbf{0} & 0.6 & 0.3 \\\\  \\mathbf{1} & 0.4 & 0.7  \\end{array}\n",
    "$"
   ]
  },
  {
   "cell_type": "markdown",
   "metadata": {},
   "source": [
    "<h3>Task 1: Convince yourself </h3>\n",
    "\n",
    "Please convince yourself about the correctness of transitions given in the table.\n",
    "\n",
    "<i> Remark that there is no difference between getting head from one euro or getting head from one cent.\n",
    "    \n",
    "Therefore, one bit is enough to represent all transitions.\n",
    "</i>"
   ]
  },
  {
   "cell_type": "markdown",
   "metadata": {},
   "source": [
    "<h3> Tracing Asja's three coin tosses </h3>\n",
    "\n",
    "Suppose that Asja <b>secretly</b> tosses her coins based on the defined protocol.\n",
    "\n",
    "By using python, we can calculate the probabilities of Asja getting head and tail after three coin tosses.\n",
    "\n",
    "<i><b>Remark:</b> In the tasks in previous notebook [Coin Flipping](B06_Coin_Flip.ipynb), the ideal ratio is easy to calculate. Besides, we do our experiments and then compare our results with the ideal ratio. \n",
    "\n",
    "Here we will calculate the exact probabilities (the ideal ratio) by using python. (We will not do the experiment.)\n",
    "</i>\n",
    "\n",
    "We present our solution step by step."
   ]
  },
  {
   "cell_type": "code",
   "execution_count": 1,
   "metadata": {},
   "outputs": [
    {
     "name": "stdout",
     "output_type": "stream",
     "text": [
      "the probability of getting head after 3 coin tosses is 0.444\n",
      "the probability of getting tail after 3 coin tosses is 0.556\n"
     ]
    }
   ],
   "source": [
    "#\n",
    "# OUR SOLUTION\n",
    "#\n",
    "\n",
    "# initial case\n",
    "# We assume that the probability of having head is 1 at the beginning,\n",
    "#    because Asja will start with one euro.\n",
    "prob_head = 1\n",
    "prob_tail = 0\n",
    "\n",
    "\n",
    "#\n",
    "# first coin-flip\n",
    "#\n",
    "\n",
    "# the new probability of head is calculated by using the first row \n",
    "new_prob_head = prob_head * 0.6 + prob_tail * 0.3\n",
    "\n",
    "# the new probability of tail is calculated by using the second row \n",
    "new_prob_tail = prob_head * 0.4 + prob_tail * 0.7\n",
    "\n",
    "# update the probabilities\n",
    "prob_head = new_prob_head\n",
    "prob_tail = new_prob_tail\n",
    "\n",
    "#\n",
    "# second coin-flip\n",
    "#\n",
    "# we do the same calculations\n",
    "\n",
    "new_prob_head = prob_head * 0.6 + prob_tail * 0.3\n",
    "new_prob_tail = prob_head * 0.4 + prob_tail * 0.7\n",
    "\n",
    "prob_head = new_prob_head\n",
    "prob_tail = new_prob_tail\n",
    "\n",
    "#\n",
    "# third coin-flip\n",
    "#\n",
    "# we do the same calculations\n",
    "\n",
    "new_prob_head = prob_head * 0.6 + prob_tail * 0.3\n",
    "new_prob_tail = prob_head * 0.4 + prob_tail * 0.7\n",
    "\n",
    "prob_head = new_prob_head\n",
    "prob_tail = new_prob_tail\n",
    "\n",
    "# print prob_head and prob_tail\n",
    "print(\"the probability of getting head after 3 coin tosses is\",round(prob_head,6))\n",
    "print(\"the probability of getting tail after 3 coin tosses is\",round(prob_tail,6))\n"
   ]
  },
  {
   "cell_type": "markdown",
   "metadata": {},
   "source": [
    "<h3> Task 2: Tracing ten biased coin tosses </h3>\n",
    "\n",
    "By using python, calculate the probabilities of Asja getting head and tail after 10 coin tosses.\n",
    "\n",
    "$\n",
    "GameCoins = \\begin{array}{c|cc} & \\mathbf{Head} & \\mathbf{Tail} \\\\ \\hline \\mathbf{Head} & 0.6 & 0.3\\\\  \\mathbf{Tail} & 0.4 & 0.7  \\end{array} = \\begin{array}{c|cc} & \\mathbf{0} & \\mathbf{1} \\\\ \\hline \\mathbf{0} & 0.6 & 0.3 \\\\  \\mathbf{1} & 0.4 & 0.7  \\end{array}\n",
    "$\n",
    "\n",
    "Please use a loop in your solution."
   ]
  },
  {
   "cell_type": "code",
   "execution_count": 61,
   "metadata": {},
   "outputs": [
    {
     "name": "stdout",
     "output_type": "stream",
     "text": [
      "Number of rounds  10  |  Initial P(Heads)  1  |  Initial P(Tails) 0\n",
      "Probability of heads is  0.428575\n",
      "Probability of tails is  0.571425\n"
     ]
    }
   ],
   "source": [
    "#\n",
    "# your solution is here\n",
    "#\n",
    "\n",
    "def bias_coin_toss(rounds, ph, pt):\n",
    "    print(\"Number of rounds \", rounds, \" | \", \"Initial P(Heads) \", ph, \" | \", \"Initial P(Tails)\", pt)\n",
    "    \n",
    "    prob_heads = new_prob_heads = ph\n",
    "    prob_tails = new_prob_tails = pt\n",
    "\n",
    "    for i in range(rounds):\n",
    "        new_prob_heads = (prob_heads * 0.6) + (prob_tails * 0.3)\n",
    "        new_prob_tails = (prob_heads * 0.4) + (prob_tails * 0.7)\n",
    "\n",
    "        prob_heads = new_prob_heads;\n",
    "        prob_tails = new_prob_tails;\n",
    "\n",
    "    return prob_heads, prob_tails\n",
    "\n",
    "prob_heads, prob_tails = bias_coin_toss(10, 1, 0)\n",
    "print(\"Probability of heads is \", round(prob_heads, 6))\n",
    "print(\"Probability of tails is \", round(prob_tails, 6))"
   ]
  },
  {
   "cell_type": "markdown",
   "metadata": {},
   "source": [
    "<a href=\"B09_Coin_Flip_Game_Solutions.ipynb#task2\">click for our solution</a>"
   ]
  },
  {
   "cell_type": "markdown",
   "metadata": {},
   "source": [
    "<h3> Task 3</h3>\n",
    "\n",
    "Repeat Task 2 for 20, 30, and 50 coin tosses."
   ]
  },
  {
   "cell_type": "code",
   "execution_count": 49,
   "metadata": {},
   "outputs": [
    {
     "name": "stdout",
     "output_type": "stream",
     "text": [
      "Number of rounds  20  |  Initial P(Heads)  1  |  Initial P(Tails) 0\n",
      "Probability of heads is  0.42857142859135267\n",
      "Probability of tails is  0.5714285714086464\n",
      "------------------------\n",
      "Number of rounds  30  |  Initial P(Heads)  1  |  Initial P(Tails) 0\n",
      "Probability of heads is  0.42857142857142816\n",
      "Probability of tails is  0.5714285714285705\n",
      "------------------------\n",
      "Number of rounds  50  |  Initial P(Heads)  1  |  Initial P(Tails) 0\n",
      "Probability of heads is  0.42857142857142805\n",
      "Probability of tails is  0.5714285714285706\n",
      "------------------------\n"
     ]
    }
   ],
   "source": [
    "#\n",
    "# your solution is here\n",
    "#\n",
    "\n",
    "for itr in [20, 30, 50]: \n",
    "    prob_heads, prob_tails = bias_coin_toss(itr, 1, 0)\n",
    "    print(\"Probability of heads is \", prob_heads)\n",
    "    print(\"Probability of tails is \", prob_tails)\n",
    "    print(\"------------------------\")"
   ]
  },
  {
   "cell_type": "markdown",
   "metadata": {},
   "source": [
    "<a href=\"B09_Coin_Flip_Game_Solutions.ipynb#task3\">click for our solution</a>"
   ]
  },
  {
   "cell_type": "markdown",
   "metadata": {},
   "source": [
    "<h3> Task 4</h3>\n",
    "\n",
    "Repeat Task 2 for 10, 20, and 50 coin tosses by picking different initial conditions, e.g., \n",
    "    \n",
    "    prob_head = prob_tail = 1/2\n",
    "or\n",
    "    \n",
    "    prob_head = 0 \n",
    "    prob_tail = 1"
   ]
  },
  {
   "cell_type": "code",
   "execution_count": 62,
   "metadata": {},
   "outputs": [
    {
     "name": "stdout",
     "output_type": "stream",
     "text": [
      "Number of rounds  10  |  Initial P(Heads)  0  |  Initial P(Tails) 1\n",
      "Probability of heads is  0.42856889789999986\n",
      "Probability of tails is  0.5714311020999998\n",
      "------------------------\n",
      "Number of rounds  20  |  Initial P(Heads)  0  |  Initial P(Tails) 1\n",
      "Probability of heads is  0.4285714285564849\n",
      "Probability of tails is  0.5714285714435143\n",
      "------------------------\n",
      "Number of rounds  50  |  Initial P(Heads)  0  |  Initial P(Tails) 1\n",
      "Probability of heads is  0.42857142857142794\n",
      "Probability of tails is  0.5714285714285706\n",
      "------------------------\n"
     ]
    }
   ],
   "source": [
    "#\n",
    "# your solution is here\n",
    "#\n",
    "for itr in [10, 20, 50]:\n",
    "    prob_heads, prob_tails = bias_coin_toss(itr, 0, 1)\n",
    "    print(\"Probability of heads is \", prob_heads)\n",
    "    print(\"Probability of tails is \", prob_tails)\n",
    "    print(\"------------------------\")"
   ]
  },
  {
   "cell_type": "markdown",
   "metadata": {},
   "source": [
    "<a href=\"B09_Coin_Flip_Game_Solutions.ipynb#task4\">click for our solution</a>"
   ]
  },
  {
   "cell_type": "markdown",
   "metadata": {},
   "source": [
    "<hr>"
   ]
  },
  {
   "cell_type": "markdown",
   "metadata": {},
   "source": [
    "<h3> Arbitrary transitions for GameCoins [extra]</h3>\n",
    "\n",
    "By changing the bias of each Asja's coin, we can define arbitrary GameCoins.\n",
    "\n",
    "If $ a $ is the probability of getting head for one euro and $ b $ is the probability of getting head for one cent, then we have the following transitions:\n",
    "\n",
    "$\n",
    "GameCoins(a,b) = \\begin{array}{c|cc} & \\mathbf{Head} & \\mathbf{Tail} \\\\ \\hline \\mathbf{Head} & a & b\\\\  \\mathbf{Tail} & 1-a & 1-b  \\end{array} = \\begin{array}{c|cc} & \\mathbf{0} & \\mathbf{1} \\\\ \\hline \\mathbf{0} & a & b \\\\  \\mathbf{1} & 1-a & 1-b  \\end{array}\n",
    "$"
   ]
  },
  {
   "cell_type": "markdown",
   "metadata": {},
   "source": [
    "<h3> Task 5 </h3>\n",
    "\n",
    "Observe that if $ a=1 $ and $ b = 0 $, then it is Identity operator, which does not change the initial state.\n",
    "\n",
    "If $ a=0 $ and $ b=1 $, then it is NOT operator. NOT operator swaps the probabilities of head and tail. If the initial probabilities are not $ 0.5 $ and $ 0.5 $, then the system cannot converge."
   ]
  },
  {
   "cell_type": "code",
   "execution_count": 64,
   "metadata": {},
   "outputs": [
    {
     "name": "stdout",
     "output_type": "stream",
     "text": [
      "Number of rounds  10  |  Initial P(Heads)  1  |  Initial P(Tails) 0  |  Probabilities  1 0  --  0 1\n",
      "Probability of heads is  1\n",
      "Probability of tails is  0\n"
     ]
    }
   ],
   "source": [
    "#\n",
    "# your solution is here\n",
    "#\n",
    "def bias_coin_toss_custom(rounds, ph, pt, euH, euT, ctH, ctT):\n",
    "    print(\"Number of rounds \", rounds, \" | \", \"Initial P(Heads) \", ph, \" | \", \"Initial P(Tails)\", pt,\n",
    "         \" | \", \"Probabilities \", euH, euT, \" -- \", ctH, ctT)\n",
    "    \n",
    "    prob_heads = new_prob_heads = ph\n",
    "    prob_tails = new_prob_tails = pt\n",
    "\n",
    "    for i in range(rounds):\n",
    "        new_prob_heads = (prob_heads * euH) + (prob_tails * ctH)\n",
    "        new_prob_tails = (prob_heads * euT) + (prob_tails * ctT)\n",
    "\n",
    "        prob_heads = new_prob_heads;\n",
    "        prob_tails = new_prob_tails;\n",
    "\n",
    "    return prob_heads, prob_tails\n",
    "\n"
   ]
  },
  {
   "cell_type": "code",
   "execution_count": 65,
   "metadata": {},
   "outputs": [
    {
     "name": "stdout",
     "output_type": "stream",
     "text": [
      "Number of rounds  10  |  Initial P(Heads)  1  |  Initial P(Tails) 0  |  Probabilities  1 0  --  0 1\n",
      "Probability of heads is  1\n",
      "Probability of tails is  0\n"
     ]
    }
   ],
   "source": [
    "prob_heads, prob_tails = bias_coin_toss_custom(10, 1, 0, 1, 0, 0, 1)\n",
    "print(\"Probability of heads is \", round(prob_heads, 6))\n",
    "print(\"Probability of tails is \", round(prob_tails, 6))"
   ]
  },
  {
   "cell_type": "markdown",
   "metadata": {},
   "source": [
    "<h3> Task 6</h3>\n",
    "\n",
    "Randomly pick the values of $ a $ and $ b $, and then implement Tasks 3 and 4 for $ GameCoins(a,b) $."
   ]
  },
  {
   "cell_type": "code",
   "execution_count": 71,
   "metadata": {},
   "outputs": [
    {
     "name": "stdout",
     "output_type": "stream",
     "text": [
      "Number of rounds  20  |  Initial P(Heads)  1  |  Initial P(Tails) 0  |  Probabilities  0.6 0.4  --  0.3 0.7\n",
      "Probability of heads is  0.42857142859135267\n",
      "Probability of tails is  0.5714285714086464\n",
      "------------------------\n",
      "Number of rounds  30  |  Initial P(Heads)  1  |  Initial P(Tails) 0  |  Probabilities  0.6 0.4  --  0.3 0.7\n",
      "Probability of heads is  0.42857142857142816\n",
      "Probability of tails is  0.5714285714285705\n",
      "------------------------\n",
      "Number of rounds  50  |  Initial P(Heads)  1  |  Initial P(Tails) 0  |  Probabilities  0.6 0.4  --  0.3 0.7\n",
      "Probability of heads is  0.42857142857142805\n",
      "Probability of tails is  0.5714285714285706\n",
      "------------------------\n"
     ]
    }
   ],
   "source": [
    "#\n",
    "# your solution is here\n",
    "#\n",
    "# task 3 impl\n",
    "for itr in [20, 30, 50]: \n",
    "    prob_heads, prob_tails = bias_coin_toss_custom(itr, 1, 0, 0.6, 0.4, 0.3, 0.7)\n",
    "    print(\"Probability of heads is \", prob_heads)\n",
    "    print(\"Probability of tails is \", prob_tails)\n",
    "    print(\"------------------------\")"
   ]
  },
  {
   "cell_type": "code",
   "execution_count": 73,
   "metadata": {},
   "outputs": [
    {
     "name": "stdout",
     "output_type": "stream",
     "text": [
      "Number of rounds  20  |  Initial P(Heads)  0  |  Initial P(Tails) 1  |  Probabilities  0.6 0.4  --  0.3 0.7\n",
      "Probability of heads is  0.4285714285564849\n",
      "Probability of tails is  0.5714285714435143\n",
      "------------------------\n",
      "Number of rounds  30  |  Initial P(Heads)  0  |  Initial P(Tails) 1  |  Probabilities  0.6 0.4  --  0.3 0.7\n",
      "Probability of heads is  0.42857142857142794\n",
      "Probability of tails is  0.5714285714285708\n",
      "------------------------\n",
      "Number of rounds  50  |  Initial P(Heads)  0  |  Initial P(Tails) 1  |  Probabilities  0.6 0.4  --  0.3 0.7\n",
      "Probability of heads is  0.42857142857142794\n",
      "Probability of tails is  0.5714285714285706\n",
      "------------------------\n"
     ]
    }
   ],
   "source": [
    "# task 4 impl\n",
    "for itr in [20, 30, 50]: \n",
    "    prob_heads, prob_tails = bias_coin_toss_custom(itr, 0, 1, 0.6, 0.4, 0.3, 0.7)\n",
    "    print(\"Probability of heads is \", prob_heads)\n",
    "    print(\"Probability of tails is \", prob_tails)\n",
    "    print(\"------------------------\")"
   ]
  },
  {
   "cell_type": "markdown",
   "metadata": {},
   "source": [
    "<h3> Task 7</h3>\n",
    "\n",
    "10 times repeat Task 6 and observe whether the system converges in each time."
   ]
  },
  {
   "cell_type": "code",
   "execution_count": 78,
   "metadata": {},
   "outputs": [
    {
     "name": "stdout",
     "output_type": "stream",
     "text": [
      "Number of rounds  0  |  Initial P(Heads)  1  |  Initial P(Tails) 0  |  Probabilities  0.6 0.4  --  0.3 0.7\n",
      "Probability of heads is  1\n",
      "Probability of tails is  0\n",
      "------------------------\n",
      "Number of rounds  89  |  Initial P(Heads)  1  |  Initial P(Tails) 0  |  Probabilities  0.6 0.4  --  0.3 0.7\n",
      "Probability of heads is  0.42857142857142805\n",
      "Probability of tails is  0.5714285714285706\n",
      "------------------------\n",
      "Number of rounds  178  |  Initial P(Heads)  1  |  Initial P(Tails) 0  |  Probabilities  0.6 0.4  --  0.3 0.7\n",
      "Probability of heads is  0.42857142857142805\n",
      "Probability of tails is  0.5714285714285706\n",
      "------------------------\n",
      "Number of rounds  267  |  Initial P(Heads)  1  |  Initial P(Tails) 0  |  Probabilities  0.6 0.4  --  0.3 0.7\n",
      "Probability of heads is  0.42857142857142805\n",
      "Probability of tails is  0.5714285714285706\n",
      "------------------------\n",
      "Number of rounds  356  |  Initial P(Heads)  1  |  Initial P(Tails) 0  |  Probabilities  0.6 0.4  --  0.3 0.7\n",
      "Probability of heads is  0.42857142857142805\n",
      "Probability of tails is  0.5714285714285706\n",
      "------------------------\n",
      "Number of rounds  445  |  Initial P(Heads)  1  |  Initial P(Tails) 0  |  Probabilities  0.6 0.4  --  0.3 0.7\n",
      "Probability of heads is  0.42857142857142805\n",
      "Probability of tails is  0.5714285714285706\n",
      "------------------------\n",
      "Number of rounds  534  |  Initial P(Heads)  1  |  Initial P(Tails) 0  |  Probabilities  0.6 0.4  --  0.3 0.7\n",
      "Probability of heads is  0.42857142857142805\n",
      "Probability of tails is  0.5714285714285706\n",
      "------------------------\n",
      "Number of rounds  623  |  Initial P(Heads)  1  |  Initial P(Tails) 0  |  Probabilities  0.6 0.4  --  0.3 0.7\n",
      "Probability of heads is  0.42857142857142805\n",
      "Probability of tails is  0.5714285714285706\n",
      "------------------------\n",
      "Number of rounds  712  |  Initial P(Heads)  1  |  Initial P(Tails) 0  |  Probabilities  0.6 0.4  --  0.3 0.7\n",
      "Probability of heads is  0.42857142857142805\n",
      "Probability of tails is  0.5714285714285706\n",
      "------------------------\n",
      "Number of rounds  801  |  Initial P(Heads)  1  |  Initial P(Tails) 0  |  Probabilities  0.6 0.4  --  0.3 0.7\n",
      "Probability of heads is  0.42857142857142805\n",
      "Probability of tails is  0.5714285714285706\n",
      "------------------------\n"
     ]
    }
   ],
   "source": [
    "#\n",
    "# your solution is here\n",
    "#\n",
    "from random import randrange\n",
    "rv = randrange(10, 100)\n",
    "for itr in range(0, 10):\n",
    "    prob_heads, prob_tails = bias_coin_toss_custom(itr * rv, 1, 0, 0.6, 0.4, 0.3, 0.7)\n",
    "    print(\"Probability of heads is \", prob_heads)\n",
    "    print(\"Probability of tails is \", prob_tails)\n",
    "    print(\"------------------------\")"
   ]
  },
  {
   "cell_type": "markdown",
   "metadata": {},
   "source": [
    "<h3>Task 8</h3>\n",
    "\n",
    "We can rewrite arbitrary GameCoins as \n",
    "\n",
    "$  \\begin{array}{c|cc} & \\mathbf{Head} & \\mathbf{Tail} \\\\ \\hline \\mathbf{Head} & 1-y & x\\\\  \\mathbf{Tail} & y & 1-x  \\end{array} = \\begin{array}{c|cc} & \\mathbf{0} & \\mathbf{1} \\\\ \\hline \\mathbf{0} & 1-y & x \\\\  \\mathbf{1} & y & 1-x  \\end{array}.\n",
    "$ \n",
    "\n",
    "We assume that it is neither Identity nor NOT operator. Then, independent of the initial state, the system always converges to \n",
    "\n",
    "$ Pr[\\mbox{\"head\"}] = \\dfrac{x}{x+y} $ and $ Pr[\\mbox{\"tail\"}]=\\dfrac{y}{x+y} $ \n",
    "\n",
    "as the probabilities of getting head and tail, respectively.\n",
    "\n",
    "Observe this fact by checking the results of Task 7."
   ]
  },
  {
   "cell_type": "code",
   "execution_count": null,
   "metadata": {},
   "outputs": [],
   "source": [
    "#\n",
    "# your solution is here\n",
    "#\n"
   ]
  }
 ],
 "metadata": {
  "kernelspec": {
   "display_name": "Python 3",
   "language": "python",
   "name": "python3"
  },
  "language_info": {
   "codemirror_mode": {
    "name": "ipython",
    "version": 3
   },
   "file_extension": ".py",
   "mimetype": "text/x-python",
   "name": "python",
   "nbconvert_exporter": "python",
   "pygments_lexer": "ipython3",
   "version": "3.8.3"
  }
 },
 "nbformat": 4,
 "nbformat_minor": 2
}
