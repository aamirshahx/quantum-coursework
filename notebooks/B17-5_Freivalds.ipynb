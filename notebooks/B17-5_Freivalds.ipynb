{
 "cells": [
  {
   "cell_type": "markdown",
   "metadata": {},
   "source": [
    "<table> <tr>\n",
    "        <td  style=\"background-color:#ffffff;\">\n",
    "            <a href=\"http://qworld.lu.lv\" target=\"_blank\"><img src=\"..\\images\\qworld.jpg\" width=\"25%\" align=\"left\"> </a></td>\n",
    "        <td style=\"background-color:#ffffff;vertical-align:bottom;text-align:right;\">\n",
    "            prepared by <a href=\"http://abu.lu.lv\" target=\"_blank\">Abuzer Yakaryilmaz</a> (<a href=\"http://qworld.lu.lv/index.php/qlatvia/\" target=\"_blank\">QLatvia</a>)\n",
    "        </td>        \n",
    "</tr></table>"
   ]
  },
  {
   "cell_type": "markdown",
   "metadata": {},
   "source": [
    "<table width=\"100%\"><tr><td style=\"color:#bbbbbb;background-color:#ffffff;font-size:11px;font-style:italic;text-align:right;\">This cell contains some macros. If there is a problem with displaying mathematical formulas, please run this cell to load these macros. </td></tr></table>\n",
    "$ \\newcommand{\\bra}[1]{\\langle #1|} $\n",
    "$ \\newcommand{\\ket}[1]{|#1\\rangle} $\n",
    "$ \\newcommand{\\braket}[2]{\\langle #1|#2\\rangle} $\n",
    "$ \\newcommand{\\dot}[2]{ #1 \\cdot #2} $\n",
    "$ \\newcommand{\\biginner}[2]{\\left\\langle #1,#2\\right\\rangle} $\n",
    "$ \\newcommand{\\mymatrix}[2]{\\left( \\begin{array}{#1} #2\\end{array} \\right)} $\n",
    "$ \\newcommand{\\myvector}[1]{\\mymatrix{c}{#1}} $\n",
    "$ \\newcommand{\\myrvector}[1]{\\mymatrix{r}{#1}} $\n",
    "$ \\newcommand{\\mypar}[1]{\\left( #1 \\right)} $\n",
    "$ \\newcommand{\\mybigpar}[1]{ \\Big( #1 \\Big)} $\n",
    "$ \\newcommand{\\sqrttwo}{\\frac{1}{\\sqrt{2}}} $\n",
    "$ \\newcommand{\\dsqrttwo}{\\dfrac{1}{\\sqrt{2}}} $\n",
    "$ \\newcommand{\\onehalf}{\\frac{1}{2}} $\n",
    "$ \\newcommand{\\donehalf}{\\dfrac{1}{2}} $\n",
    "$ \\newcommand{\\hadamard}{ \\mymatrix{rr}{ \\sqrttwo & \\sqrttwo \\\\ \\sqrttwo & -\\sqrttwo }} $\n",
    "$ \\newcommand{\\vzero}{\\myvector{1\\\\0}} $\n",
    "$ \\newcommand{\\vone}{\\myvector{0\\\\1}} $\n",
    "$ \\newcommand{\\stateplus}{\\myvector{ \\sqrttwo \\\\  \\sqrttwo } } $\n",
    "$ \\newcommand{\\stateminus}{ \\myrvector{ \\sqrttwo \\\\ -\\sqrttwo } } $\n",
    "$ \\newcommand{\\myarray}[2]{ \\begin{array}{#1}#2\\end{array}} $\n",
    "$ \\newcommand{\\X}{ \\mymatrix{cc}{0 & 1 \\\\ 1 & 0}  } $\n",
    "$ \\newcommand{\\I}{ \\mymatrix{rr}{1 & 0 \\\\ 0 & 1}  } $\n",
    "$ \\newcommand{\\Z}{ \\mymatrix{rr}{1 & 0 \\\\ 0 & -1}  } $\n",
    "$ \\newcommand{\\Htwo}{ \\mymatrix{rrrr}{ \\frac{1}{2} & \\frac{1}{2} & \\frac{1}{2} & \\frac{1}{2} \\\\ \\frac{1}{2} & -\\frac{1}{2} & \\frac{1}{2} & -\\frac{1}{2} \\\\ \\frac{1}{2} & \\frac{1}{2} & -\\frac{1}{2} & -\\frac{1}{2} \\\\ \\frac{1}{2} & -\\frac{1}{2} & -\\frac{1}{2} & \\frac{1}{2} } } $\n",
    "$ \\newcommand{\\CNOT}{ \\mymatrix{cccc}{1 & 0 & 0 & 0 \\\\ 0 & 1 & 0 & 0 \\\\ 0 & 0 & 0 & 1 \\\\ 0 & 0 & 1 & 0} } $\n",
    "$ \\newcommand{\\norm}[1]{ \\left\\lVert #1 \\right\\rVert } $\n",
    "$ \\newcommand{\\pstate}[1]{ \\lceil \\mspace{-1mu} #1 \\mspace{-1.5mu} \\rfloor } $"
   ]
  },
  {
   "cell_type": "markdown",
   "metadata": {},
   "source": [
    "<h2>Freivalds</h2>\n",
    "\n",
    "Freivalds is a probabilistic system (automaton) with two bits."
   ]
  },
  {
   "cell_type": "markdown",
   "metadata": {},
   "source": [
    "<h3> Freivalds' initial state </h3>\n",
    "\n",
    "Freivalds starts in state $ \\myvector{ 0.5 \\\\ 0 \\\\ 0.5 \\\\ 0 } $.\n",
    "\n",
    "Freivalds reads the strings composed by $ a $'s and $ b $'s symbol by symbol."
   ]
  },
  {
   "cell_type": "markdown",
   "metadata": {},
   "source": [
    "<h3> Freivalds reads symbol $ a $</h3>\n",
    "\n",
    "When in the state $ 00 $ and reading an $ a $, Freivalds switches to states $ 01 $ and $ 11 $ with probabilities $ 0.25 $ and stays in state $ 00 $ with probability $ 0.5 $. \n",
    "\n",
    "When in any other state and reading an $ a $, Freivalds stays in the same state with probability 1.\n",
    "\n",
    "Thus, we can define a probabilistic operator $ A $ for Freivalds when reading an $ a $."
   ]
  },
  {
   "cell_type": "markdown",
   "metadata": {},
   "source": [
    "<h3>Task 1 </h3>\n",
    "\n",
    "Is A the following matrix?\n",
    "\n",
    "$$\n",
    "    A = \\mymatrix{rccc}{ 0.5 & 0 & 0 & 0 \\\\ 0.25 & 1 & 0 & 0 \\\\ 0 & 0 & 1 & 0 \\\\ 0.25 & 0 & 0 & 1 }.\n",
    "$$\n",
    "\n",
    "<i> The columns and rows correspond to the states in order of $ 00 $, $ 01 $, $ 10 $, and $ 11 $.</i>"
   ]
  },
  {
   "cell_type": "markdown",
   "metadata": {},
   "source": [
    "YES"
   ]
  },
  {
   "cell_type": "markdown",
   "metadata": {},
   "source": [
    "<h3> Freivalds reads symbol $ b $</h3>\n",
    "\n",
    "When in the state $ 10 $ and reading a $ b $, Freivalds switches to states $ 01 $ and $ 11 $ with probabilities $ 0.25 $ and stays in state $ 10 $ with probability $ 0.5 $. \n",
    "\n",
    "When in any other state and reading a $ b $, Freivalds stays in the same state with probability 1.\n",
    "\n",
    "Thus, we can define a probabilistic operator $ B $ for Freivalds when reading a $ b $."
   ]
  },
  {
   "cell_type": "markdown",
   "metadata": {},
   "source": [
    "<h3>Task 2 </h3>\n",
    "\n",
    "Is B the following matrix?\n",
    "\n",
    "$$\n",
    "    B = \\mymatrix{rccc}{ 1 & 0 & 0 & 0 \\\\ 0 & 1 & 0.25 & 0 \\\\ 0 & 0 & 0.5 & 0 \\\\ 0 & 0 & 0.25 & 1 }.\n",
    "$$"
   ]
  },
  {
   "cell_type": "markdown",
   "metadata": {},
   "source": [
    "YES"
   ]
  },
  {
   "cell_type": "markdown",
   "metadata": {},
   "source": [
    "<h3> Task 3 </h3>\n",
    "\n",
    "Freivalds reads 50 random strings of length 40. \n",
    "\n",
    "Find the final probabilistic state for each string.\n",
    "\n",
    "Is there any relation between \n",
    "<ul>\n",
    "    <li>the numbers of $ a $'s and $ b $'s, say $ N_a $ and $ N_b $, and </li>\n",
    "    <li>the probabilities of the first bit being in zero and one, say $ p_0 $ and $ p_1 $?</li>\n",
    "</ul>\n",
    "More specifically:\n",
    "<ul>\n",
    "    <li> When $ N_a > N_b $, is $ p_0 < p_1 $ or $ p_0 > p_1 $? </li>\n",
    "    <li> When $ N_a < N_b $, is $ p_0 < p_1 $ or $ p_0 > p_1 $? </li>\n",
    "</ul>\n",
    "\n",
    "Or simply check the signs of $ (N_a - N_b) $ and $ (p_0-p_1) $ for each string.\n",
    "\n",
    "<i>Hint: The multiplication of two numbers with the same signs is a positive number, and the multiplication of two numbers with the opposite signs gives a negative number.</i>"
   ]
  },
  {
   "cell_type": "code",
   "execution_count": 51,
   "metadata": {},
   "outputs": [
    {
     "name": "stdout",
     "output_type": "stream",
     "text": [
      "Total: (Na-Nb) * (p0 - p1) < 0 \t\t\t= 44\n",
      "Total: (Na-Nb) * (p0 - p1) > 0 \t\t\t= 0\n",
      "Total: (Na-Nb) = 0 but (p0-p1) != 0 \t\t= 6\n",
      "Total: (p0-p1) = 0 but (Na-Nb) != 0 \t\t= 0\n",
      "Total: Both are zero \t\t\t\t= 0\n"
     ]
    }
   ],
   "source": [
    "from random import randrange\n",
    "# the initial state\n",
    "initial = [0.5, 0, 0.5, 0]\n",
    "\n",
    "# probabilistic operator for symbol a\n",
    "A = [\n",
    "    [0.5,  0, 0, 0],\n",
    "    [0.25, 1, 0, 0],\n",
    "    [0,    0, 1, 0],\n",
    "    [0.25, 0, 0, 1]\n",
    "]\n",
    "\n",
    "# probabilistic operator for symbol b\n",
    "B = [\n",
    "    [1, 0, 0,    0],\n",
    "    [0, 1, 0.25, 0],\n",
    "    [0, 0, 0.5,  0],\n",
    "    [0, 0, 0.25, 1]\n",
    "]\n",
    "\n",
    "#\n",
    "# your solution is here\n",
    "#\n",
    "\n",
    "def str_gen(len):\n",
    "    str = \"\"\n",
    "    for i in range(len):\n",
    "        str += 'a' if randrange(0, 100) %2 == 0 else 'b'\n",
    "    return str\n",
    "\n",
    "def update_state(prob_op, old_state):\n",
    "    state = []\n",
    "    \n",
    "    for i in range(len(prob_op)):\n",
    "        state.append(0)\n",
    "        \n",
    "        for j in range(len(old_state)):\n",
    "            curr_cursor = prob_op[i][j]\n",
    "            state[i] += curr_cursor * old_state[j]\n",
    "            \n",
    "    return state\n",
    "\n",
    "def freivalds(final_state):\n",
    "    state = initial\n",
    "    na = nb = 0\n",
    "    \n",
    "    str = str_gen(40)\n",
    "    for char in str:\n",
    "        if char == 'a':\n",
    "            na += 1\n",
    "            state = update_state(A, state)\n",
    "        else:\n",
    "            nb += 1\n",
    "            state = update_state(B, state)\n",
    "\n",
    "    p0 = state[0] + state[1]\n",
    "    p1 = state[2] + state[3]\n",
    "    \n",
    "    rel = (na-nb) * (p0-p1)\n",
    "    \n",
    "    if (rel < 0):\n",
    "        final_state[0]+=1\n",
    "    elif (rel > 0):\n",
    "        final_state[1]+=1\n",
    "    elif (rel == 0):\n",
    "        nab = na-nb\n",
    "        p01 = p0-p1\n",
    "        \n",
    "        if nab == 0:\n",
    "            if p01:\n",
    "                final_state[2]+=1\n",
    "            else:\n",
    "                final_state[3]+=1\n",
    "        elif p01 == 0:\n",
    "            final_state[4]+=1\n",
    "    \n",
    "    return final_state\n",
    "\n",
    "\n",
    "final_state = [0, 0, 0, 0, 0]\n",
    "for i in range(50):\n",
    "    final_state = freivalds(final_state)\n",
    "\n",
    "print(\"Total: (Na-Nb) * (p0 - p1) < 0 \\t\\t\\t=\", final_state[0])\n",
    "print(\"Total: (Na-Nb) * (p0 - p1) > 0 \\t\\t\\t=\", final_state[1])\n",
    "print(\"Total: (Na-Nb) = 0 but (p0-p1) != 0 \\t\\t=\", final_state[3])\n",
    "print(\"Total: (p0-p1) = 0 but (Na-Nb) != 0 \\t\\t=\", final_state[4])\n",
    "print(\"Total: Both are zero \\t\\t\\t\\t=\", final_state[2])"
   ]
  },
  {
   "cell_type": "markdown",
   "metadata": {},
   "source": [
    "<a href=\"B17-5_Freivalds_Solution.ipynb#task3\">click for our solution</a>"
   ]
  },
  {
   "cell_type": "code",
   "execution_count": null,
   "metadata": {},
   "outputs": [],
   "source": []
  }
 ],
 "metadata": {
  "kernelspec": {
   "display_name": "Python 3",
   "language": "python",
   "name": "python3"
  },
  "language_info": {
   "codemirror_mode": {
    "name": "ipython",
    "version": 3
   },
   "file_extension": ".py",
   "mimetype": "text/x-python",
   "name": "python",
   "nbconvert_exporter": "python",
   "pygments_lexer": "ipython3",
   "version": "3.8.3"
  }
 },
 "nbformat": 4,
 "nbformat_minor": 2
}
