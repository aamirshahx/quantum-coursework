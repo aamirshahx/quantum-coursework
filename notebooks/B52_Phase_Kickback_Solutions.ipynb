{
 "cells": [
  {
   "cell_type": "markdown",
   "metadata": {},
   "source": [
    "<table> <tr>\n",
    "        <td  style=\"background-color:#ffffff;\">\n",
    "            <a href=\"http://qworld.lu.lv\" target=\"_blank\"><img src=\"..\\images\\qworld.jpg\" width=\"25%\" align=\"left\"> </a></td>\n",
    "        <td style=\"background-color:#ffffff;vertical-align:bottom;text-align:right;\">\n",
    "            prepared by <a href=\"http://abu.lu.lv\" target=\"_blank\">Abuzer Yakaryilmaz</a> (<a href=\"http://qworld.lu.lv/index.php/qlatvia/\" target=\"_blank\">QLatvia</a>)\n",
    "        </td>        \n",
    "</tr></table>"
   ]
  },
  {
   "cell_type": "markdown",
   "metadata": {},
   "source": [
    "<table width=\"100%\"><tr><td style=\"color:#bbbbbb;background-color:#ffffff;font-size:11px;font-style:italic;text-align:right;\">This cell contains some macros. If there is a problem with displaying mathematical formulas, please run this cell to load these macros. </td></tr></table>\n",
    "$ \\newcommand{\\bra}[1]{\\langle #1|} $\n",
    "$ \\newcommand{\\ket}[1]{|#1\\rangle} $\n",
    "$ \\newcommand{\\braket}[2]{\\langle #1|#2\\rangle} $\n",
    "$ \\newcommand{\\dot}[2]{ #1 \\cdot #2} $\n",
    "$ \\newcommand{\\biginner}[2]{\\left\\langle #1,#2\\right\\rangle} $\n",
    "$ \\newcommand{\\mymatrix}[2]{\\left( \\begin{array}{#1} #2\\end{array} \\right)} $\n",
    "$ \\newcommand{\\myvector}[1]{\\mymatrix{c}{#1}} $\n",
    "$ \\newcommand{\\myrvector}[1]{\\mymatrix{r}{#1}} $\n",
    "$ \\newcommand{\\mypar}[1]{\\left( #1 \\right)} $\n",
    "$ \\newcommand{\\mybigpar}[1]{ \\Big( #1 \\Big)} $\n",
    "$ \\newcommand{\\sqrttwo}{\\frac{1}{\\sqrt{2}}} $\n",
    "$ \\newcommand{\\dsqrttwo}{\\dfrac{1}{\\sqrt{2}}} $\n",
    "$ \\newcommand{\\onehalf}{\\frac{1}{2}} $\n",
    "$ \\newcommand{\\donehalf}{\\dfrac{1}{2}} $\n",
    "$ \\newcommand{\\hadamard}{ \\mymatrix{rr}{ \\sqrttwo & \\sqrttwo \\\\ \\sqrttwo & -\\sqrttwo }} $\n",
    "$ \\newcommand{\\vzero}{\\myvector{1\\\\0}} $\n",
    "$ \\newcommand{\\vone}{\\myvector{0\\\\1}} $\n",
    "$ \\newcommand{\\stateplus}{\\myvector{ \\sqrttwo \\\\  \\sqrttwo } } $\n",
    "$ \\newcommand{\\stateminus}{ \\myrvector{ \\sqrttwo \\\\ -\\sqrttwo } } $\n",
    "$ \\newcommand{\\myarray}[2]{ \\begin{array}{#1}#2\\end{array}} $\n",
    "$ \\newcommand{\\X}{ \\mymatrix{cc}{0 & 1 \\\\ 1 & 0}  } $\n",
    "$ \\newcommand{\\I}{ \\mymatrix{rr}{1 & 0 \\\\ 0 & 1}  } $\n",
    "$ \\newcommand{\\Z}{ \\mymatrix{rr}{1 & 0 \\\\ 0 & -1}  } $\n",
    "$ \\newcommand{\\Htwo}{ \\mymatrix{rrrr}{ \\frac{1}{2} & \\frac{1}{2} & \\frac{1}{2} & \\frac{1}{2} \\\\ \\frac{1}{2} & -\\frac{1}{2} & \\frac{1}{2} & -\\frac{1}{2} \\\\ \\frac{1}{2} & \\frac{1}{2} & -\\frac{1}{2} & -\\frac{1}{2} \\\\ \\frac{1}{2} & -\\frac{1}{2} & -\\frac{1}{2} & \\frac{1}{2} } } $\n",
    "$ \\newcommand{\\CNOT}{ \\mymatrix{cccc}{1 & 0 & 0 & 0 \\\\ 0 & 1 & 0 & 0 \\\\ 0 & 0 & 0 & 1 \\\\ 0 & 0 & 1 & 0} } $\n",
    "$ \\newcommand{\\norm}[1]{ \\left\\lVert #1 \\right\\rVert } $\n",
    "$ \\newcommand{\\pstate}[1]{ \\lceil \\mspace{-1mu} #1 \\mspace{-1.5mu} \\rfloor } $"
   ]
  },
  {
   "cell_type": "markdown",
   "metadata": {},
   "source": [
    "<h2> <font color=\"blue\"> Solutions for </font>Phase Kickback</h2>"
   ]
  },
  {
   "cell_type": "markdown",
   "metadata": {},
   "source": [
    "<a id=\"task1\"></a>\n",
    "<h3> Task 1</h3>\n",
    "\n",
    "Create a quantum circuit with two qubits, say $ q[1] $ and $ q[0] $ in the reading order of Qiskit.\n",
    "\n",
    "We start in quantum state $ \\ket{01} $:\n",
    "- set the state of $ q[1] $ to $ \\ket{0} $, and\n",
    "- set the state of $ q[0] $ to $ \\ket{1} $.\n",
    "\n",
    "Apply Hadamard to both qubits.\n",
    "\n",
    "Apply CNOT operator, where the controller qubit is $ q[1] $ and the target qubit is $ q[0] $.\n",
    "\n",
    "Apply Hadamard to both qubits.\n",
    "\n",
    "Measure the outcomes."
   ]
  },
  {
   "cell_type": "markdown",
   "metadata": {},
   "source": [
    "<h3> Solution </h3>"
   ]
  },
  {
   "cell_type": "code",
   "execution_count": 1,
   "metadata": {},
   "outputs": [
    {
     "data": {
      "image/png": "[encoded data removed]",
      "text/plain": [
       "<Figure size 562.032x204.68 with 1 Axes>"
      ]
     },
     "metadata": {},
     "output_type": "display_data"
    },
    {
     "name": "stdout",
     "output_type": "stream",
     "text": [
      "{'11': 100}\n"
     ]
    }
   ],
   "source": [
    "# import all necessary objects and methods for quantum circuits\n",
    "from qiskit import QuantumRegister, ClassicalRegister, QuantumCircuit, execute, Aer\n",
    "\n",
    "q =  QuantumRegister(2,\"q\") # quantum register with 2 qubits\n",
    "c = ClassicalRegister(2,\"c\") # classical register with 2 bits\n",
    "\n",
    "qc = QuantumCircuit(q,c) # quantum circuit with quantum and classical registers\n",
    "\n",
    "# the up qubit is in |0>\n",
    "\n",
    "# set the down qubit to |1>\n",
    "qc.x(q[0]) # apply x-gate (NOT operator)\n",
    "\n",
    "qc.barrier()\n",
    "\n",
    "# apply Hadamard to both qubits.\n",
    "qc.h(q[0])\n",
    "qc.h(q[1])\n",
    "\n",
    "# apply CNOT operator, where the controller qubit is the up qubit and the target qubit is the down qubit.\n",
    "qc.cx(1,0)\n",
    "\n",
    "# apply Hadamard to both qubits.\n",
    "qc.h(q[0])\n",
    "qc.h(q[1])\n",
    "\n",
    "# measure both qubits\n",
    "qc.measure(q,c)\n",
    "\n",
    "# draw the circuit in Qiskit reading order\n",
    "display(qc.draw(output='mpl'))\n",
    "\n",
    "# execute the circuit 100 times in the local simulator\n",
    "job = execute(qc,Aer.get_backend('qasm_simulator'),shots=100)\n",
    "counts = job.result().get_counts(qc)\n",
    "print(counts)"
   ]
  },
  {
   "cell_type": "markdown",
   "metadata": {},
   "source": [
    "<a id=\"task2\"></a>\n",
    "<h3> Task 2 </h3>\n",
    "\n",
    "Create a curcuit with 7 qubits, say $ q[6],\\ldots,q[0] $ in the reading order of Qiskit.\n",
    "\n",
    "Set the states of the top six qubits to $ \\ket{0} $.\n",
    "\n",
    "Set the state of the bottom qubit to $ \\ket{1} $.\n",
    "\n",
    "Apply Hadamard operators to all qubits.\n",
    "\n",
    "Apply CNOT operator ($q[1]$,$q[0]$) \n",
    "<br>\n",
    "Apply CNOT operator ($q[4]$,$q[0]$) \n",
    "<br>\n",
    "Apply CNOT operator ($q[5]$,$q[0]$) \n",
    "\n",
    "Apply Hadamard operators to all qubits.\n",
    "\n",
    "Measure all qubits. \n",
    "\n",
    "For each CNOT operator, is there a phase-kickback effect?"
   ]
  },
  {
   "cell_type": "markdown",
   "metadata": {},
   "source": [
    "<h3> Solution </h3>"
   ]
  },
  {
   "cell_type": "code",
   "execution_count": 3,
   "metadata": {},
   "outputs": [
    {
     "data": {
      "text/html": [
       "<pre style=\"word-wrap: normal;white-space: pre;background: #fff0;line-height: 1.1;font-family: &quot;Courier New&quot;,Courier,monospace\">      ┌───┐ ░ ┌───┐ ░ ┌───┐┌───┐┌───┐ ░ ┌───┐ ░ ┌─┐                  \n",
       " q_0: ┤ X ├─░─┤ H ├─░─┤ X ├┤ X ├┤ X ├─░─┤ H ├─░─┤M├──────────────────\n",
       "      └───┘ ░ ├───┤ ░ └─┬─┘└─┬─┘└─┬─┘ ░ ├───┤ ░ └╥┘┌─┐               \n",
       " q_1: ──────░─┤ H ├─░───■────┼────┼───░─┤ H ├─░──╫─┤M├───────────────\n",
       "            ░ ├───┤ ░        │    │   ░ ├───┤ ░  ║ └╥┘┌─┐            \n",
       " q_2: ──────░─┤ H ├─░────────┼────┼───░─┤ H ├─░──╫──╫─┤M├────────────\n",
       "            ░ ├───┤ ░        │    │   ░ ├───┤ ░  ║  ║ └╥┘┌─┐         \n",
       " q_3: ──────░─┤ H ├─░────────┼────┼───░─┤ H ├─░──╫──╫──╫─┤M├─────────\n",
       "            ░ ├───┤ ░        │    │   ░ ├───┤ ░  ║  ║  ║ └╥┘┌─┐      \n",
       " q_4: ──────░─┤ H ├─░────────■────┼───░─┤ H ├─░──╫──╫──╫──╫─┤M├──────\n",
       "            ░ ├───┤ ░             │   ░ ├───┤ ░  ║  ║  ║  ║ └╥┘┌─┐   \n",
       " q_5: ──────░─┤ H ├─░─────────────■───░─┤ H ├─░──╫──╫──╫──╫──╫─┤M├───\n",
       "            ░ ├───┤ ░                 ░ ├───┤ ░  ║  ║  ║  ║  ║ └╥┘┌─┐\n",
       " q_6: ──────░─┤ H ├─░─────────────────░─┤ H ├─░──╫──╫──╫──╫──╫──╫─┤M├\n",
       "            ░ └───┘ ░                 ░ └───┘ ░  ║  ║  ║  ║  ║  ║ └╥┘\n",
       "c0: 7/═══════════════════════════════════════════╩══╩══╩══╩══╩══╩══╩═\n",
       "                                                 0  1  2  3  4  5  6 </pre>"
      ],
      "text/plain": [
       "      ┌───┐ ░ ┌───┐ ░ ┌───┐┌───┐┌───┐ ░ ┌───┐ ░ ┌─┐                  \n",
       " q_0: ┤ X ├─░─┤ H ├─░─┤ X ├┤ X ├┤ X ├─░─┤ H ├─░─┤M├──────────────────\n",
       "      └───┘ ░ ├───┤ ░ └─┬─┘└─┬─┘└─┬─┘ ░ ├───┤ ░ └╥┘┌─┐               \n",
       " q_1: ──────░─┤ H ├─░───■────┼────┼───░─┤ H ├─░──╫─┤M├───────────────\n",
       "            ░ ├───┤ ░        │    │   ░ ├───┤ ░  ║ └╥┘┌─┐            \n",
       " q_2: ──────░─┤ H ├─░────────┼────┼───░─┤ H ├─░──╫──╫─┤M├────────────\n",
       "            ░ ├───┤ ░        │    │   ░ ├───┤ ░  ║  ║ └╥┘┌─┐         \n",
       " q_3: ──────░─┤ H ├─░────────┼────┼───░─┤ H ├─░──╫──╫──╫─┤M├─────────\n",
       "            ░ ├───┤ ░        │    │   ░ ├───┤ ░  ║  ║  ║ └╥┘┌─┐      \n",
       " q_4: ──────░─┤ H ├─░────────■────┼───░─┤ H ├─░──╫──╫──╫──╫─┤M├──────\n",
       "            ░ ├───┤ ░             │   ░ ├───┤ ░  ║  ║  ║  ║ └╥┘┌─┐   \n",
       " q_5: ──────░─┤ H ├─░─────────────■───░─┤ H ├─░──╫──╫──╫──╫──╫─┤M├───\n",
       "            ░ ├───┤ ░                 ░ ├───┤ ░  ║  ║  ║  ║  ║ └╥┘┌─┐\n",
       " q_6: ──────░─┤ H ├─░─────────────────░─┤ H ├─░──╫──╫──╫──╫──╫──╫─┤M├\n",
       "            ░ └───┘ ░                 ░ └───┘ ░  ║  ║  ║  ║  ║  ║ └╥┘\n",
       "c0: 7/═══════════════════════════════════════════╩══╩══╩══╩══╩══╩══╩═\n",
       "                                                 0  1  2  3  4  5  6 "
      ]
     },
     "metadata": {},
     "output_type": "display_data"
    },
    {
     "name": "stdout",
     "output_type": "stream",
     "text": [
      "{'0110011': 100}\n"
     ]
    }
   ],
   "source": [
    "# import all necessary objects and methods for quantum circuits\n",
    "from qiskit import QuantumRegister, ClassicalRegister, QuantumCircuit, execute, Aer\n",
    "\n",
    "# Create a circuit with 7 qubits.\n",
    "q =  QuantumRegister(7,\"q\") # quantum register with 7 qubits\n",
    "c = ClassicalRegister(7) # classical register with 7 bits\n",
    "\n",
    "qc = QuantumCircuit(q,c) # quantum circuit with quantum and classical registers\n",
    "\n",
    "# the top six qubits are already in |0>\n",
    "\n",
    "# set the bottom qubit to |1>\n",
    "qc.x(0) # apply x-gate (NOT operator)\n",
    "\n",
    "# define a barrier\n",
    "qc.barrier()\n",
    "\n",
    "# apply Hadamard to all qubits.\n",
    "for i in range(7):\n",
    "    qc.h(q[i])\n",
    "\n",
    "    # define a barrier\n",
    "qc.barrier()\n",
    "\n",
    "\n",
    "# apply CNOT operator (q[1],q[0]) \n",
    "# apply CNOT operator (q[4],q[0]) \n",
    "# apply CNOT operator (q[5],q[0]) \n",
    "qc.cx(q[1],q[0])\n",
    "qc.cx(q[4],q[0])\n",
    "qc.cx(q[5],q[0])\n",
    "\n",
    "# define a barrier\n",
    "qc.barrier()\n",
    "\n",
    "\n",
    "# apply Hadamard to all qubits.\n",
    "for i in range(7):\n",
    "    qc.h(q[i])\n",
    "\n",
    "# define a barrier\n",
    "qc.barrier()\n",
    "\n",
    "# measure all qubits\n",
    "qc.measure(q,c)\n",
    "\n",
    "# draw the circuit in Qiskit reading order\n",
    "display(qc.draw())\n",
    "\n",
    "# execute the circuit 100 times in the local simulator\n",
    "job = execute(qc,Aer.get_backend('qasm_simulator'),shots=100)\n",
    "counts = job.result().get_counts(qc)\n",
    "print(counts)"
   ]
  }
 ],
 "metadata": {
  "kernelspec": {
   "display_name": "Python 3",
   "language": "python",
   "name": "python3"
  },
  "language_info": {
   "codemirror_mode": {
    "name": "ipython",
    "version": 3
   },
   "file_extension": ".py",
   "mimetype": "text/x-python",
   "name": "python",
   "nbconvert_exporter": "python",
   "pygments_lexer": "ipython3",
   "version": "3.8.3"
  }
 },
 "nbformat": 4,
 "nbformat_minor": 2
}
