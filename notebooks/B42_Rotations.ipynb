{
 "cells": [
  {
   "cell_type": "markdown",
   "metadata": {},
   "source": [
    "<table> <tr>\n",
    "        <td  style=\"background-color:#ffffff;\">\n",
    "            <a href=\"http://qworld.lu.lv\" target=\"_blank\"><img src=\"..\\images\\qworld.jpg\" width=\"25%\" align=\"left\"> </a></td>\n",
    "        <td style=\"background-color:#ffffff;vertical-align:bottom;text-align:right;\">\n",
    "            prepared by <a href=\"http://abu.lu.lv\" target=\"_blank\">Abuzer Yakaryilmaz</a> (<a href=\"http://qworld.lu.lv/index.php/qlatvia/\" target=\"_blank\">QLatvia</a>)\n",
    "        </td>        \n",
    "</tr></table>"
   ]
  },
  {
   "cell_type": "markdown",
   "metadata": {},
   "source": [
    "<table width=\"100%\"><tr><td style=\"color:#bbbbbb;background-color:#ffffff;font-size:11px;font-style:italic;text-align:right;\">This cell contains some macros. If there is a problem with displaying mathematical formulas, please run this cell to load these macros. </td></tr></table>\n",
    "$ \\newcommand{\\bra}[1]{\\langle #1|} $\n",
    "$ \\newcommand{\\ket}[1]{|#1\\rangle} $\n",
    "$ \\newcommand{\\braket}[2]{\\langle #1|#2\\rangle} $\n",
    "$ \\newcommand{\\dot}[2]{ #1 \\cdot #2} $\n",
    "$ \\newcommand{\\biginner}[2]{\\left\\langle #1,#2\\right\\rangle} $\n",
    "$ \\newcommand{\\mymatrix}[2]{\\left( \\begin{array}{#1} #2\\end{array} \\right)} $\n",
    "$ \\newcommand{\\myvector}[1]{\\mymatrix{c}{#1}} $\n",
    "$ \\newcommand{\\myrvector}[1]{\\mymatrix{r}{#1}} $\n",
    "$ \\newcommand{\\mypar}[1]{\\left( #1 \\right)} $\n",
    "$ \\newcommand{\\mybigpar}[1]{ \\Big( #1 \\Big)} $\n",
    "$ \\newcommand{\\sqrttwo}{\\frac{1}{\\sqrt{2}}} $\n",
    "$ \\newcommand{\\dsqrttwo}{\\dfrac{1}{\\sqrt{2}}} $\n",
    "$ \\newcommand{\\onehalf}{\\frac{1}{2}} $\n",
    "$ \\newcommand{\\donehalf}{\\dfrac{1}{2}} $\n",
    "$ \\newcommand{\\hadamard}{ \\mymatrix{rr}{ \\sqrttwo & \\sqrttwo \\\\ \\sqrttwo & -\\sqrttwo }} $\n",
    "$ \\newcommand{\\vzero}{\\myvector{1\\\\0}} $\n",
    "$ \\newcommand{\\vone}{\\myvector{0\\\\1}} $\n",
    "$ \\newcommand{\\stateplus}{\\myvector{ \\sqrttwo \\\\  \\sqrttwo } } $\n",
    "$ \\newcommand{\\stateminus}{ \\myrvector{ \\sqrttwo \\\\ -\\sqrttwo } } $\n",
    "$ \\newcommand{\\myarray}[2]{ \\begin{array}{#1}#2\\end{array}} $\n",
    "$ \\newcommand{\\X}{ \\mymatrix{cc}{0 & 1 \\\\ 1 & 0}  } $\n",
    "$ \\newcommand{\\Z}{ \\mymatrix{rr}{1 & 0 \\\\ 0 & -1}  } $\n",
    "$ \\newcommand{\\Htwo}{ \\mymatrix{rrrr}{ \\frac{1}{2} & \\frac{1}{2} & \\frac{1}{2} & \\frac{1}{2} \\\\ \\frac{1}{2} & -\\frac{1}{2} & \\frac{1}{2} & -\\frac{1}{2} \\\\ \\frac{1}{2} & \\frac{1}{2} & -\\frac{1}{2} & -\\frac{1}{2} \\\\ \\frac{1}{2} & -\\frac{1}{2} & -\\frac{1}{2} & \\frac{1}{2} } } $\n",
    "$ \\newcommand{\\CNOT}{ \\mymatrix{cccc}{1 & 0 & 0 & 0 \\\\ 0 & 1 & 0 & 0 \\\\ 0 & 0 & 0 & 1 \\\\ 0 & 0 & 1 & 0} } $\n",
    "$ \\newcommand{\\norm}[1]{ \\left\\lVert #1 \\right\\rVert } $\n",
    "$ \\newcommand{\\pstate}[1]{ \\lceil \\mspace{-1mu} #1 \\mspace{-1.5mu} \\rfloor } $"
   ]
  },
  {
   "cell_type": "markdown",
   "metadata": {},
   "source": [
    "<h2>Rotations</h2>\n",
    "\n",
    "[Watch Lecture](https://youtu.be/bmrQhASbo34)"
   ]
  },
  {
   "cell_type": "markdown",
   "metadata": {},
   "source": [
    "_We use certain tools from python library \"<b>matplotlib.pyplot</b>\" for drawing. Check the notebook [Python: Drawing](../python/Python06_Drawing.ipynb) for the list of these tools._"
   ]
  },
  {
   "cell_type": "markdown",
   "metadata": {},
   "source": [
    "We start with drawing the quantum states $ \\ket{0} $ and $ \\ket{+} = \\myvector{ \\frac{1}{\\sqrt{2}} \\\\ \\frac{1}{\\sqrt{2}} } $."
   ]
  },
  {
   "cell_type": "markdown",
   "metadata": {},
   "source": [
    "<i style=\"font-size:10pt;\">\n",
    "Our predefined function \"draw_qubit()\" draws a figure, the origin, the axes, the unit circle, and base quantum states.\n",
    "<br>\n",
    "Our predefined function \"draw_quantum_state(x,y,name)\" draws an arrow from (0,0) to (x,y) and associates it with <u>name</u>.\n",
    "<br>\n",
    "We include our predefined functions with the following line of code:\n",
    "    \n",
    "    %run qlatvia.py\n",
    "</i>   "
   ]
  },
  {
   "cell_type": "code",
   "execution_count": 1,
   "metadata": {},
   "outputs": [
    {
     "data": {
      "text/plain": [
       "Text(0.21, 0.09, 'π/4')"
      ]
     },
     "execution_count": 1,
     "metadata": {},
     "output_type": "execute_result"
    },
    {
     "data": {
      "image/png": "[encoded data removed]",
      "text/plain": [
       "<Figure size 360x360 with 1 Axes>"
      ]
     },
     "metadata": {
      "needs_background": "light"
     },
     "output_type": "display_data"
    }
   ],
   "source": [
    "%run qlatvia.py\n",
    "\n",
    "draw_qubit()\n",
    "\n",
    "sqrttwo=2**0.5\n",
    "\n",
    "draw_quantum_state(1,0,\"\")\n",
    "\n",
    "draw_quantum_state(1/sqrttwo,1/sqrttwo,\"|+>\")\n",
    "\n",
    "# drawing the angle with |0>-axis\n",
    "from matplotlib.pyplot import gca, text\n",
    "from matplotlib.patches import Arc\n",
    "gca().add_patch( Arc((0,0),0.4,0.4,angle=0,theta1=0,theta2=45) )\n",
    "text(0.08,0.05,'.',fontsize=30)\n",
    "text(0.21,0.09,'\\u03C0/4')"
   ]
  },
  {
   "cell_type": "markdown",
   "metadata": {},
   "source": [
    "<h3> Task 1 (discussion) </h3>\n",
    "\n",
    "Suppose that we start in state $ \\ket{0} $, and then obtain state $\\ket{+}$ by appling a rotation operator. \n",
    "\n",
    "If we apply the same operator consecutively, what can be the new quantum state?\n",
    "\n",
    "Here are eight candidates:\n",
    "\n",
    "$$\n",
    "    \\myarray{|c|c|c|c|}{\n",
    "        \\hline\n",
    "        A & \\ket{0} = \\vzero & E & \\ket{+} = \\myrvector{\\sqrttwo \\\\ \\sqrttwo}\n",
    "        \\\\ \\hline\n",
    "        B & \\ket{1} = \\vone & F & \\ket{-} = \\myrvector{\\sqrttwo \\\\ -\\sqrttwo}\n",
    "        \\\\ \\hline\n",
    "        C & -\\ket{0} = \\myrvector{-1 \\\\ 0} & G & -\\ket{+} = \\myrvector{-\\sqrttwo \\\\ -\\sqrttwo}\n",
    "        \\\\ \\hline\n",
    "        D & -\\ket{1} = \\myrvector{0 \\\\ -1} & H & -\\ket{-} = \\myrvector{-\\sqrttwo \\\\ \\sqrttwo}\n",
    "        \\\\ \\hline\n",
    "    }\n",
    "$$"
   ]
  },
  {
   "cell_type": "markdown",
   "metadata": {},
   "source": [
    "<h3> Rotation with degree $\\pi/4$ </h3>"
   ]
  },
  {
   "cell_type": "markdown",
   "metadata": {},
   "source": [
    "Its matrix form is similar to Hadamard operator:\n",
    "\n",
    "$$ R(\\pi/4) = \\mymatrix{rr}{\\cos(\\pi/4) & -\\sin(\\pi/4) \\\\ \\sin(\\pi/4) & \\cos(\\pi/4) }\n",
    "= \\mymatrix{rr}{ \\sqrttwo & -\\sqrttwo \\\\  \\sqrttwo & \\sqrttwo} $$."
   ]
  },
  {
   "cell_type": "code",
   "execution_count": null,
   "metadata": {},
   "outputs": [],
   "source": [
    "B"
   ]
  },
  {
   "cell_type": "markdown",
   "metadata": {},
   "source": [
    "<h3> Task 2 </h3>\n",
    "\n",
    "Start with state $ \\ket{0} $. \n",
    "\n",
    "Apply $ R(\\pi/4) $ 7 times, and draw each state on the unit circle."
   ]
  },
  {
   "cell_type": "code",
   "execution_count": 11,
   "metadata": {},
   "outputs": [
    {
     "data": {
      "text/plain": [
       "Text(0.21, 0.09, 'π/4')"
      ]
     },
     "execution_count": 11,
     "metadata": {},
     "output_type": "execute_result"
    },
    {
     "data": {
      "image/png": "[encoded data removed]",
      "text/plain": [
       "<Figure size 360x360 with 1 Axes>"
      ]
     },
     "metadata": {
      "needs_background": "light"
     },
     "output_type": "display_data"
    }
   ],
   "source": [
    "%run qlatvia.py\n",
    "\n",
    "draw_qubit()\n",
    "\n",
    "[x,y]=[1,0]\n",
    "\n",
    "draw_quantum_state(x,y,\"v0\")\n",
    "\n",
    "sqrttwo = 2**0.5\n",
    "oversqrttwo = 1/sqrttwo\n",
    "\n",
    "R = [ [oversqrttwo, -1*oversqrttwo], [oversqrttwo,oversqrttwo] ]\n",
    "\n",
    "def rotate(px,py):\n",
    "    newx = R[0][0]*px + R[0][1]*py\n",
    "    newy = R[1][0]*px + R[1][1]*py\n",
    "    return [newx,newy]\n",
    "\n",
    "for i in range(8):\n",
    "    [x, y] = rotate(x, y)\n",
    "    draw_quantum_state(x, y, \"|\"+str(i+1)+\">\")\n",
    "\n",
    "# drawing the angle with |0>-axis\n",
    "from matplotlib.pyplot import gca, text\n",
    "from matplotlib.patches import Arc\n",
    "gca().add_patch( Arc((0,0),0.4,0.4,angle=0,theta1=0,theta2=45) )\n",
    "text(0.08,0.05,'.',fontsize=30)\n",
    "text(0.21,0.09,'\\u03C0/4') "
   ]
  },
  {
   "cell_type": "markdown",
   "metadata": {},
   "source": [
    "<a href=\"B42_Rotations_Solutions.ipynb#task2\">click for our solution</a>"
   ]
  },
  {
   "cell_type": "markdown",
   "metadata": {},
   "source": [
    "<h3>Reading the quantum state of a circuit</h3>\n",
    "\n",
    "The beckend \"statevector_simulator\" of Qiskit reads the quantum state of the circuit at that point. It is a classical simulator, and, if any measurement operator is defined, it implements this measurement operator and continues by following one of the possible outcomes. \n",
    "\n",
    "We can read the current state of a circuit as follows:\n",
    "\n",
    "    job = execute(quantum_circuit,Aer.get_backend('statevector_simulator'),optimization_level=0)\n",
    "    current_quantum_state = job.result().get_statevector(quantum_circuit)\n",
    "    \n",
    "\"current_quantum_state\" is the list of amplitudes, which are complex numbers. For example, the real part of the amplitide of the first state is printed as follows:\n",
    "\n",
    "    print(current_quantum_state[0].real)"
   ]
  },
  {
   "cell_type": "markdown",
   "metadata": {},
   "source": [
    "<h3> Task 3 </h3>\n",
    "\n",
    "We implement Task 2 by using \"ry-gate\" and \"statevector_simulator\".\n",
    "\n",
    "Define a quantum circuit with one qubit. \n",
    "\n",
    "Iterate seven times\n",
    "- Apply the rotation with angle $ \\pi \\over 4 $ by using ry-gate\n",
    "- Read the current quantum state\n",
    "- Print the current quantum state\n",
    "- Draw the quantum state on the unit circle by using the values of the current quantum state"
   ]
  },
  {
   "cell_type": "code",
   "execution_count": 18,
   "metadata": {},
   "outputs": [
    {
     "name": "stdout",
     "output_type": "stream",
     "text": [
      "iteration 0 : the quantum state is ( 0.707 ) |0> +( 0.707 ) |1>\n",
      "iteration 1 : the quantum state is ( 0.0 ) |0> +( 1.0 ) |1>\n",
      "iteration 2 : the quantum state is ( -0.707 ) |0> +( 0.707 ) |1>\n",
      "iteration 3 : the quantum state is ( -1.0 ) |0> +( 0.0 ) |1>\n",
      "iteration 4 : the quantum state is ( -0.707 ) |0> +( -0.707 ) |1>\n",
      "iteration 5 : the quantum state is ( -0.0 ) |0> +( -1.0 ) |1>\n",
      "iteration 6 : the quantum state is ( 0.707 ) |0> +( -0.707 ) |1>\n"
     ]
    },
    {
     "data": {
      "image/png": "[encoded data removed]",
      "text/plain": [
       "<Figure size 360x360 with 1 Axes>"
      ]
     },
     "metadata": {
      "needs_background": "light"
     },
     "output_type": "display_data"
    }
   ],
   "source": [
    "%run qlatvia.py\n",
    "\n",
    "from qiskit import Aer, execute, QuantumCircuit, QuantumRegister, ClassicalRegister\n",
    "from math import pi\n",
    "\n",
    "draw_qubit()\n",
    "\n",
    "[x,y]=[1,0]\n",
    "\n",
    "draw_quantum_state(x,y,\"v0\")\n",
    "\n",
    "#\n",
    "# your code is here\n",
    "#\n",
    "#\n",
    "\n",
    "rotation = pi/4\n",
    "q = QuantumRegister(1, 'qr')\n",
    "c = ClassicalRegister(1, 'cr')\n",
    "qc = QuantumCircuit(q, c)\n",
    "\n",
    "for i in range(7):\n",
    "    qc.ry(2*rotation, q[0])\n",
    "\n",
    "    job = execute(qc,Aer.get_backend('statevector_simulator'),optimization_level=0)\n",
    "    current_quantum_state = job.result().get_statevector(qc)\n",
    "\n",
    "    x = current_quantum_state[0].real\n",
    "    y = current_quantum_state[1].real\n",
    "    print(\"iteration\",i,\": the quantum state is (\",round(x,3),\") |0>\",\"+(\",round(y,3),\") |1>\")\n",
    "    \n",
    "    draw_quantum_state(x,y,\"|v\"+str(i)+\">\")"
   ]
  },
  {
   "cell_type": "markdown",
   "metadata": {},
   "source": [
    "<a href=\"B42_Rotations_Solutions.ipynb#task3\">click for our solution</a>"
   ]
  },
  {
   "cell_type": "markdown",
   "metadata": {},
   "source": [
    "<h3> Rotation with degree $\\theta$ </h3>"
   ]
  },
  {
   "cell_type": "markdown",
   "metadata": {},
   "source": [
    "The matrix form of a rotation is as follows:\n",
    "\n",
    "$$ R(\\theta) = \\mymatrix{rr}{\\cos(\\theta) & -\\sin(\\theta) \\\\ \\sin(\\theta) & \\cos(\\theta) }, $$\n",
    "\n",
    "where $ \\theta $ is the angle of rotation (in counter-clockwise direction)."
   ]
  },
  {
   "cell_type": "markdown",
   "metadata": {},
   "source": [
    "<h3> Task 4 </h3>\n",
    "\n",
    "Repeat Task 3 for the angle $ \\pi/6 $ by applying the rotation 12 times. \n",
    "\n",
    "Repeat Task 3 for the angle $ 3\\pi/8 $ by applying the rotation 16 times. \n",
    "\n",
    "Repeat Task 3 for the angle $ \\sqrt{2}\\pi $ by applying the rotation 20 times. "
   ]
  },
  {
   "cell_type": "code",
   "execution_count": 24,
   "metadata": {},
   "outputs": [
    {
     "name": "stdout",
     "output_type": "stream",
     "text": [
      "iteration 0 : the quantum state is ( -0.266 ) |0> +( -0.964 ) |1>\n",
      "iteration 1 : the quantum state is ( -0.858 ) |0> +( 0.513 ) |1>\n",
      "iteration 2 : the quantum state is ( 0.723 ) |0> +( 0.691 ) |1>\n",
      "iteration 3 : the quantum state is ( 0.473 ) |0> +( -0.881 ) |1>\n",
      "iteration 4 : the quantum state is ( -0.975 ) |0> +( -0.221 ) |1>\n",
      "iteration 5 : the quantum state is ( 0.046 ) |0> +( 0.999 ) |1>\n",
      "iteration 6 : the quantum state is ( 0.951 ) |0> +( -0.311 ) |1>\n",
      "iteration 7 : the quantum state is ( -0.552 ) |0> +( -0.834 ) |1>\n",
      "iteration 8 : the quantum state is ( -0.656 ) |0> +( 0.754 ) |1>\n",
      "iteration 9 : the quantum state is ( 0.902 ) |0> +( 0.432 ) |1>\n",
      "iteration 10 : the quantum state is ( 0.176 ) |0> +( -0.984 ) |1>\n",
      "iteration 11 : the quantum state is ( -0.996 ) |0> +( 0.092 ) |1>\n",
      "iteration 12 : the quantum state is ( 0.354 ) |0> +( 0.935 ) |1>\n",
      "iteration 13 : the quantum state is ( 0.807 ) |0> +( -0.59 ) |1>\n",
      "iteration 14 : the quantum state is ( -0.784 ) |0> +( -0.621 ) |1>\n",
      "iteration 15 : the quantum state is ( -0.39 ) |0> +( 0.921 ) |1>\n",
      "iteration 16 : the quantum state is ( 0.991 ) |0> +( 0.13 ) |1>\n",
      "iteration 17 : the quantum state is ( -0.138 ) |0> +( -0.99 ) |1>\n",
      "iteration 18 : the quantum state is ( -0.918 ) |0> +( 0.397 ) |1>\n",
      "iteration 19 : the quantum state is ( 0.627 ) |0> +( 0.779 ) |1>\n"
     ]
    },
    {
     "data": {
      "image/png": "[encoded data removed]",
      "text/plain": [
       "<Figure size 360x360 with 1 Axes>"
      ]
     },
     "metadata": {
      "needs_background": "light"
     },
     "output_type": "display_data"
    }
   ],
   "source": [
    "%run qlatvia.py\n",
    "\n",
    "from qiskit import Aer, execute, QuantumCircuit, QuantumRegister, ClassicalRegister\n",
    "from math import pi, sqrt\n",
    "\n",
    "draw_qubit()\n",
    "\n",
    "[x,y]=[1,0]\n",
    "\n",
    "draw_quantum_state(x,y,\"v0\")\n",
    "\n",
    "#\n",
    "# your code is here\n",
    "#\n",
    "#\n",
    "\n",
    "types = [\n",
    "    (pi/6, 12)\n",
    "#     ,\n",
    "#     (3*pi/8, 16)\n",
    "#     , \n",
    "#     (sqrt(2)*pi, 20)\n",
    "]\n",
    "\n",
    "for (rotation, times) in types:\n",
    "    q = QuantumRegister(1, 'qr')\n",
    "    c = ClassicalRegister(1, 'cr')\n",
    "    qc = QuantumCircuit(q, c)\n",
    "\n",
    "    for i in range(times):\n",
    "        qc.ry(2*rotation, q[0])\n",
    "\n",
    "        job = execute(qc,Aer.get_backend('statevector_simulator'),optimization_level=0)\n",
    "        current_quantum_state = job.result().get_statevector(qc)\n",
    "\n",
    "        x = current_quantum_state[0].real\n",
    "        y = current_quantum_state[1].real\n",
    "        print(\"iteration\",i,\": the quantum state is (\",round(x,3),\") |0>\",\"+(\",round(y,3),\") |1>\")\n",
    "\n",
    "        draw_quantum_state(x,y,\"|v\"+str(i)+\">\")"
   ]
  },
  {
   "cell_type": "markdown",
   "metadata": {},
   "source": [
    "<a href=\"B42_Rotations_Solutions.ipynb#task4\">click for our solution</a>"
   ]
  },
  {
   "cell_type": "markdown",
   "metadata": {},
   "source": [
    "<h3> Task 5 (discussion) </h3>\n",
    "\n",
    "Let define a rotation angle as $ \\theta_\\alpha = \\alpha \\cdot (2\\pi) $.\n",
    "\n",
    "When starting in state $ \\ket{0} $ and applying the rotation with angle $ \\theta_\\alpha $ arbitrarily many times, the state $ \\ket{0} $ can be visited again or not? \n",
    "- For which values of $\\alpha$ will the state $\\ket{0}$ be visited?\n",
    "- For which values of $\\alpha$ will the state $\\ket{0}$  never be visited?"
   ]
  },
  {
   "cell_type": "markdown",
   "metadata": {},
   "source": [
    "<h3> Task 6 </h3>\n",
    "\n",
    "We randomly pick an angle $ \\theta \\in [0,2\\pi) $.\n",
    "\n",
    "We have two separate qubits initially set to state $ \\ket{0} $. \n",
    "\n",
    "The first qubit is rotated by the angle $ \\theta $ and the second qubit is rotated by the angle $ \\theta + \\pi/2 $.\n",
    "\n",
    "Implement each qubit and its rotation as a separate quantum circuit.\n",
    "\n",
    "Then, read both quantum states and calculate their dot product.\n",
    "\n",
    "Check the result of the dot product for different random angles."
   ]
  },
  {
   "cell_type": "code",
   "execution_count": 31,
   "metadata": {},
   "outputs": [
    {
     "name": "stdout",
     "output_type": "stream",
     "text": [
      "angle 264.6\n",
      "dot product 6.938893903907228e-17\n",
      "x1 , y1 = -0.09411 -0.99556\n",
      "x2 , y2 = 0.99556 -0.09411\n",
      "\n"
     ]
    }
   ],
   "source": [
    "from random import randrange\n",
    "angle = randrange(3600)/10\n",
    "\n",
    "r1 = angle/360*2*pi\n",
    "r2 = r1 + pi/2\n",
    "\n",
    "q1 =  QuantumRegister(1) \n",
    "c1 = ClassicalRegister(1) \n",
    "qc1 = QuantumCircuit(q1,c1)\n",
    "\n",
    "q2 =  QuantumRegister(1) \n",
    "c2 = ClassicalRegister(1) \n",
    "qc2 = QuantumCircuit(q2,c2)\n",
    "\n",
    "\n",
    "qc1.ry(2 * r1,q1[0])\n",
    "qc2.ry(2 * r2,q2[0])\n",
    "\n",
    "job = execute(qc1,Aer.get_backend('statevector_simulator'),optimization_level=0)\n",
    "cs1 = job.result().get_statevector(qc1) \n",
    "[x1,y1]=[cs1[0].real, cs1[1].real]\n",
    "\n",
    "job = execute(qc2,Aer.get_backend('statevector_simulator'),optimization_level=0)\n",
    "cs2=job.result().get_statevector(qc2) \n",
    "[x2,y2]=[cs2[0].real, cs2[1].real]\n",
    "\n",
    "print(\"angle\",angle)\n",
    "print(\"dot product\", x1*x2+y1*y2)\n",
    "print(\"x1 , y1 =\",round(x1,5),round(y1,5))\n",
    "print(\"x2 , y2 =\",round(x2,5),round(y2,5))\n",
    "print()"
   ]
  },
  {
   "cell_type": "markdown",
   "metadata": {},
   "source": [
    "<a href=\"B42_Rotations_Solutions.ipynb#task6\">click for our solution</a>"
   ]
  },
  {
   "cell_type": "markdown",
   "metadata": {},
   "source": [
    "<h3> Task 7 </h3>\n",
    "\n",
    "We randomly pick an angle $ \\theta \\in [0,2\\pi) $.\n",
    "\n",
    "We have a single qubit initially set to state $ \\ket{0} $. \n",
    "\n",
    "The qubit is rotated by the angle either $ \\theta_1 =  \\theta $ or $ \\theta_2 =  \\theta-\\pi/2 $.\n",
    "\n",
    "You are allow to do one more rotation $ \\theta' $ and then make a measurement.\n",
    "\n",
    "Can you determine the angle of the first rotation angle by looking/using the measurement result? Is it $ \\theta_1 $ or $ \\theta_2 $?\n",
    "\n",
    "Check your solution for different random angles."
   ]
  },
  {
   "cell_type": "code",
   "execution_count": 34,
   "metadata": {},
   "outputs": [
    {
     "name": "stdout",
     "output_type": "stream",
     "text": [
      "{'0': 100}\n",
      "your guess is theta1\n",
      "picked_angle is theta1\n"
     ]
    }
   ],
   "source": [
    "from random import randrange\n",
    "from math import pi\n",
    "from qiskit import QuantumRegister, ClassicalRegister, QuantumCircuit, execute, Aer\n",
    "\n",
    "random_angle = randrange(3600)/10\n",
    "rotation_angle1 = random_angle/360*2*pi\n",
    "rotation_angle2 = rotation_angle1 - pi/2\n",
    "\n",
    "# we define a quantum circuit with one qubit and one bit\n",
    "q =  QuantumRegister(1) # quantum register with a single qubit\n",
    "c = ClassicalRegister(1) # classical register with a single bit\n",
    "qc = QuantumCircuit(q,c) # quantum circuit with quantum and classical registers\n",
    "\n",
    "if randrange(2)==0:\n",
    "    qc.ry(2 * rotation_angle1,q[0])\n",
    "    picked_angle = \"theta1\"\n",
    "else:\n",
    "    qc.ry(2 * rotation_angle2,q[0])\n",
    "    picked_angle = \"theta2\"\n",
    "\n",
    "#\n",
    "# your code is here\n",
    "#\n",
    "qc.ry(-2 * rotation_angle1,q[0])\n",
    "qc.measure(q, c)\n",
    "job = execute(qc,Aer.get_backend('qasm_simulator'),shots=100)\n",
    "counts = job.result().get_counts(qc)\n",
    "print(counts)\n",
    "\n",
    "######################\n",
    "print(\"your guess is\",\"theta1\" if '0' in counts else \"theta2\")\n",
    "print(\"picked_angle is\",picked_angle)"
   ]
  },
  {
   "cell_type": "markdown",
   "metadata": {},
   "source": [
    "<a href=\"B42_Rotations_Solutions.ipynb#task7\">click for our solution</a>"
   ]
  },
  {
   "cell_type": "code",
   "execution_count": null,
   "metadata": {},
   "outputs": [],
   "source": []
  }
 ],
 "metadata": {
  "kernelspec": {
   "display_name": "Python 3",
   "language": "python",
   "name": "python3"
  },
  "language_info": {
   "codemirror_mode": {
    "name": "ipython",
    "version": 3
   },
   "file_extension": ".py",
   "mimetype": "text/x-python",
   "name": "python",
   "nbconvert_exporter": "python",
   "pygments_lexer": "ipython3",
   "version": "3.8.3"
  }
 },
 "nbformat": 4,
 "nbformat_minor": 2
}
