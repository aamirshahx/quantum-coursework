{
 "cells": [
  {
   "cell_type": "markdown",
   "metadata": {},
   "source": [
    "<table> <tr>\n",
    "        <td  style=\"background-color:#ffffff;\">\n",
    "            <a href=\"http://qworld.lu.lv\" target=\"_blank\"><img src=\"..\\images\\qworld.jpg\" width=\"25%\" align=\"left\"> </a></td>\n",
    "        <td style=\"background-color:#ffffff;vertical-align:bottom;text-align:right;\">\n",
    "            prepared by <a href=\"http://abu.lu.lv\" target=\"_blank\">Abuzer Yakaryilmaz</a> (<a href=\"http://qworld.lu.lv/index.php/qlatvia/\" target=\"_blank\">QLatvia</a>)\n",
    "        </td>        \n",
    "</tr></table>"
   ]
  },
  {
   "cell_type": "markdown",
   "metadata": {},
   "source": [
    "<table width=\"100%\"><tr><td style=\"color:#bbbbbb;background-color:#ffffff;font-size:11px;font-style:italic;text-align:right;\">This cell contains some macros. If there is a problem with displaying mathematical formulas, please run this cell to load these macros. </td></tr></table>\n",
    "$ \\newcommand{\\bra}[1]{\\langle #1|} $\n",
    "$ \\newcommand{\\ket}[1]{|#1\\rangle} $\n",
    "$ \\newcommand{\\braket}[2]{\\langle #1|#2\\rangle} $\n",
    "$ \\newcommand{\\dot}[2]{ #1 \\cdot #2} $\n",
    "$ \\newcommand{\\biginner}[2]{\\left\\langle #1,#2\\right\\rangle} $\n",
    "$ \\newcommand{\\mymatrix}[2]{\\left( \\begin{array}{#1} #2\\end{array} \\right)} $\n",
    "$ \\newcommand{\\myvector}[1]{\\mymatrix{c}{#1}} $\n",
    "$ \\newcommand{\\myrvector}[1]{\\mymatrix{r}{#1}} $\n",
    "$ \\newcommand{\\mypar}[1]{\\left( #1 \\right)} $\n",
    "$ \\newcommand{\\mybigpar}[1]{ \\Big( #1 \\Big)} $\n",
    "$ \\newcommand{\\sqrttwo}{\\frac{1}{\\sqrt{2}}} $\n",
    "$ \\newcommand{\\dsqrttwo}{\\dfrac{1}{\\sqrt{2}}} $\n",
    "$ \\newcommand{\\onehalf}{\\frac{1}{2}} $\n",
    "$ \\newcommand{\\donehalf}{\\dfrac{1}{2}} $\n",
    "$ \\newcommand{\\hadamard}{ \\mymatrix{rr}{ \\sqrttwo & \\sqrttwo \\\\ \\sqrttwo & -\\sqrttwo }} $\n",
    "$ \\newcommand{\\vzero}{\\myvector{1\\\\0}} $\n",
    "$ \\newcommand{\\vone}{\\myvector{0\\\\1}} $\n",
    "$ \\newcommand{\\stateplus}{\\myvector{ \\sqrttwo \\\\  \\sqrttwo } } $\n",
    "$ \\newcommand{\\stateminus}{ \\myrvector{ \\sqrttwo \\\\ -\\sqrttwo } } $\n",
    "$ \\newcommand{\\myarray}[2]{ \\begin{array}{#1}#2\\end{array}} $\n",
    "$ \\newcommand{\\X}{ \\mymatrix{cc}{0 & 1 \\\\ 1 & 0}  } $\n",
    "$ \\newcommand{\\I}{ \\mymatrix{rr}{1 & 0 \\\\ 0 & 1}  } $\n",
    "$ \\newcommand{\\Z}{ \\mymatrix{rr}{1 & 0 \\\\ 0 & -1}  } $\n",
    "$ \\newcommand{\\Htwo}{ \\mymatrix{rrrr}{ \\frac{1}{2} & \\frac{1}{2} & \\frac{1}{2} & \\frac{1}{2} \\\\ \\frac{1}{2} & -\\frac{1}{2} & \\frac{1}{2} & -\\frac{1}{2} \\\\ \\frac{1}{2} & \\frac{1}{2} & -\\frac{1}{2} & -\\frac{1}{2} \\\\ \\frac{1}{2} & -\\frac{1}{2} & -\\frac{1}{2} & \\frac{1}{2} } } $\n",
    "$ \\newcommand{\\CNOT}{ \\mymatrix{cccc}{1 & 0 & 0 & 0 \\\\ 0 & 1 & 0 & 0 \\\\ 0 & 0 & 0 & 1 \\\\ 0 & 0 & 1 & 0} } $\n",
    "$ \\newcommand{\\norm}[1]{ \\left\\lVert #1 \\right\\rVert } $\n",
    "$ \\newcommand{\\pstate}[1]{ \\lceil \\mspace{-1mu} #1 \\mspace{-1.5mu} \\rfloor } $"
   ]
  },
  {
   "cell_type": "markdown",
   "metadata": {},
   "source": [
    "<h2>Inversion About the Mean</h2>\n",
    "\n",
    "[Watch Lecture](https://youtu.be/RIL2lAwraUA)"
   ]
  },
  {
   "cell_type": "markdown",
   "metadata": {},
   "source": [
    "We play a simple game to give some ideas about how Grover's search algorithm works.\n",
    "\n",
    "We have a list of N elements. \n",
    "\n",
    "Some of them are marked.\n",
    "\n",
    "At the beginning each has a value of 1.\n",
    "\n",
    " Each iteration of the game has two phases:\n",
    "\n",
    "<ol>\n",
    "    <li><b>Query</b>: In this phase, we assume that each marked element is detected, and then its sign is flipped.</li>\n",
    "    <li><b>Inversion</b>: In this phase, the value of each element is reflected over the mean of all values.</li>\n",
    "</ol>"
   ]
  },
  {
   "cell_type": "markdown",
   "metadata": {},
   "source": [
    "<h3>Task 1</h3>\n",
    "\n",
    "We play this game for $ N = 8 $.\n",
    "\n",
    "Suppose that only the 4th element is marked.\n",
    "\n",
    "We can visualize the values of elements in the list in the beginning as follows."
   ]
  },
  {
   "cell_type": "code",
   "execution_count": 77,
   "metadata": {},
   "outputs": [
    {
     "data": {
      "text/plain": [
       "<BarContainer object of 8 artists>"
      ]
     },
     "execution_count": 77,
     "metadata": {},
     "output_type": "execute_result"
    },
    {
     "data": {
      "image/png": "[encoded data removed]",
      "text/plain": [
       "<Figure size 432x288 with 1 Axes>"
      ]
     },
     "metadata": {
      "needs_background": "light"
     },
     "output_type": "display_data"
    }
   ],
   "source": [
    "from matplotlib.pyplot import bar\n",
    "\n",
    "labels = []\n",
    "elements = []\n",
    "for i in range(8):\n",
    "    labels = labels + [i+1]\n",
    "    elements  = elements + [1]\n",
    "# visualize the values of elements in the list \n",
    "bar(labels,elements)"
   ]
  },
  {
   "cell_type": "markdown",
   "metadata": {},
   "source": [
    "Iterate the game for one step and visualize the values of elements in the list after each phase."
   ]
  },
  {
   "cell_type": "markdown",
   "metadata": {},
   "source": [
    "1st step - query phase:"
   ]
  },
  {
   "cell_type": "code",
   "execution_count": 78,
   "metadata": {},
   "outputs": [
    {
     "data": {
      "text/plain": [
       "<BarContainer object of 8 artists>"
      ]
     },
     "execution_count": 78,
     "metadata": {},
     "output_type": "execute_result"
    },
    {
     "data": {
      "image/png": "[encoded data removed]",
      "text/plain": [
       "<Figure size 432x288 with 1 Axes>"
      ]
     },
     "metadata": {
      "needs_background": "light"
     },
     "output_type": "display_data"
    }
   ],
   "source": [
    "# \n",
    "# 1st step - query\n",
    "#\n",
    "targetIdx = 3\n",
    "\n",
    "def flag(elements, idx):\n",
    "    elements[idx] = elements[idx] * -1\n",
    "# change the sign of the marked element, i.e., multiply it by -1\n",
    "flag(elements, targetIdx)\n",
    "\n",
    "# visualize the values of elements in the list \n",
    "bar(labels,elements)"
   ]
  },
  {
   "cell_type": "markdown",
   "metadata": {},
   "source": [
    "1st step - inversion phase:"
   ]
  },
  {
   "cell_type": "code",
   "execution_count": 79,
   "metadata": {},
   "outputs": [
    {
     "data": {
      "text/plain": [
       "<BarContainer object of 8 artists>"
      ]
     },
     "execution_count": 79,
     "metadata": {},
     "output_type": "execute_result"
    },
    {
     "data": {
      "image/png": "[encoded data removed]",
      "text/plain": [
       "<Figure size 432x288 with 1 Axes>"
      ]
     },
     "metadata": {
      "needs_background": "light"
     },
     "output_type": "display_data"
    }
   ],
   "source": [
    "#\n",
    "# 1st step - inversion\n",
    "#\n",
    "\n",
    "# calculate the mean of all values \n",
    "\n",
    "# then reflect each element over the mean, e.g.:\n",
    "#   if the mean is 0, then the reflection of 3 is -3\n",
    "#   if the mean is 1, then the reflection of 3 is -1\n",
    "#   if the mean is -1, then the reflection of 3 is -5\n",
    "def inversion(elements):\n",
    "    sum = 0\n",
    "    for e in elements:\n",
    "        sum += e\n",
    "\n",
    "    avg = sum/len(elements)\n",
    "\n",
    "    for i in range(len(elements)):\n",
    "        elements[i] = avg - (elements[i] - avg)\n",
    "    \n",
    "inversion(elements)\n",
    "# visualize the values of elements in the list \n",
    "bar(labels,elements)"
   ]
  },
  {
   "cell_type": "markdown",
   "metadata": {},
   "source": [
    "Iterate the game for one more step and visualize the values of elements in the list after each phase."
   ]
  },
  {
   "cell_type": "markdown",
   "metadata": {},
   "source": [
    "2nd step - query phase:"
   ]
  },
  {
   "cell_type": "code",
   "execution_count": 80,
   "metadata": {},
   "outputs": [
    {
     "data": {
      "text/plain": [
       "<BarContainer object of 8 artists>"
      ]
     },
     "execution_count": 80,
     "metadata": {},
     "output_type": "execute_result"
    },
    {
     "data": {
      "image/png": "[encoded data removed]",
      "text/plain": [
       "<Figure size 432x288 with 1 Axes>"
      ]
     },
     "metadata": {
      "needs_background": "light"
     },
     "output_type": "display_data"
    }
   ],
   "source": [
    "# \n",
    "# 2nd step - query\n",
    "#\n",
    "flag(elements, targetIdx)\n",
    "\n",
    "# visualize the values of elements in the list \n",
    "bar(labels,elements)"
   ]
  },
  {
   "cell_type": "markdown",
   "metadata": {},
   "source": [
    "2nd step - inversion phase:"
   ]
  },
  {
   "cell_type": "code",
   "execution_count": 81,
   "metadata": {},
   "outputs": [
    {
     "data": {
      "text/plain": [
       "<BarContainer object of 8 artists>"
      ]
     },
     "execution_count": 81,
     "metadata": {},
     "output_type": "execute_result"
    },
    {
     "data": {
      "image/png": "[encoded data removed]",
      "text/plain": [
       "<Figure size 432x288 with 1 Axes>"
      ]
     },
     "metadata": {
      "needs_background": "light"
     },
     "output_type": "display_data"
    }
   ],
   "source": [
    "#\n",
    "# 2nd step - inversion\n",
    "#\n",
    "inversion(elements)\n",
    "\n",
    "# visualize the values of elements in the list \n",
    "bar(labels,elements)"
   ]
  },
  {
   "cell_type": "markdown",
   "metadata": {},
   "source": [
    "Iterate the game three more steps and visualize the values of elements in the list at the end."
   ]
  },
  {
   "cell_type": "code",
   "execution_count": 82,
   "metadata": {},
   "outputs": [
    {
     "data": {
      "text/plain": [
       "<BarContainer object of 8 artists>"
      ]
     },
     "execution_count": 82,
     "metadata": {},
     "output_type": "execute_result"
    },
    {
     "data": {
      "image/png": "[encoded data removed]",
      "text/plain": [
       "<Figure size 432x288 with 1 Axes>"
      ]
     },
     "metadata": {
      "needs_background": "light"
     },
     "output_type": "display_data"
    }
   ],
   "source": [
    "#\n",
    "# your code is here\n",
    "#\n",
    "\n",
    "for i in range(3):\n",
    "    flag(elements, targetIdx)\n",
    "    inversion(elements)\n",
    "\n",
    "# visualize the values of elements in the list \n",
    "bar(labels,elements)"
   ]
  },
  {
   "cell_type": "markdown",
   "metadata": {},
   "source": [
    "<a href=\"B80_Inversion_About_the_Mean_Solutions.ipynb#task1\">click for our solution</a>"
   ]
  },
  {
   "cell_type": "markdown",
   "metadata": {},
   "source": [
    "<a id=\"task2\"></a>\n",
    "<h3>Task 2</h3>\n",
    "\n",
    "Write a function called *query* that \n",
    "- takes a list of elements and the list of marked elements,\n",
    "- change the sign of the marked elements, and then\n",
    "- returns the list.\n",
    "\n",
    "Write a function called *inversion* that\n",
    "- takes a list of elements and\n",
    "- reflects the value of each element over the mean of all values, and then\n",
    "- return the list.\n",
    "\n",
    "We iterate the same game given in Task 1 ($ N = 8 $ and the 4th element is the only marked one) 20 steps by using the functions *query* and *inversion*. \n",
    "\n",
    "**This time we trace the values of only the 4th element. We store the values of the 4th element on a list after each step, and then, we display this list as a bar chart.**"
   ]
  },
  {
   "cell_type": "code",
   "execution_count": 83,
   "metadata": {},
   "outputs": [],
   "source": [
    "def query(elements=[1],marked_elements=[0]):\n",
    "    for i in marked_elements:\n",
    "        elements[i] = elements[i] * (-1)\n",
    "    return elements"
   ]
  },
  {
   "cell_type": "code",
   "execution_count": 84,
   "metadata": {},
   "outputs": [],
   "source": [
    "def inversion (elements=[1]):\n",
    "    sum = 0\n",
    "    for i in range(len(elements)):\n",
    "        sum += elements[i]\n",
    "\n",
    "    mean = sum / len(elements)\n",
    "\n",
    "    for i in range(len(elements)):\n",
    "        elements[i] = mean - (elements[i]-mean)\n",
    "\n",
    "    return elements"
   ]
  },
  {
   "cell_type": "code",
   "execution_count": 85,
   "metadata": {},
   "outputs": [
    {
     "data": {
      "image/png": "[encoded data removed]",
      "text/plain": [
       "<Figure size 432x288 with 1 Axes>"
      ]
     },
     "metadata": {
      "needs_background": "light"
     },
     "output_type": "display_data"
    }
   ],
   "source": [
    "from matplotlib.pyplot import bar\n",
    "\n",
    "def game_of_n(el_len, marked_el, steps=20, len_fn=None):\n",
    "    elements = []\n",
    "    for i in range(el_len):\n",
    "        elements = elements + [1]\n",
    "\n",
    "    marked_elements = marked_el\n",
    "    iterations = []\n",
    "    L = []\n",
    "\n",
    "    iterations.append(0)\n",
    "    L.append(elements[marked_elements[0]])\n",
    "\n",
    "    for step in range(steps):\n",
    "        iterations.append(step+1)    \n",
    "        elements = query(elements,marked_elements)\n",
    "        if (len_fn != None):\n",
    "            print('Post Query', 'Step:',step, 'len:',len_fn(elements))\n",
    "        \n",
    "        elements = inversion(elements)\n",
    "        \n",
    "        if (len_fn != None):\n",
    "            print('Post Inversion', 'Step:',step, 'len:',len_fn(elements),'\\n')\n",
    "\n",
    "        L.append(elements[marked_elements[0]])\n",
    "\n",
    "    bar(iterations, L)\n",
    "\n",
    "game_of_n(8, [3])"
   ]
  },
  {
   "cell_type": "markdown",
   "metadata": {},
   "source": [
    "<a href=\"B80_Inversion_About_the_Mean_Solutions.ipynb#task2\">click for our solution</a>"
   ]
  },
  {
   "cell_type": "markdown",
   "metadata": {},
   "source": [
    "<h3>Task 3</h3>\n",
    "\n",
    "Repeat Task 2 where $ N = 16 $ and the 11th element is marked."
   ]
  },
  {
   "cell_type": "code",
   "execution_count": 86,
   "metadata": {},
   "outputs": [
    {
     "data": {
      "image/png": "[encoded data removed]",
      "text/plain": [
       "<Figure size 432x288 with 1 Axes>"
      ]
     },
     "metadata": {
      "needs_background": "light"
     },
     "output_type": "display_data"
    }
   ],
   "source": [
    "from matplotlib.pyplot import bar\n",
    "\n",
    "game_of_n(16, [10])"
   ]
  },
  {
   "cell_type": "markdown",
   "metadata": {},
   "source": [
    "<a href=\"B80_Inversion_About_the_Mean_Solutions.ipynb#task3\">click for our solution</a>"
   ]
  },
  {
   "cell_type": "markdown",
   "metadata": {},
   "source": [
    "<h3>Task 4</h3>\n",
    "\n",
    "Repeat Task 3 by tracing only the 5th element where $ N = 16 $ and the 5th, 8th, and 10th elements are marked."
   ]
  },
  {
   "cell_type": "code",
   "execution_count": 87,
   "metadata": {},
   "outputs": [
    {
     "data": {
      "image/png": "[encoded data removed]",
      "text/plain": [
       "<Figure size 432x288 with 1 Axes>"
      ]
     },
     "metadata": {
      "needs_background": "light"
     },
     "output_type": "display_data"
    }
   ],
   "source": [
    "from matplotlib.pyplot import bar\n",
    "\n",
    "game_of_n(16, [5, 8, 10])"
   ]
  },
  {
   "cell_type": "markdown",
   "metadata": {},
   "source": [
    "<a href=\"B80_Inversion_About_the_Mean_Solutions.ipynb#task4\">click for our solution</a>"
   ]
  },
  {
   "cell_type": "markdown",
   "metadata": {},
   "source": [
    "<h3>Task 5</h3>\n",
    "\n",
    "We iterate the same game 20 steps where $ N = 16 $ and the marked elements are the first four elements. \n",
    "\n",
    "Print the length of the list of elements after each query and inversion phases. \n",
    "\n",
    "*Remark that the initial length is $ \\sqrt{ \\sum_{i=1}^{N} 1^2 } = \\sqrt{N} = \\sqrt{16}  =4 $.*"
   ]
  },
  {
   "cell_type": "code",
   "execution_count": 88,
   "metadata": {},
   "outputs": [
    {
     "name": "stdout",
     "output_type": "stream",
     "text": [
      "Post Query Step: 0 len: 4.0\n",
      "Post Inversion Step: 0 len: 4.0 \n",
      "\n",
      "Post Query Step: 1 len: 4.0\n",
      "Post Inversion Step: 1 len: 4.0 \n",
      "\n",
      "Post Query Step: 2 len: 4.0\n",
      "Post Inversion Step: 2 len: 4.0 \n",
      "\n",
      "Post Query Step: 3 len: 4.0\n",
      "Post Inversion Step: 3 len: 4.0 \n",
      "\n",
      "Post Query Step: 4 len: 4.0\n",
      "Post Inversion Step: 4 len: 4.0 \n",
      "\n",
      "Post Query Step: 5 len: 4.0\n",
      "Post Inversion Step: 5 len: 4.0 \n",
      "\n",
      "Post Query Step: 6 len: 4.0\n",
      "Post Inversion Step: 6 len: 4.0 \n",
      "\n",
      "Post Query Step: 7 len: 4.0\n",
      "Post Inversion Step: 7 len: 4.0 \n",
      "\n",
      "Post Query Step: 8 len: 4.0\n",
      "Post Inversion Step: 8 len: 4.0 \n",
      "\n",
      "Post Query Step: 9 len: 4.0\n",
      "Post Inversion Step: 9 len: 4.0 \n",
      "\n",
      "Post Query Step: 10 len: 4.0\n",
      "Post Inversion Step: 10 len: 4.0 \n",
      "\n",
      "Post Query Step: 11 len: 4.0\n",
      "Post Inversion Step: 11 len: 4.0 \n",
      "\n",
      "Post Query Step: 12 len: 4.0\n",
      "Post Inversion Step: 12 len: 4.0 \n",
      "\n",
      "Post Query Step: 13 len: 4.0\n",
      "Post Inversion Step: 13 len: 4.0 \n",
      "\n",
      "Post Query Step: 14 len: 4.0\n",
      "Post Inversion Step: 14 len: 4.0 \n",
      "\n",
      "Post Query Step: 15 len: 4.0\n",
      "Post Inversion Step: 15 len: 4.0 \n",
      "\n",
      "Post Query Step: 16 len: 4.0\n",
      "Post Inversion Step: 16 len: 4.0 \n",
      "\n",
      "Post Query Step: 17 len: 4.0\n",
      "Post Inversion Step: 17 len: 4.0 \n",
      "\n",
      "Post Query Step: 18 len: 4.0\n",
      "Post Inversion Step: 18 len: 4.0 \n",
      "\n",
      "Post Query Step: 19 len: 4.0\n",
      "Post Inversion Step: 19 len: 4.0 \n",
      "\n"
     ]
    },
    {
     "data": {
      "image/png": "[encoded data removed]",
      "text/plain": [
       "<Figure size 432x288 with 1 Axes>"
      ]
     },
     "metadata": {
      "needs_background": "light"
     },
     "output_type": "display_data"
    }
   ],
   "source": [
    "from matplotlib.pyplot import bar\n",
    "\n",
    "def length_of_list (elements=[1]):\n",
    "    sum = 0\n",
    "    for el in elements:\n",
    "        sum = sum + el**2\n",
    "    return round(sum**0.5,3)\n",
    "\n",
    "game_of_n(16, [0,1,2,3], len_fn=length_of_list)"
   ]
  },
  {
   "cell_type": "markdown",
   "metadata": {},
   "source": [
    "<a href=\"B80_Inversion_About_the_Mean_Solutions.ipynb#task5\">click for our solution</a>"
   ]
  },
  {
   "cell_type": "markdown",
   "metadata": {},
   "source": [
    "<h3>Task 6 </h3>\n",
    "\n",
    "Repeat Task 5 where $ N = 10 $ and the last element is marked.\n",
    "\n",
    "*Remark that the initial length is $ \\sqrt{10} $.*"
   ]
  },
  {
   "cell_type": "code",
   "execution_count": 89,
   "metadata": {},
   "outputs": [
    {
     "name": "stdout",
     "output_type": "stream",
     "text": [
      "Post Query Step: 0 len: 3.162\n",
      "Post Inversion Step: 0 len: 3.162 \n",
      "\n",
      "Post Query Step: 1 len: 3.162\n",
      "Post Inversion Step: 1 len: 3.162 \n",
      "\n",
      "Post Query Step: 2 len: 3.162\n",
      "Post Inversion Step: 2 len: 3.162 \n",
      "\n",
      "Post Query Step: 3 len: 3.162\n",
      "Post Inversion Step: 3 len: 3.162 \n",
      "\n",
      "Post Query Step: 4 len: 3.162\n",
      "Post Inversion Step: 4 len: 3.162 \n",
      "\n",
      "Post Query Step: 5 len: 3.162\n",
      "Post Inversion Step: 5 len: 3.162 \n",
      "\n",
      "Post Query Step: 6 len: 3.162\n",
      "Post Inversion Step: 6 len: 3.162 \n",
      "\n",
      "Post Query Step: 7 len: 3.162\n",
      "Post Inversion Step: 7 len: 3.162 \n",
      "\n",
      "Post Query Step: 8 len: 3.162\n",
      "Post Inversion Step: 8 len: 3.162 \n",
      "\n",
      "Post Query Step: 9 len: 3.162\n",
      "Post Inversion Step: 9 len: 3.162 \n",
      "\n",
      "Post Query Step: 10 len: 3.162\n",
      "Post Inversion Step: 10 len: 3.162 \n",
      "\n",
      "Post Query Step: 11 len: 3.162\n",
      "Post Inversion Step: 11 len: 3.162 \n",
      "\n",
      "Post Query Step: 12 len: 3.162\n",
      "Post Inversion Step: 12 len: 3.162 \n",
      "\n",
      "Post Query Step: 13 len: 3.162\n",
      "Post Inversion Step: 13 len: 3.162 \n",
      "\n",
      "Post Query Step: 14 len: 3.162\n",
      "Post Inversion Step: 14 len: 3.162 \n",
      "\n",
      "Post Query Step: 15 len: 3.162\n",
      "Post Inversion Step: 15 len: 3.162 \n",
      "\n",
      "Post Query Step: 16 len: 3.162\n",
      "Post Inversion Step: 16 len: 3.162 \n",
      "\n",
      "Post Query Step: 17 len: 3.162\n",
      "Post Inversion Step: 17 len: 3.162 \n",
      "\n",
      "Post Query Step: 18 len: 3.162\n",
      "Post Inversion Step: 18 len: 3.162 \n",
      "\n",
      "Post Query Step: 19 len: 3.162\n",
      "Post Inversion Step: 19 len: 3.162 \n",
      "\n"
     ]
    },
    {
     "data": {
      "image/png": "[encoded data removed]",
      "text/plain": [
       "<Figure size 432x288 with 1 Axes>"
      ]
     },
     "metadata": {
      "needs_background": "light"
     },
     "output_type": "display_data"
    }
   ],
   "source": [
    "#\n",
    "# your code is here\n",
    "#\n",
    "from matplotlib.pyplot import bar\n",
    "\n",
    "def length_of_list (elements=[1]):\n",
    "    sum = 0\n",
    "    for el in elements:\n",
    "        sum = sum + el**2\n",
    "    return round(sum**0.5,3)\n",
    "\n",
    "game_of_n(10, [9], len_fn=length_of_list)"
   ]
  },
  {
   "cell_type": "markdown",
   "metadata": {},
   "source": [
    "<a href=\"B80_Inversion_About_the_Mean_Solutions.ipynb#task6\">click for our solution</a>"
   ]
  },
  {
   "cell_type": "markdown",
   "metadata": {},
   "source": [
    "### Length preserving game\n",
    "\n",
    "As observed from the last two tasks, each phase of the game is a length preserving operator (function).\n",
    "\n",
    "*Do you think that query and inversion operators are linear? More specifically, can we represent them in the form of a matrix?*\n",
    "\n",
    "The answer for the query operator is easy as it only changes the sign of marked elements, and so its matrix form is very similar to an Identity matrix having -1 in some of diagnale entries."
   ]
  },
  {
   "cell_type": "markdown",
   "metadata": {},
   "source": [
    "<h3> Modified Game </h3>\n",
    "\n",
    "In this part, we restrict the game by guaranteeing that the list represents a quantum state."
   ]
  },
  {
   "cell_type": "markdown",
   "metadata": {},
   "source": [
    "<h3> Task 7</h3>\n",
    "\n",
    "What are the initial values for the modifed game if $ N=8 $?"
   ]
  },
  {
   "cell_type": "markdown",
   "metadata": {},
   "source": [
    "<a href=\"B80_Inversion_About_the_Mean_Solutions.ipynb#task7\">click for our solution</a>"
   ]
  },
  {
   "cell_type": "markdown",
   "metadata": {},
   "source": [
    "<h3> Task 8</h3>\n",
    "\n",
    "Iterate the modified game for 20 steps where $ N = 8 $ and the second element is marked.\n",
    "\n",
    "Print the list of elements after each phase.\n",
    "\n",
    "Check whether the length of list is 1 after each iteration."
   ]
  },
  {
   "cell_type": "code",
   "execution_count": 91,
   "metadata": {},
   "outputs": [
    {
     "name": "stdout",
     "output_type": "stream",
     "text": [
      "Step 0\n",
      "Elements 0.35355339059327373  0.35355339059327373  0.35355339059327373  0.35355339059327373  0.35355339059327373  0.35355339059327373  0.35355339059327373  0.35355339059327373  \n",
      "the initial length 1.0\n",
      "After step 1 \n",
      "Elements list\n",
      "0.17677669529663687  0.8838834764831842  0.17677669529663687  0.17677669529663687  0.17677669529663687  0.17677669529663687  0.17677669529663687  0.17677669529663687  \n",
      "the length after iteration is  1.0\n",
      "\n",
      "After step 2 \n",
      "Elements list\n",
      "-0.08838834764831839  0.9722718241315027  -0.08838834764831839  -0.08838834764831839  -0.08838834764831839  -0.08838834764831839  -0.08838834764831839  -0.08838834764831839  \n",
      "the length after iteration is  1.0\n",
      "\n",
      "After step 3 \n",
      "Elements list\n",
      "-0.30935921676911465  0.5745242597140696  -0.30935921676911465  -0.30935921676911465  -0.30935921676911465  -0.30935921676911465  -0.30935921676911465  -0.30935921676911465  \n",
      "the length after iteration is  1.0\n",
      "\n",
      "After step 4 \n",
      "Elements list\n",
      "-0.37565047750535346  -0.1104854345603985  -0.37565047750535346  -0.37565047750535346  -0.37565047750535346  -0.37565047750535346  -0.37565047750535346  -0.37565047750535346  \n",
      "the length after iteration is  1.0\n",
      "\n",
      "After step 5 \n",
      "Elements list\n",
      "-0.2541164994889154  -0.7402524115546674  -0.2541164994889154  -0.2541164994889154  -0.2541164994889154  -0.2541164994889154  -0.2541164994889154  -0.2541164994889154  \n",
      "the length after iteration is  1.0\n",
      "\n",
      "After step 6 \n",
      "Elements list\n",
      "-0.00552427172801967  -0.9998931827716024  -0.00552427172801967  -0.00552427172801967  -0.00552427172801967  -0.00552427172801967  -0.00552427172801967  -0.00552427172801967  \n",
      "the length after iteration is  1.0\n",
      "\n",
      "After step 7 \n",
      "Elements list\n",
      "0.24583009189688576  -0.7595873626027363  0.24583009189688576  0.24583009189688576  0.24583009189688576  0.24583009189688576  0.24583009189688576  0.24583009189688576  \n",
      "the length after iteration is  1.0\n",
      "\n",
      "After step 8 \n",
      "Elements list\n",
      "0.37426940957334853  -0.139487861132502  0.37426940957334853  0.37426940957334853  0.37426940957334853  0.37426940957334853  0.37426940957334853  0.37426940957334853  \n",
      "the length after iteration is  1.0\n",
      "\n",
      "After step 9 \n",
      "Elements list\n",
      "0.3155740224631369  0.5503555709039835  0.3155740224631369  0.3155740224631369  0.3155740224631369  0.3155740224631369  0.3155740224631369  0.3155740224631369  \n",
      "the length after iteration is  1.0\n",
      "\n",
      "After step 10 \n",
      "Elements list\n",
      "0.09909162412135686  0.9650212174884772  0.09909162412135686  0.09909162412135686  0.09909162412135686  0.09909162412135686  0.09909162412135686  0.09909162412135686  \n",
      "the length after iteration is  1.0\n",
      "\n",
      "After step 11 \n",
      "Elements list\n",
      "-0.16693658628110164  0.8971762553287325  -0.16693658628110164  -0.16693658628110164  -0.16693658628110164  -0.16693658628110164  -0.16693658628110164  -0.16693658628110164  \n",
      "the length after iteration is  1.0\n",
      "\n",
      "After step 12 \n",
      "Elements list\n",
      "-0.3494965035430093  0.3807431655046215  -0.3494965035430093  -0.3494965035430093  -0.3494965035430093  -0.3494965035430093  -0.3494965035430093  -0.3494965035430093  \n",
      "the length after iteration is  1.0\n",
      "\n",
      "After step 13 \n",
      "Elements list\n",
      "-0.35730816903341234  -0.32606150707180015  -0.35730816903341234  -0.35730816903341234  -0.35730816903341234  -0.35730816903341234  -0.35730816903341234  -0.35730816903341234  \n",
      "the length after iteration is  1.0\n",
      "\n",
      "After step 14 \n",
      "Elements list\n",
      "-0.1864657500071092  -0.8698354261123217  -0.1864657500071092  -0.1864657500071092  -0.1864657500071092  -0.1864657500071092  -0.1864657500071092  -0.1864657500071092  \n",
      "the length after iteration is  1.0\n",
      "\n",
      "After step 15 \n",
      "Elements list\n",
      "0.07760954402274854  -0.9786916320966824  0.07760954402274854  0.07760954402274854  0.07760954402274854  0.07760954402274854  0.07760954402274854  0.07760954402274854  \n",
      "the length after iteration is  1.0\n",
      "\n",
      "After step 16 \n",
      "Elements list\n",
      "0.30288006604123185  -0.598202022032702  0.30288006604123185  0.30288006604123185  0.30288006604123185  0.30288006604123185  0.30288006604123185  0.30288006604123185  \n",
      "the length after iteration is  1.0\n",
      "\n",
      "After step 17 \n",
      "Elements list\n",
      "0.37671055503909945  0.0813885990476293  0.37671055503909945  0.37671055503909945  0.37671055503909945  0.37671055503909945  0.37671055503909945  0.37671055503909945  \n",
      "the length after iteration is  1.0\n",
      "\n",
      "After step 18 \n",
      "Elements list\n",
      "0.2621857665174172  0.720284920604146  0.2621857665174172  0.2621857665174172  0.2621857665174172  0.2621857665174172  0.2621857665174172  0.2621857665174172  \n",
      "the length after iteration is  1.0\n",
      "\n",
      "After step 19 \n",
      "Elements list\n",
      "0.016568094737026418  0.9990387818585895  0.016568094737026418  0.016568094737026418  0.016568094737026418  0.016568094737026418  0.016568094737026418  0.016568094737026418  \n",
      "the length after iteration is  1.0\n",
      "\n",
      "After step 20 \n",
      "Elements list\n",
      "-0.23733362441187766  0.7782732521837383  -0.23733362441187766  -0.23733362441187766  -0.23733362441187766  -0.23733362441187766  -0.23733362441187766  -0.23733362441187766  \n",
      "the length after iteration is  1.0\n",
      "\n"
     ]
    }
   ],
   "source": [
    "elements = []\n",
    "for i in range(8):\n",
    "    elements  = elements + [1/(8**0.5)]\n",
    "\n",
    "marked_elements = [1]\n",
    "\n",
    "print(\"Step 0\")\n",
    "value = \"\"\n",
    "for i in range(len(elements)):\n",
    "    value = value + str(elements[i])+\"  \"\n",
    "\n",
    "print(\"Elements\", value)\n",
    "\n",
    "print(\"the initial length\",length_of_list(elements))\n",
    "iterations = []\n",
    "for step in range(20):\n",
    "    iterations.append(step+1)\n",
    "    \n",
    "    elements = query(elements,marked_elements)\n",
    "    elements = inversion(elements)\n",
    "    print(\"After step\",step+1,'\\nElements list')\n",
    "    value = \"\"\n",
    "    for i in range(len(elements)):\n",
    "        value = value + str(elements[i])+\"  \"\n",
    "    print(value)\n",
    "    print(\"the length after iteration is \",length_of_list(elements))\n",
    "    print()"
   ]
  },
  {
   "cell_type": "markdown",
   "metadata": {},
   "source": [
    "<a href=\"B80_Inversion_About_the_Mean_Solutions.ipynb#task8\">click for our solution</a>"
   ]
  },
  {
   "cell_type": "markdown",
   "metadata": {},
   "source": [
    "<h3> Task 9</h3>\n",
    "\n",
    "Repeat Task 8 for $ N = 16 $ where the first 12 elements are marked."
   ]
  },
  {
   "cell_type": "code",
   "execution_count": 64,
   "metadata": {},
   "outputs": [],
   "source": [
    "def query(elements=[1],marked_elements=[0]):\n",
    "    for i in marked_elements:\n",
    "        elements[i] = -1 * elements[i]    \n",
    "    return elements\n",
    "\n",
    "def inversion (elements=[1]):\n",
    "    summation = 0\n",
    "    for i in range(len(elements)):\n",
    "        summation += elements[i]\n",
    "\n",
    "    mean = summation / len(elements)\n",
    "\n",
    "    for i in range(len(elements)):\n",
    "        value = elements[i]\n",
    "        new_value = mean - (elements[i]-mean)\n",
    "        elements[i] = new_value   \n",
    "    return elements\n",
    "\n",
    "def length_of_list (elements=[1]):\n",
    "    summation = 0\n",
    "    for el in elements:\n",
    "        summation = summation + el**2\n",
    "    return round(summation**0.5,3)\n",
    "\n",
    "def print_list(L,precision):\n",
    "    output = \"\"\n",
    "    for i in range(len(L)):\n",
    "        output = output + str(round(L[i],precision))+\"  \"\n",
    "    print(output)"
   ]
  },
  {
   "cell_type": "code",
   "execution_count": 65,
   "metadata": {},
   "outputs": [
    {
     "name": "stdout",
     "output_type": "stream",
     "text": [
      "step 0\n",
      "the list of elements is\n",
      "0.35355339059327373  0.35355339059327373  0.35355339059327373  0.35355339059327373  0.35355339059327373  0.35355339059327373  0.35355339059327373  0.35355339059327373  0.35355339059327373  0.35355339059327373  0.35355339059327373  0.35355339059327373  0.35355339059327373  0.35355339059327373  0.35355339059327373  0.35355339059327373  \n",
      "the initial length 1.414\n",
      "\n",
      "after step 1\n",
      "the list of elements is\n",
      "0.0  0.0  0.0  0.0  0.0  0.0  0.0  0.0  0.0  0.0  0.0  0.0  -0.7071067811865475  -0.7071067811865475  -0.7071067811865475  -0.7071067811865475  \n",
      "the length after iteration is  1.414\n",
      "\n",
      "after step 2\n",
      "the list of elements is\n",
      "-0.35355339059327373  -0.35355339059327373  -0.35355339059327373  -0.35355339059327373  -0.35355339059327373  -0.35355339059327373  -0.35355339059327373  -0.35355339059327373  -0.35355339059327373  -0.35355339059327373  -0.35355339059327373  -0.35355339059327373  0.35355339059327373  0.35355339059327373  0.35355339059327373  0.35355339059327373  \n",
      "the length after iteration is  1.414\n",
      "\n",
      "after step 3\n",
      "the list of elements is\n",
      "0.35355339059327395  0.35355339059327395  0.35355339059327395  0.35355339059327395  0.35355339059327395  0.35355339059327395  0.35355339059327395  0.35355339059327395  0.35355339059327395  0.35355339059327395  0.35355339059327395  0.35355339059327395  0.35355339059327395  0.35355339059327395  0.35355339059327395  0.35355339059327395  \n",
      "the length after iteration is  1.414\n",
      "\n",
      "after step 4\n",
      "the list of elements is\n",
      "0.0  0.0  0.0  0.0  0.0  0.0  0.0  0.0  0.0  0.0  0.0  0.0  -0.7071067811865479  -0.7071067811865479  -0.7071067811865479  -0.7071067811865479  \n",
      "the length after iteration is  1.414\n",
      "\n",
      "after step 5\n",
      "the list of elements is\n",
      "-0.35355339059327395  -0.35355339059327395  -0.35355339059327395  -0.35355339059327395  -0.35355339059327395  -0.35355339059327395  -0.35355339059327395  -0.35355339059327395  -0.35355339059327395  -0.35355339059327395  -0.35355339059327395  -0.35355339059327395  0.35355339059327395  0.35355339059327395  0.35355339059327395  0.35355339059327395  \n",
      "the length after iteration is  1.414\n",
      "\n",
      "after step 6\n",
      "the list of elements is\n",
      "0.35355339059327395  0.35355339059327395  0.35355339059327395  0.35355339059327395  0.35355339059327395  0.35355339059327395  0.35355339059327395  0.35355339059327395  0.35355339059327395  0.35355339059327395  0.35355339059327395  0.35355339059327395  0.35355339059327395  0.35355339059327395  0.35355339059327395  0.35355339059327395  \n",
      "the length after iteration is  1.414\n",
      "\n",
      "after step 7\n",
      "the list of elements is\n",
      "0.0  0.0  0.0  0.0  0.0  0.0  0.0  0.0  0.0  0.0  0.0  0.0  -0.7071067811865479  -0.7071067811865479  -0.7071067811865479  -0.7071067811865479  \n",
      "the length after iteration is  1.414\n",
      "\n",
      "after step 8\n",
      "the list of elements is\n",
      "-0.35355339059327395  -0.35355339059327395  -0.35355339059327395  -0.35355339059327395  -0.35355339059327395  -0.35355339059327395  -0.35355339059327395  -0.35355339059327395  -0.35355339059327395  -0.35355339059327395  -0.35355339059327395  -0.35355339059327395  0.35355339059327395  0.35355339059327395  0.35355339059327395  0.35355339059327395  \n",
      "the length after iteration is  1.414\n",
      "\n",
      "after step 9\n",
      "the list of elements is\n",
      "0.35355339059327395  0.35355339059327395  0.35355339059327395  0.35355339059327395  0.35355339059327395  0.35355339059327395  0.35355339059327395  0.35355339059327395  0.35355339059327395  0.35355339059327395  0.35355339059327395  0.35355339059327395  0.35355339059327395  0.35355339059327395  0.35355339059327395  0.35355339059327395  \n",
      "the length after iteration is  1.414\n",
      "\n",
      "after step 10\n",
      "the list of elements is\n",
      "0.0  0.0  0.0  0.0  0.0  0.0  0.0  0.0  0.0  0.0  0.0  0.0  -0.7071067811865479  -0.7071067811865479  -0.7071067811865479  -0.7071067811865479  \n",
      "the length after iteration is  1.414\n",
      "\n",
      "after step 11\n",
      "the list of elements is\n",
      "-0.35355339059327395  -0.35355339059327395  -0.35355339059327395  -0.35355339059327395  -0.35355339059327395  -0.35355339059327395  -0.35355339059327395  -0.35355339059327395  -0.35355339059327395  -0.35355339059327395  -0.35355339059327395  -0.35355339059327395  0.35355339059327395  0.35355339059327395  0.35355339059327395  0.35355339059327395  \n",
      "the length after iteration is  1.414\n",
      "\n",
      "after step 12\n",
      "the list of elements is\n",
      "0.35355339059327395  0.35355339059327395  0.35355339059327395  0.35355339059327395  0.35355339059327395  0.35355339059327395  0.35355339059327395  0.35355339059327395  0.35355339059327395  0.35355339059327395  0.35355339059327395  0.35355339059327395  0.35355339059327395  0.35355339059327395  0.35355339059327395  0.35355339059327395  \n",
      "the length after iteration is  1.414\n",
      "\n",
      "after step 13\n",
      "the list of elements is\n",
      "0.0  0.0  0.0  0.0  0.0  0.0  0.0  0.0  0.0  0.0  0.0  0.0  -0.7071067811865479  -0.7071067811865479  -0.7071067811865479  -0.7071067811865479  \n",
      "the length after iteration is  1.414\n",
      "\n",
      "after step 14\n",
      "the list of elements is\n",
      "-0.35355339059327395  -0.35355339059327395  -0.35355339059327395  -0.35355339059327395  -0.35355339059327395  -0.35355339059327395  -0.35355339059327395  -0.35355339059327395  -0.35355339059327395  -0.35355339059327395  -0.35355339059327395  -0.35355339059327395  0.35355339059327395  0.35355339059327395  0.35355339059327395  0.35355339059327395  \n",
      "the length after iteration is  1.414\n",
      "\n",
      "after step 15\n",
      "the list of elements is\n",
      "0.35355339059327395  0.35355339059327395  0.35355339059327395  0.35355339059327395  0.35355339059327395  0.35355339059327395  0.35355339059327395  0.35355339059327395  0.35355339059327395  0.35355339059327395  0.35355339059327395  0.35355339059327395  0.35355339059327395  0.35355339059327395  0.35355339059327395  0.35355339059327395  \n",
      "the length after iteration is  1.414\n",
      "\n",
      "after step 16\n",
      "the list of elements is\n",
      "0.0  0.0  0.0  0.0  0.0  0.0  0.0  0.0  0.0  0.0  0.0  0.0  -0.7071067811865479  -0.7071067811865479  -0.7071067811865479  -0.7071067811865479  \n",
      "the length after iteration is  1.414\n",
      "\n",
      "after step 17\n",
      "the list of elements is\n",
      "-0.35355339059327395  -0.35355339059327395  -0.35355339059327395  -0.35355339059327395  -0.35355339059327395  -0.35355339059327395  -0.35355339059327395  -0.35355339059327395  -0.35355339059327395  -0.35355339059327395  -0.35355339059327395  -0.35355339059327395  0.35355339059327395  0.35355339059327395  0.35355339059327395  0.35355339059327395  \n",
      "the length after iteration is  1.414\n",
      "\n",
      "after step 18\n",
      "the list of elements is\n",
      "0.35355339059327395  0.35355339059327395  0.35355339059327395  0.35355339059327395  0.35355339059327395  0.35355339059327395  0.35355339059327395  0.35355339059327395  0.35355339059327395  0.35355339059327395  0.35355339059327395  0.35355339059327395  0.35355339059327395  0.35355339059327395  0.35355339059327395  0.35355339059327395  \n",
      "the length after iteration is  1.414\n",
      "\n",
      "after step 19\n",
      "the list of elements is\n",
      "0.0  0.0  0.0  0.0  0.0  0.0  0.0  0.0  0.0  0.0  0.0  0.0  -0.7071067811865479  -0.7071067811865479  -0.7071067811865479  -0.7071067811865479  \n",
      "the length after iteration is  1.414\n",
      "\n",
      "after step 20\n",
      "the list of elements is\n",
      "-0.35355339059327395  -0.35355339059327395  -0.35355339059327395  -0.35355339059327395  -0.35355339059327395  -0.35355339059327395  -0.35355339059327395  -0.35355339059327395  -0.35355339059327395  -0.35355339059327395  -0.35355339059327395  -0.35355339059327395  0.35355339059327395  0.35355339059327395  0.35355339059327395  0.35355339059327395  \n",
      "the length after iteration is  1.414\n"
     ]
    }
   ],
   "source": [
    "elements = []\n",
    "\n",
    "for i in range(16):\n",
    "    elements  = elements + [1 / (8**0.5)]\n",
    "\n",
    "marked_elements = [0,1,2,3,4,5,6,7,8,9,10,11]\n",
    "\n",
    "iterations = []\n",
    "\n",
    "print(\"step 0\")\n",
    "print(\"the list of elements is\")\n",
    "value = \"\"\n",
    "for i in range(len(elements)):\n",
    "    value = value + str(elements[i])+\"  \"\n",
    "print(value)\n",
    "print(\"the initial length\",length_of_list(elements))\n",
    "\n",
    "for step in range(20):\n",
    "    # store the iteration\n",
    "    iterations.append(step+1)\n",
    "    \n",
    "    # flip the sign of the marked element\n",
    "    elements = query(elements,marked_elements)\n",
    "    elements = inversion(elements)\n",
    "    print()\n",
    "    print(\"after step\",step+1)\n",
    "    print(\"the list of elements is\")\n",
    "\n",
    "    value = \"\"\n",
    "    for i in range(len(elements)):\n",
    "        value = value + str(elements[i])+\"  \"\n",
    "    \n",
    "    print(value)\n",
    "    print(\"the length after iteration is \",length_of_list(elements))"
   ]
  },
  {
   "cell_type": "markdown",
   "metadata": {},
   "source": [
    "<a href=\"B80_Inversion_About_the_Mean_Solutions.ipynb#task9\">click for our solution</a>"
   ]
  },
  {
   "cell_type": "markdown",
   "metadata": {},
   "source": [
    "<h3> Grover's quantum search algorithm </h3>\n",
    "\n",
    "The modifed game is the main part of Grover's quantum search algorithm.\n",
    "\n",
    "Suppose that we are given an unordered list and we make a search of a specific element called as marked.\n",
    "- We access the list via an oracle: we can make queries to the list.\n",
    "- If there are $ N $ elements in the list, we use $ \\log(N) $ qubits. (Assume that $N$ is a power of 2.) \n",
    "- Each basis state, i.e., $ \\ket{0 \\cdots 0}, \\ldots, \\ket{1 \\cdots 1} $, corresponds to an index of the list.\n",
    "- If the searched element is detected, then the oracle  flips the sign of the amplitude of the corresponding index.\n",
    "\n",
    "At the beginning, Hadamard operator is applied to each qubit. Thus, the amplitude of each basis state is set to $ \\frac{1}{\\sqrt{N}} $.\n",
    "- We can interpret this as all elements start the game with the same amplitude.\n",
    "- Then, the game starts to iterate, and the amplitudes of marked and unmarked elements are changed."
   ]
  },
  {
   "cell_type": "markdown",
   "metadata": {},
   "source": [
    "<h4> The number of iterations </h4>\n",
    "\n",
    "When the number of marked elements are less than the unmarked elements, the amplitudes of marked elements start to increase. \n",
    "\n",
    "Then, we reach the first peak such that the probability of observing a marked element takes its maximum value. \n",
    "\n",
    "After passing this point, the amplitudes of marked elements start to decrease."
   ]
  },
  {
   "cell_type": "markdown",
   "metadata": {},
   "source": [
    "<h4> Phases </h4>\n",
    "\n",
    "The operator in each phase is unitary (linear).\n",
    "\n",
    "The unitary matrix in the query phase depends on the input, but the unitary operator in the inversion phase does not depend on the input.\n",
    "\n",
    "<b>In the query phase</b>, the amplitudes of the marked elements change sign.  \n",
    "\n",
    "<b>In the inversion phase</b>, for each amplitude $ x $, the new value is calculated as $ mean - (x - mean) = 2mean -x $.\n",
    "\n",
    "The mean of a column vector of size $ N $ can be calculated by multiplying it with the following row vector from the left:\n",
    "\n",
    "$$  \\myvector{ \\frac{1}{N} ~~ \\frac{1}{N} ~~ \\cdots ~~ \\frac{1}{N}} . $$\n",
    "\n",
    "\n",
    "When considering all elements in the list, we work with a matrix. The matrix for the second phase should be \n",
    "\n",
    "$$ D = 2 \\mymatrix{ccc}{\n",
    "    \\frac{1}{N}  & \\cdots & \\frac{1}{N} \\\\ \n",
    "    \\vdots & \\ddots & \\vdots \\\\\n",
    "    \\frac{1}{N}  & \\cdots & \\frac{1}{N} \\\\ \n",
    "    } \n",
    "- I . $$"
   ]
  },
  {
   "cell_type": "markdown",
   "metadata": {},
   "source": [
    "<h3> Task 10</h3>\n",
    "\n",
    "Convience yourself that $ D \\myvector{x_1 \\\\ \\vdots \\\\ x_N} = \\myvector{ 2m-x_1 \\\\ \\vdots \\\\ 2m-x_N } $, where $ m = \\dfrac{ \\sum_{i=1}^N x_i } { N} $."
   ]
  },
  {
   "cell_type": "markdown",
   "metadata": {},
   "source": [
    "<h3> Task 11</h3>\n",
    "\n",
    "Let $ A =  \\mymatrix{ccc}{\n",
    "    \\frac{1}{N}  & \\cdots & \\frac{1}{N} \\\\ \n",
    "    \\vdots & \\ddots & \\vdots \\\\\n",
    "    \\frac{1}{N}  & \\cdots & \\frac{1}{N} \\\\ \n",
    "    }  $. \n",
    "Convience yourself that $ A^2 = A $ and $ D^T = D $.\n",
    "\n",
    "Since $ D = 2A - I $, convience yourself that $ D $ is unitary by showing that $ D^T \\cdot D = I $, i.e., $ (2A-I)(2A-I) = I $."
   ]
  }
 ],
 "metadata": {
  "kernelspec": {
   "display_name": "Python 3",
   "language": "python",
   "name": "python3"
  },
  "language_info": {
   "codemirror_mode": {
    "name": "ipython",
    "version": 3
   },
   "file_extension": ".py",
   "mimetype": "text/x-python",
   "name": "python",
   "nbconvert_exporter": "python",
   "pygments_lexer": "ipython3",
   "version": "3.8.3"
  }
 },
 "nbformat": 4,
 "nbformat_minor": 2
}
