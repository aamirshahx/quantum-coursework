{
 "cells": [
  {
   "cell_type": "markdown",
   "metadata": {},
   "source": [
    "<table> <tr>\n",
    "        <td  style=\"background-color:#ffffff;\">\n",
    "            <a href=\"http://qworld.lu.lv\" target=\"_blank\"><img src=\"..\\images\\qworld.jpg\" width=\"25%\" align=\"left\"> </a></td>\n",
    "        <td style=\"background-color:#ffffff;vertical-align:bottom;text-align:right;\">\n",
    "            prepared by <a href=\"http://abu.lu.lv\" target=\"_blank\">Abuzer Yakaryilmaz</a> (<a href=\"http://qworld.lu.lv/index.php/qlatvia/\" target=\"_blank\">QLatvia</a>)\n",
    "        </td>        \n",
    "</tr></table>"
   ]
  },
  {
   "cell_type": "markdown",
   "metadata": {},
   "source": [
    "<table width=\"100%\"><tr><td style=\"color:#bbbbbb;background-color:#ffffff;font-size:11px;font-style:italic;text-align:right;\">This cell contains some macros. If there is a problem with displaying mathematical formulas, please run this cell to load these macros. </td></tr></table>\n",
    "$ \\newcommand{\\bra}[1]{\\langle #1|} $\n",
    "$ \\newcommand{\\ket}[1]{|#1\\rangle} $\n",
    "$ \\newcommand{\\braket}[2]{\\langle #1|#2\\rangle} $\n",
    "$ \\newcommand{\\dot}[2]{ #1 \\cdot #2} $\n",
    "$ \\newcommand{\\biginner}[2]{\\left\\langle #1,#2\\right\\rangle} $\n",
    "$ \\newcommand{\\mymatrix}[2]{\\left( \\begin{array}{#1} #2\\end{array} \\right)} $\n",
    "$ \\newcommand{\\myvector}[1]{\\mymatrix{c}{#1}} $\n",
    "$ \\newcommand{\\myrvector}[1]{\\mymatrix{r}{#1}} $\n",
    "$ \\newcommand{\\mypar}[1]{\\left( #1 \\right)} $\n",
    "$ \\newcommand{\\mybigpar}[1]{ \\Big( #1 \\Big)} $\n",
    "$ \\newcommand{\\sqrttwo}{\\frac{1}{\\sqrt{2}}} $\n",
    "$ \\newcommand{\\dsqrttwo}{\\dfrac{1}{\\sqrt{2}}} $\n",
    "$ \\newcommand{\\onehalf}{\\frac{1}{2}} $\n",
    "$ \\newcommand{\\donehalf}{\\dfrac{1}{2}} $\n",
    "$ \\newcommand{\\hadamard}{ \\mymatrix{rr}{ \\sqrttwo & \\sqrttwo \\\\ \\sqrttwo & -\\sqrttwo }} $\n",
    "$ \\newcommand{\\vzero}{\\myvector{1\\\\0}} $\n",
    "$ \\newcommand{\\vone}{\\myvector{0\\\\1}} $\n",
    "$ \\newcommand{\\stateplus}{\\myvector{ \\sqrttwo \\\\  \\sqrttwo } } $\n",
    "$ \\newcommand{\\stateminus}{ \\myrvector{ \\sqrttwo \\\\ -\\sqrttwo } } $\n",
    "$ \\newcommand{\\myarray}[2]{ \\begin{array}{#1}#2\\end{array}} $\n",
    "$ \\newcommand{\\X}{ \\mymatrix{cc}{0 & 1 \\\\ 1 & 0}  } $\n",
    "$ \\newcommand{\\Z}{ \\mymatrix{rr}{1 & 0 \\\\ 0 & -1}  } $\n",
    "$ \\newcommand{\\Htwo}{ \\mymatrix{rrrr}{ \\frac{1}{2} & \\frac{1}{2} & \\frac{1}{2} & \\frac{1}{2} \\\\ \\frac{1}{2} & -\\frac{1}{2} & \\frac{1}{2} & -\\frac{1}{2} \\\\ \\frac{1}{2} & \\frac{1}{2} & -\\frac{1}{2} & -\\frac{1}{2} \\\\ \\frac{1}{2} & -\\frac{1}{2} & -\\frac{1}{2} & \\frac{1}{2} } } $\n",
    "$ \\newcommand{\\CNOT}{ \\mymatrix{cccc}{1 & 0 & 0 & 0 \\\\ 0 & 1 & 0 & 0 \\\\ 0 & 0 & 0 & 1 \\\\ 0 & 0 & 1 & 0} } $\n",
    "$ \\newcommand{\\norm}[1]{ \\left\\lVert #1 \\right\\rVert } $\n",
    "$ \\newcommand{\\pstate}[1]{ \\lceil \\mspace{-1mu} #1 \\mspace{-1.5mu} \\rfloor } $"
   ]
  },
  {
   "cell_type": "markdown",
   "metadata": {},
   "source": [
    "<h2>Operations on the Unit Circle</h2>\n",
    "\n",
    "[Watch Lecture](https://youtu.be/FDn7cMimNAU)"
   ]
  },
  {
   "cell_type": "markdown",
   "metadata": {},
   "source": [
    "_We use certain tools from python library \"<b>matplotlib.pyplot</b>\" for drawing. Check the notebook [Python: Drawing](../python/Python06_Drawing.ipynb) for the list of these tools._"
   ]
  },
  {
   "cell_type": "markdown",
   "metadata": {},
   "source": [
    "<h3>Scenario 1</h3>\n",
    "\n",
    "We start with drawing the quantum states $ \\ket{0} $ and $ \\ket{+} = \\myvector{ \\frac{1}{\\sqrt{2}} \\\\ \\frac{1}{\\sqrt{2}} } $."
   ]
  },
  {
   "cell_type": "markdown",
   "metadata": {},
   "source": [
    "<i style=\"font-size:10pt;\">\n",
    "Our predefined function \"draw_qubit()\" draws a figure, the origin, the axes, the unit circle, and base quantum states.\n",
    "<br>\n",
    "Our predefined function \"draw_quantum_state(x,y,name)\" draws an arrow from (0,0) to (x,y) and associates it with <u>name</u>.\n",
    "<br>\n",
    "We include our predefined functions with the following line of code:\n",
    "    \n",
    "    %run qlatvia.py\n",
    "</i>   "
   ]
  },
  {
   "cell_type": "code",
   "execution_count": 3,
   "metadata": {},
   "outputs": [
    {
     "data": {
      "text/plain": [
       "Text(0.21, 0.09, 'π/4')"
      ]
     },
     "execution_count": 3,
     "metadata": {},
     "output_type": "execute_result"
    },
    {
     "data": {
      "image/png": "[encoded data removed]",
      "text/plain": [
       "<Figure size 360x360 with 1 Axes>"
      ]
     },
     "metadata": {
      "needs_background": "light"
     },
     "output_type": "display_data"
    }
   ],
   "source": [
    "%run qlatvia.py\n",
    "\n",
    "draw_qubit()\n",
    "\n",
    "sqrttwo=2**0.5\n",
    "\n",
    "initial_state = [1, 0]\n",
    "final_state = [1/sqrttwo, 1/sqrttwo]\n",
    "\n",
    "draw_quantum_state(initial_state[0],initial_state[1],\"\")\n",
    "draw_quantum_state(final_state[0],final_state[1],\"|+>\")\n",
    "\n",
    "# drawing the angle with |0>-axis\n",
    "from matplotlib.pyplot import gca, text\n",
    "from matplotlib.patches import Arc\n",
    "gca().add_patch( Arc((0,0),0.4,0.4,angle=0,theta1=0,theta2=45) )\n",
    "text(0.08,0.05,'.',fontsize=30)\n",
    "text(0.21,0.09,'\\u03C0/4')"
   ]
  },
  {
   "cell_type": "markdown",
   "metadata": {},
   "source": [
    "# <h3> Task 1 (Discussion) </h3>\n",
    "\n",
    "When starting in the state $ \\ket{0} $, we apply a quantum operator, say $ M $, then we obtain the state $\\ket{+}$.\n",
    "\n",
    "If we apply the operator $ M $, what can be the next state?\n",
    "\n",
    "How can we classify possible $ M $'s geometrically? What can be the parameters of each possible $ M $?"
   ]
  },
  {
   "cell_type": "code",
   "execution_count": null,
   "metadata": {},
   "outputs": [],
   "source": [
    "(0, 1)\n",
    "(1/sq(2), 1/sq(2))\n",
    "(1, 0)\n",
    "(1/sq(8), 1/sq(8))\n",
    "\n"
   ]
  },
  {
   "cell_type": "markdown",
   "metadata": {},
   "source": [
    "<h3>Scenario 2</h3>\n",
    "\n",
    "We draw the quantum states $ \\ket{1} $ and $ \\ket{-} = \\stateminus $."
   ]
  },
  {
   "cell_type": "code",
   "execution_count": 7,
   "metadata": {},
   "outputs": [
    {
     "data": {
      "text/plain": [
       "Text(0.21, 0.09, '3π/4')"
      ]
     },
     "execution_count": 7,
     "metadata": {},
     "output_type": "execute_result"
    },
    {
     "data": {
      "image/png": "[encoded data removed]",
      "text/plain": [
       "<Figure size 360x360 with 1 Axes>"
      ]
     },
     "metadata": {
      "needs_background": "light"
     },
     "output_type": "display_data"
    }
   ],
   "source": [
    "%run qlatvia.py\n",
    "\n",
    "draw_qubit()\n",
    "\n",
    "sqrttwo=2**0.5\n",
    "\n",
    "draw_quantum_state(0,1,\"\")\n",
    "\n",
    "draw_quantum_state(1/sqrttwo,-1/sqrttwo,\"|->\")\n",
    "\n",
    "# drawing the angle with |0>-axis\n",
    "from matplotlib.pyplot import gca, text\n",
    "from matplotlib.patches import Arc\n",
    "gca().add_patch( Arc((0,0),0.4,0.4,angle=0,theta1=-45,theta2=90) )\n",
    "text(0.08,0.05,'.',fontsize=30)\n",
    "text(0.21,0.09,'3\\u03C0/4')"
   ]
  },
  {
   "cell_type": "markdown",
   "metadata": {},
   "source": [
    "<h3> Task 2 (Discussion) </h3>\n",
    "\n",
    "When starting in the state $ \\ket{1} $, we apply a quantum operator, say $ M $, then we obtain the state $\\ket{-}$.\n",
    "\n",
    "If we apply the operator $ M $, what can be the next state?\n",
    "\n",
    "What are the parameters of each possible $ M $?"
   ]
  },
  {
   "cell_type": "code",
   "execution_count": null,
   "metadata": {},
   "outputs": [],
   "source": [
    "next state will be the initial state (0 1)"
   ]
  },
  {
   "cell_type": "markdown",
   "metadata": {},
   "source": [
    "<hr>\n",
    "<h3>Initialize a (real-valued) qubit with an arbitrary state</h3>\n",
    "\n",
    "A qubit is set to the state $\\ket{0}$ at the beginning.\n",
    "\n",
    "Any real-valued quantum state is a point in the unit circle, and it can be described by an angle, say $\\theta$:\n",
    "\n",
    "For $ \\theta \\in [0,2\\pi) $, the quantum state is $ \\ket{v} = \\myvector{\\cos \\theta \\\\ \\sin \\theta} $.\n",
    "\n",
    "We can set the qubit to the state $ \\ket{v} $ by using a rotation operator between $ \\ket{0} $ and $ \\ket{1} $ with angle $ \\theta $."
   ]
  },
  {
   "cell_type": "markdown",
   "metadata": {},
   "source": [
    "<h3>Rotations with ry-gate</h3>"
   ]
  },
  {
   "cell_type": "markdown",
   "metadata": {},
   "source": [
    "In Qiskit, the ry-gate can be used for the rotations on the unit circle.\n",
    "\n",
    "The default direction of a rotation by ry-gate is counterclockwise. It is used as follows:\n",
    "\n",
    "    quantum_circuit.ry(2 * angle_of_rotation,qubit)\n",
    "\n",
    "_*Technical remark:* ry-gate is defined on [Bloch sphere](https://en.wikipedia.org/wiki/Bloch_sphere). The states $ \\ket{0} $ and $ \\ket{1} $ are placed on the poles of Bloch sphere, and so the angle between them is $ \\pi $ on Bloch sphere. On the other hand, the angles between the states $ \\ket{0} $ and $ \\ket{1} $ on the unit circle is $ \\frac{\\pi}{2} $. Therefore, when using ry-gate, we provide twice of $ \\theta $ for a rotation with angle $\\theta$ on the unit circle._"
   ]
  },
  {
   "cell_type": "code",
   "execution_count": 10,
   "metadata": {},
   "outputs": [
    {
     "data": {
      "text/html": [
       "<pre style=\"word-wrap: normal;white-space: pre;background: #fff0;line-height: 1.1;font-family: &quot;Courier New&quot;,Courier,monospace\">      ┌───────────┐┌─┐\n",
       "q1_0: ┤ RY(4pi/3) ├┤M├\n",
       "      └───────────┘└╥┘\n",
       "c1: 1/══════════════╩═\n",
       "                    0 </pre>"
      ],
      "text/plain": [
       "      ┌───────────┐┌─┐\n",
       "q1_0: ┤ RY(4pi/3) ├┤M├\n",
       "      └───────────┘└╥┘\n",
       "c1: 1/══════════════╩═\n",
       "                    0 "
      ]
     },
     "execution_count": 10,
     "metadata": {},
     "output_type": "execute_result"
    }
   ],
   "source": [
    "from qiskit import QuantumRegister, ClassicalRegister, QuantumCircuit, execute, Aer\n",
    "from qiskit.visualization import plot_histogram\n",
    "from math import pi\n",
    "\n",
    "# we define a quantum circuit with one qubit and one bit\n",
    "q =  QuantumRegister(1) # quantum register with a single qubit\n",
    "c = ClassicalRegister(1) # classical register with a single bit\n",
    "qc = QuantumCircuit(q,c) # quantum circuit with quantum and classical registers\n",
    "\n",
    "# angle of rotation in radian\n",
    "rotation_angle = 2*pi/3\n",
    "\n",
    "# rotate the qubit with rotation_angle\n",
    "qc.ry(2*rotation_angle,q[0]) \n",
    "\n",
    "# measure the qubit\n",
    "qc.measure(q,c)\n",
    "\n",
    "# draw the circuit\n",
    "qc.draw()"
   ]
  },
  {
   "cell_type": "code",
   "execution_count": 11,
   "metadata": {},
   "outputs": [
    {
     "name": "stdout",
     "output_type": "stream",
     "text": [
      "{'0': 244, '1': 756}\n"
     ]
    },
    {
     "data": {
      "image/png": "[encoded data removed]",
      "text/plain": [
       "<Figure size 504x360 with 1 Axes>"
      ]
     },
     "execution_count": 11,
     "metadata": {},
     "output_type": "execute_result"
    }
   ],
   "source": [
    "# execute the program 1000 times\n",
    "job = execute(qc,Aer.get_backend('qasm_simulator'),shots=1000)\n",
    "\n",
    "# print the results\n",
    "counts = job.result().get_counts(qc)\n",
    "print(counts)\n",
    "\n",
    "# draw the histogram\n",
    "plot_histogram(counts)"
   ]
  },
  {
   "cell_type": "code",
   "execution_count": 12,
   "metadata": {},
   "outputs": [
    {
     "name": "stdout",
     "output_type": "stream",
     "text": [
      "The quantum state is -0.5 |0> + 0.866 |1>\n",
      "The expected value of observing '0' is 250.0\n",
      "The expected value of observing '1' is 750.0\n"
     ]
    }
   ],
   "source": [
    "from math import sin,cos\n",
    "\n",
    "# the quantum state\n",
    "quantum_state = [ cos(rotation_angle) , sin (rotation_angle) ]\n",
    "print(\"The quantum state is\",round(quantum_state[0],4),\"|0> +\",round(quantum_state[1],4),\"|1>\")\n",
    "\n",
    "the_expected_number_of_zeros = 1000*cos(rotation_angle)**2\n",
    "the_expected_number_of_ones = 1000*sin(rotation_angle)**2\n",
    "\n",
    "# expected results\n",
    "print(\"The expected value of observing '0' is\",round(the_expected_number_of_zeros,4))\n",
    "print(\"The expected value of observing '1' is\",round(the_expected_number_of_ones,4))"
   ]
  },
  {
   "cell_type": "code",
   "execution_count": null,
   "metadata": {},
   "outputs": [],
   "source": [
    "# draw the quantum state\n",
    "\n",
    "%run qlatvia.py\n",
    "\n",
    "draw_qubit()\n",
    "\n",
    "draw_quantum_state(quantum_state[0],quantum_state[1],\"|v>\")"
   ]
  },
  {
   "cell_type": "markdown",
   "metadata": {},
   "source": [
    "<h3> Task 3</h3>\n",
    "\n",
    "Randomly pick an angle $ \\theta \\in [0,2\\pi) $.\n",
    "\n",
    "Suppose that we have 1000 copies of quantum state $ \\ket{v} = \\myvector{ \\cos \\theta \\\\ \\sin \\theta } $ and we measure each of them.\n",
    "\n",
    "What are the expected numbers of observing the states 0 and 1?\n",
    "\n",
    "Implement the above experiment by designing a quantum circuit and set the quantum state by using ry-gate.\n",
    "\n",
    "Compare your experimental and analytic results.\n",
    "\n",
    "Repeat the task a couple of times."
   ]
  },
  {
   "cell_type": "code",
   "execution_count": 5,
   "metadata": {},
   "outputs": [
    {
     "data": {
      "text/html": [
       "<pre style=\"word-wrap: normal;white-space: pre;background: #fff0;line-height: 1.1;font-family: &quot;Courier New&quot;,Courier,monospace\">      ┌─────────────┐┌─┐\n",
       "q1_0: ┤ RY(0.85539) ├┤M├\n",
       "      └─────────────┘└╥┘\n",
       "c1: 1/════════════════╩═\n",
       "                      0 </pre>"
      ],
      "text/plain": [
       "      ┌─────────────┐┌─┐\n",
       "q1_0: ┤ RY(0.85539) ├┤M├\n",
       "      └─────────────┘└╥┘\n",
       "c1: 1/════════════════╩═\n",
       "                      0 "
      ]
     },
     "execution_count": 5,
     "metadata": {},
     "output_type": "execute_result"
    }
   ],
   "source": [
    "#\n",
    "# your code is here\n",
    "#\n",
    "from qiskit import QuantumRegister, ClassicalRegister, QuantumCircuit, execute, Aer\n",
    "from qiskit.visualization import plot_histogram\n",
    "from math import pi, sin, cos\n",
    "from random import random\n",
    "\n",
    "q =  QuantumRegister(1)\n",
    "c = ClassicalRegister(1)\n",
    "qc = QuantumCircuit(q,c)\n",
    "\n",
    "rotation_angle = random() % 2*pi\n",
    "qc.ry(2*rotation_angle,q[0])\n",
    "qc.measure(q,c)\n",
    "qc.draw()"
   ]
  },
  {
   "cell_type": "markdown",
   "metadata": {},
   "source": [
    "[click for our solution](B40_Operations_on_the_Unit_Circle_Solution.ipynb#task3)"
   ]
  },
  {
   "cell_type": "code",
   "execution_count": 7,
   "metadata": {},
   "outputs": [
    {
     "name": "stdout",
     "output_type": "stream",
     "text": [
      "{'0': 817, '1': 183}\n"
     ]
    },
    {
     "data": {
      "image/png": "[encoded data removed]",
      "text/plain": [
       "<Figure size 504x360 with 1 Axes>"
      ]
     },
     "execution_count": 7,
     "metadata": {},
     "output_type": "execute_result"
    }
   ],
   "source": [
    "job = execute(qc,Aer.get_backend('qasm_simulator'),shots=1000)\n",
    "counts = job.result().get_counts(qc)\n",
    "print(counts)\n",
    "\n",
    "plot_histogram(counts)\n",
    "\n"
   ]
  },
  {
   "cell_type": "code",
   "execution_count": 8,
   "metadata": {},
   "outputs": [
    {
     "name": "stdout",
     "output_type": "stream",
     "text": [
      "The quantum state is 0.9099 |0> + 0.4148 |1>\n",
      "The expected value of observing '0' is 827.9632\n",
      "The expected value of observing '1' is 172.0368\n"
     ]
    }
   ],
   "source": [
    "quantum_state = [ cos(rotation_angle) , sin (rotation_angle) ]\n",
    "print(\"The quantum state is\",round(quantum_state[0],4),\"|0> +\",round(quantum_state[1],4),\"|1>\")\n",
    "\n",
    "the_expected_number_of_zeros = 1000*cos(rotation_angle)**2\n",
    "the_expected_number_of_ones = 1000*sin(rotation_angle)**2\n",
    "\n",
    "print(\"The expected value of observing '0' is\",round(the_expected_number_of_zeros,4))\n",
    "print(\"The expected value of observing '1' is\",round(the_expected_number_of_ones,4))"
   ]
  },
  {
   "cell_type": "code",
   "execution_count": null,
   "metadata": {},
   "outputs": [],
   "source": []
  }
 ],
 "metadata": {
  "kernelspec": {
   "display_name": "Python 3",
   "language": "python",
   "name": "python3"
  },
  "language_info": {
   "codemirror_mode": {
    "name": "ipython",
    "version": 3
   },
   "file_extension": ".py",
   "mimetype": "text/x-python",
   "name": "python",
   "nbconvert_exporter": "python",
   "pygments_lexer": "ipython3",
   "version": "3.8.3"
  }
 },
 "nbformat": 4,
 "nbformat_minor": 2
}
