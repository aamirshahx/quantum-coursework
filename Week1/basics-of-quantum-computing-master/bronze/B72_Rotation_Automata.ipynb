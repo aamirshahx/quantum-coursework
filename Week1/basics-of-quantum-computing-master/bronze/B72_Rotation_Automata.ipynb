{
 "cells": [
  {
   "cell_type": "markdown",
   "metadata": {},
   "source": [
    "<table> <tr>\n",
    "        <td  style=\"background-color:#ffffff;\">\n",
    "            <a href=\"http://qworld.lu.lv\" target=\"_blank\"><img src=\"..\\images\\qworld.jpg\" width=\"25%\" align=\"left\"> </a></td>\n",
    "        <td style=\"background-color:#ffffff;vertical-align:bottom;text-align:right;\">\n",
    "            prepared by <a href=\"http://abu.lu.lv\" target=\"_blank\">Abuzer Yakaryilmaz</a> (<a href=\"http://qworld.lu.lv/index.php/qlatvia/\" target=\"_blank\">QLatvia</a>)\n",
    "        </td>        \n",
    "</tr></table>"
   ]
  },
  {
   "cell_type": "markdown",
   "metadata": {},
   "source": [
    "<table width=\"100%\"><tr><td style=\"color:#bbbbbb;background-color:#ffffff;font-size:11px;font-style:italic;text-align:right;\">This cell contains some macros. If there is a problem with displaying mathematical formulas, please run this cell to load these macros. </td></tr></table>\n",
    "$ \\newcommand{\\bra}[1]{\\langle #1|} $\n",
    "$ \\newcommand{\\ket}[1]{|#1\\rangle} $\n",
    "$ \\newcommand{\\braket}[2]{\\langle #1|#2\\rangle} $\n",
    "$ \\newcommand{\\dot}[2]{ #1 \\cdot #2} $\n",
    "$ \\newcommand{\\biginner}[2]{\\left\\langle #1,#2\\right\\rangle} $\n",
    "$ \\newcommand{\\mymatrix}[2]{\\left( \\begin{array}{#1} #2\\end{array} \\right)} $\n",
    "$ \\newcommand{\\myvector}[1]{\\mymatrix{c}{#1}} $\n",
    "$ \\newcommand{\\myrvector}[1]{\\mymatrix{r}{#1}} $\n",
    "$ \\newcommand{\\mypar}[1]{\\left( #1 \\right)} $\n",
    "$ \\newcommand{\\mybigpar}[1]{ \\Big( #1 \\Big)} $\n",
    "$ \\newcommand{\\sqrttwo}{\\frac{1}{\\sqrt{2}}} $\n",
    "$ \\newcommand{\\dsqrttwo}{\\dfrac{1}{\\sqrt{2}}} $\n",
    "$ \\newcommand{\\onehalf}{\\frac{1}{2}} $\n",
    "$ \\newcommand{\\donehalf}{\\dfrac{1}{2}} $\n",
    "$ \\newcommand{\\hadamard}{ \\mymatrix{rr}{ \\sqrttwo & \\sqrttwo \\\\ \\sqrttwo & -\\sqrttwo }} $\n",
    "$ \\newcommand{\\vzero}{\\myvector{1\\\\0}} $\n",
    "$ \\newcommand{\\vone}{\\myvector{0\\\\1}} $\n",
    "$ \\newcommand{\\stateplus}{\\myvector{ \\sqrttwo \\\\  \\sqrttwo } } $\n",
    "$ \\newcommand{\\stateminus}{ \\myrvector{ \\sqrttwo \\\\ -\\sqrttwo } } $\n",
    "$ \\newcommand{\\myarray}[2]{ \\begin{array}{#1}#2\\end{array}} $\n",
    "$ \\newcommand{\\X}{ \\mymatrix{cc}{0 & 1 \\\\ 1 & 0}  } $\n",
    "$ \\newcommand{\\I}{ \\mymatrix{rr}{1 & 0 \\\\ 0 & 1}  } $\n",
    "$ \\newcommand{\\Z}{ \\mymatrix{rr}{1 & 0 \\\\ 0 & -1}  } $\n",
    "$ \\newcommand{\\Htwo}{ \\mymatrix{rrrr}{ \\frac{1}{2} & \\frac{1}{2} & \\frac{1}{2} & \\frac{1}{2} \\\\ \\frac{1}{2} & -\\frac{1}{2} & \\frac{1}{2} & -\\frac{1}{2} \\\\ \\frac{1}{2} & \\frac{1}{2} & -\\frac{1}{2} & -\\frac{1}{2} \\\\ \\frac{1}{2} & -\\frac{1}{2} & -\\frac{1}{2} & \\frac{1}{2} } } $\n",
    "$ \\newcommand{\\CNOT}{ \\mymatrix{cccc}{1 & 0 & 0 & 0 \\\\ 0 & 1 & 0 & 0 \\\\ 0 & 0 & 0 & 1 \\\\ 0 & 0 & 1 & 0} } $\n",
    "$ \\newcommand{\\norm}[1]{ \\left\\lVert #1 \\right\\rVert } $\n",
    "$ \\newcommand{\\pstate}[1]{ \\lceil \\mspace{-1mu} #1 \\mspace{-1.5mu} \\rfloor } $"
   ]
  },
  {
   "cell_type": "markdown",
   "metadata": {},
   "source": [
    "<h2>Rotation Automata</h2>"
   ]
  },
  {
   "cell_type": "markdown",
   "metadata": {},
   "source": [
    "A rotation automaton is a decider. It makes decisions on the stream of symbols. We focus on the streams composed by symbol $ a $'s. So, the decisions will be basically about the lengths of streams.\n",
    "\n",
    "We start with rotation automata having single qubits that are initialized to $ \\ket{0} $.\n",
    "\n",
    "We fix a rotation angle, and we apply this rotation for each symbol. \n",
    "\n",
    "After reading the stream, we make a measurement. If the outcome is '0', then we give one answer, and, if the outcome is '1', then we give another answer.  \n",
    "\n",
    "Our aim is to make correct decisions on the streams as good as possible."
   ]
  },
  {
   "cell_type": "markdown",
   "metadata": {},
   "source": [
    "<h3> A trivial promise problem </h3>\n",
    "\n",
    "The number of $a$'s is a multiple of $ 8 $.\n",
    "\n",
    "For each symbol $a$, we apply the rotation with angle $ \\pi/16 $.\n",
    "\n",
    "In this way, we can exactly (zero-error) separate the streams having even multiples of $ 8 $ $a$'s from the streams having odd multiples of $ 8 $ $a$'s."
   ]
  },
  {
   "cell_type": "code",
   "execution_count": 1,
   "metadata": {},
   "outputs": [
    {
     "name": "stdout",
     "output_type": "stream",
     "text": [
      "8 is odd multiple of 8\n",
      "stream of lenght 8 -> {'1': 100}\n",
      "\n",
      "16 is even multiple of 8\n",
      "stream of lenght 16 -> {'0': 100}\n",
      "\n",
      "24 is odd multiple of 8\n",
      "stream of lenght 24 -> {'1': 100}\n",
      "\n",
      "32 is even multiple of 8\n",
      "stream of lenght 32 -> {'0': 100}\n",
      "\n",
      "40 is odd multiple of 8\n",
      "stream of lenght 40 -> {'1': 100}\n",
      "\n",
      "48 is even multiple of 8\n",
      "stream of lenght 48 -> {'0': 100}\n",
      "\n",
      "56 is odd multiple of 8\n",
      "stream of lenght 56 -> {'1': 100}\n",
      "\n",
      "64 is even multiple of 8\n",
      "stream of lenght 64 -> {'0': 100}\n",
      "\n"
     ]
    }
   ],
   "source": [
    "from qiskit import QuantumRegister, ClassicalRegister, QuantumCircuit, execute, Aer\n",
    "from math import pi\n",
    "\n",
    "# the angle of rotation\n",
    "theta = pi/16\n",
    "\n",
    "# we read streams of length 8, 16, 24, 32, 40, 48, 56, 64\n",
    "for i in [8, 16, 24, 32, 40, 48, 56, 64]:\n",
    "    # quantum circuit with one qubit and one bit\n",
    "    qreg =  QuantumRegister(1) \n",
    "    creg = ClassicalRegister(1) \n",
    "    mycircuit = QuantumCircuit(qreg,creg)\n",
    "    # the stream of length i\n",
    "    for j in range(i):\n",
    "        mycircuit.ry(2*theta,qreg[0]) # apply one rotation for each symbol\n",
    "    # we measure after reading the whole stream\n",
    "    mycircuit.measure(qreg[0],creg[0])\n",
    "    # execute the circuit 100 times\n",
    "    job = execute(mycircuit,Aer.get_backend('qasm_simulator'),shots=100)\n",
    "    counts = job.result().get_counts(mycircuit)\n",
    "    d = i /8\n",
    "    if d % 2 == 0: print(i,\"is even multiple of 8\")\n",
    "    else: print(i,\"is odd multiple of 8\")\n",
    "    print(\"stream of lenght\",i,\"->\",counts)\n",
    "    print()\n"
   ]
  },
  {
   "cell_type": "markdown",
   "metadata": {},
   "source": [
    "<b> Remark:</b> For the same problem, we need at least 4 classical bits. \n",
    "\n",
    "When changing the parameter $2^3$ to $ 2^k $, we can still use a single qubit. On the other hand, we need at least $ (k+1) $ classical bits."
   ]
  },
  {
   "cell_type": "markdown",
   "metadata": {},
   "source": [
    "<h3>Task 1</h3>\n",
    "\n",
    "Do the same task given above by using different angles.\n",
    "\n",
    "Test at least three different angles. \n",
    "\n",
    "Please modify the code above."
   ]
  },
  {
   "cell_type": "markdown",
   "metadata": {},
   "source": [
    "<a href=\"B72_Rotation_Automata_Solutions.ipynb#task1\">click for our solution</a>"
   ]
  },
  {
   "cell_type": "markdown",
   "metadata": {},
   "source": [
    "<h3>$ \\mathsf{MOD_p} $</h3>\n",
    "\n",
    "Now, we consider a more general problem called $ \\mathsf{MOD_p} $, where $\\sf p$ is a prime number.\n",
    "\n",
    "We will read a stream of symbols $a$. The number of $a$'s can be arbitrary.\n",
    "\n",
    "For each symbol, we apply a rotation.\n",
    "\n",
    "Our aim is to separate the streams whose length is a multiple of $ \\sf p $ from the other streams. \n",
    "\n",
    "<b>We design a good decider step by step.</b>\n",
    "\n",
    "<i>Remark that each $ p $ defines a different problem.</i>"
   ]
  },
  {
   "cell_type": "markdown",
   "metadata": {},
   "source": [
    "<h3>Task 2</h3>\n",
    "\n",
    "Let $ \\mathsf{p} = 11 $.\n",
    "\n",
    "Determine an angle of rotation such that when the length of stream is a multiple of $ \\sf p $, then we observe only state $ 0 $, and we can also observe state $ 1 $, otherwise.\n",
    "\n",
    "Test your rotation by using a quantum circuit. Execute the circuit for all streams of lengths from 1 to 11."
   ]
  },
  {
   "cell_type": "code",
   "execution_count": 2,
   "metadata": {},
   "outputs": [
    {
     "name": "stdout",
     "output_type": "stream",
     "text": [
      "Random multiple 8\n",
      "stream of lenght 1 -> {'0': 36, '1': 64}\n",
      "\n",
      "stream of lenght 2 -> {'0': 2, '1': 98}\n",
      "\n",
      "stream of lenght 3 -> {'0': 75, '1': 25}\n",
      "\n",
      "stream of lenght 4 -> {'0': 95, '1': 5}\n",
      "\n",
      "stream of lenght 5 -> {'0': 16, '1': 84}\n",
      "\n",
      "stream of lenght 6 -> {'0': 19, '1': 81}\n",
      "\n",
      "stream of lenght 7 -> {'0': 93, '1': 7}\n",
      "\n",
      "stream of lenght 8 -> {'0': 76, '1': 24}\n",
      "\n",
      "stream of lenght 9 -> {'1': 100}\n",
      "\n",
      "stream of lenght 10 -> {'0': 43, '1': 57}\n",
      "\n",
      "stream of lenght 11 -> {'0': 100}\n",
      "\n"
     ]
    }
   ],
   "source": [
    "from qiskit import QuantumRegister, ClassicalRegister, QuantumCircuit, execute, Aer\n",
    "from math import pi\n",
    "from random import randrange\n",
    "\n",
    "rand_mul = randrange(1,11)\n",
    "\n",
    "print(\"Random value\", rand_mul)\n",
    "\n",
    "# the angle of rotation\n",
    "theta = rand_mul * (pi/11)\n",
    "\n",
    "# the streams of lengths from 1 to 11\n",
    "for i in range(1,12):\n",
    "    # quantum circuit with one qubit and one bit\n",
    "    qreg =  QuantumRegister(1) \n",
    "    creg = ClassicalRegister(1) \n",
    "    mycircuit = QuantumCircuit(qreg,creg)\n",
    "    # the stream of length i\n",
    "    for j in range(i):\n",
    "        mycircuit.ry(2*theta,qreg[0]) # apply one rotation for each symbol\n",
    "    # we measure after reading the whole stream\n",
    "    mycircuit.measure(qreg[0],creg[0])\n",
    "    # execute the circuit 100 times\n",
    "    job = execute(mycircuit,Aer.get_backend('qasm_simulator'),shots=100)\n",
    "    counts = job.result().get_counts(mycircuit)\n",
    "    \n",
    "    print(\"stream of lenght\",i,\"->\",counts)\n",
    "    print()\n",
    "    \n",
    "    "
   ]
  },
  {
   "cell_type": "markdown",
   "metadata": {},
   "source": [
    "<a href=\"B72_Rotation_Automata_Solutions.ipynb#task2\">click for our solution</a>"
   ]
  },
  {
   "cell_type": "markdown",
   "metadata": {},
   "source": [
    "<h3> Observation</h3>\n",
    "\n",
    "For some streams of lengths from 1 to 10, we observe state $\\ket{1}$ only for a few times.\n",
    "\n",
    "This is definitely not desirable if we wish to distinguish the lengths that are multiple of $\\sf p$ from the rest with high probability."
   ]
  },
  {
   "cell_type": "markdown",
   "metadata": {},
   "source": [
    "<h3>Task 3</h3>\n",
    "\n",
    "List down 10 possible different angles for Task 2, where each angle should be between 0 and $2\\pi$."
   ]
  },
  {
   "cell_type": "markdown",
   "metadata": {},
   "source": [
    "<a href=\"B72_Rotation_Automata_Solutions.ipynb#task3\">click for our solution</a>"
   ]
  },
  {
   "cell_type": "markdown",
   "metadata": {},
   "source": [
    "<h3>Task 4</h3>\n",
    "\n",
    "For each stream of length from 1 to 10, determine the best angle of rotation by using your circuit."
   ]
  },
  {
   "cell_type": "code",
   "execution_count": 40,
   "metadata": {},
   "outputs": [
    {
     "name": "stdout",
     "output_type": "stream",
     "text": [
      "['1', '-', '1: 2960', '2: 8313', '3: 9796', '4: 5649', '5: 810', '6: 831', '7: 5773', '8: 9782', '9: 8203', '10: 2910']\n",
      "for length 1 , the best k is 3\n",
      "\n",
      "['2', '-', '1: 8236', '2: 5716', '3: 809', '4: 9813', '5: 2912', '6: 2932', '7: 9789', '8: 825', '9: 5821', '10: 8237']\n",
      "for length 2 , the best k is 4\n",
      "\n",
      "['3', '-', '1: 9788', '2: 804', '3: 8267', '4: 2819', '5: 5736', '6: 5714', '7: 2872', '8: 8219', '9: 814', '10: 9772']\n",
      "for length 3 , the best k is 1\n",
      "\n",
      "['4', '-', '1: 5760', '2: 9795', '3: 2949', '4: 806', '5: 8294', '6: 8295', '7: 795', '8: 2922', '9: 9790', '10: 5641']\n",
      "for length 4 , the best k is 2\n",
      "\n",
      "['5', '-', '1: 757', '2: 2897', '3: 5780', '4: 8314', '5: 9825', '6: 9785', '7: 8274', '8: 5785', '9: 2980', '10: 819']\n",
      "for length 5 , the best k is 5\n",
      "\n",
      "['6', '-', '1: 763', '2: 2920', '3: 5764', '4: 8263', '5: 9782', '6: 9816', '7: 8191', '8: 5820', '9: 3011', '10: 804']\n",
      "for length 6 , the best k is 6\n",
      "\n",
      "['7', '-', '1: 5732', '2: 9804', '3: 2895', '4: 762', '5: 8334', '6: 8309', '7: 806', '8: 2898', '9: 9780', '10: 5816']\n",
      "for length 7 , the best k is 2\n",
      "\n",
      "['8', '-', '1: 9798', '2: 777', '3: 8265', '4: 2951', '5: 5683', '6: 5670', '7: 2940', '8: 8291', '9: 765', '10: 9799']\n",
      "for length 8 , the best k is 10\n",
      "\n",
      "['9', '-', '1: 8272', '2: 5749', '3: 756', '4: 9809', '5: 2947', '6: 2957', '7: 9810', '8: 778', '9: 5650', '10: 8307']\n",
      "for length 9 , the best k is 7\n",
      "\n",
      "['10', '-', '1: 2881', '2: 8322', '3: 9829', '4: 5747', '5: 812', '6: 867', '7: 5763', '8: 9787', '9: 8257', '10: 2921']\n",
      "for length 10 , the best k is 3\n",
      "\n"
     ]
    }
   ],
   "source": [
    "from qiskit import QuantumRegister, ClassicalRegister, QuantumCircuit, execute, Aer\n",
    "from math import pi\n",
    "from random import randrange\n",
    "\n",
    "for i in range(1,11):\n",
    "    number_of_one_state = 0\n",
    "    best_k = 1\n",
    "    all_outcomes_for_i = [str(i), \"-\"]\n",
    "    for k in range(1,11):\n",
    "        theta = k*2*pi/11\n",
    "        qreg =  QuantumRegister(1) \n",
    "        creg = ClassicalRegister(1) \n",
    "        mycircuit = QuantumCircuit(qreg,creg)\n",
    "\n",
    "        for j in range(i):\n",
    "            mycircuit.ry(2*theta,qreg[0])\n",
    "        \n",
    "        mycircuit.measure(qreg[0],creg[0])\n",
    "        job = execute(mycircuit,Aer.get_backend('qasm_simulator'),shots=10000)\n",
    "        counts = job.result().get_counts(mycircuit)\n",
    "        all_outcomes_for_i.append(str(k) + \": \" + str(counts['1']))\n",
    "\n",
    "        if int(counts['1']) > number_of_one_state:\n",
    "            number_of_one_state = counts['1']\n",
    "            best_k = k\n",
    "\n",
    "    print(all_outcomes_for_i)\n",
    "    print(\"for length\", i,\", the best k is\",best_k)\n",
    "    print()"
   ]
  },
  {
   "cell_type": "markdown",
   "metadata": {},
   "source": [
    "<a href=\"B72_Rotation_Automata_Solutions.ipynb#task4\">click for our solution</a>"
   ]
  },
  {
   "cell_type": "markdown",
   "metadata": {},
   "source": [
    "<h3> Random strategy for $ \\mathsf{MOD_p} $</h3>"
   ]
  },
  {
   "cell_type": "markdown",
   "metadata": {},
   "source": [
    "For different length of streams that are not multiple of $\\sf p$, different angles $ \\big( k\\frac{2\\pi}{p} \\big) $ work better.\n",
    "\n",
    "We can use more than one rotation automaton, each of which uses different $ k $ for its angle of rotation. \n",
    "\n",
    "In this way, we can get better results, i.e., we can distinguish the lengths not multiple of $\\sf p$ with better probabilities, i.e., we observe state $ \\ket{1} $ more than half times for example."
   ]
  },
  {
   "cell_type": "markdown",
   "metadata": {},
   "source": [
    "<h3>Task 5</h3>\n",
    "\n",
    "Let $ \\mathsf{p} = 31 $.\n",
    "\n",
    "Create a circuit with three quantum bits and three classical bits.\n",
    "\n",
    "Rotate the qubits with angles $ 3\\cdot \\frac{2\\pi}{31} $, $ 7\\cdot\\frac{2\\pi}{31} $, and $ 11\\cdot\\frac{2\\pi}{31} $, respectively.\n",
    "\n",
    "Execute your circuit for all streams of lengths from 1 to 30. Check whether the number of state $ \\ket{000} $ is less than half or not.\n",
    "\n",
    "<i>Note that whether a key is in dictionary or not can be checked as follows:</i>\n",
    "\n",
    "    if '000' in counts.keys():\n",
    "        c = counts['000']\n",
    "    else:\n",
    "        c = 0"
   ]
  },
  {
   "cell_type": "code",
   "execution_count": 2,
   "metadata": {},
   "outputs": [
    {
     "name": "stdout",
     "output_type": "stream",
     "text": [
      "State 000 = 3 which is < half\n",
      "State 000 = 4 which is < half\n",
      "State 000 = 2 which is < half\n",
      "State 000 = 2 which is < half\n",
      "State 000 = 3 which is < half\n",
      "State 000 = 8 which is < half\n",
      "State 000 = 3 which is < half\n",
      "State 000 = 7 which is < half\n",
      "State 000 = 2 which is < half\n",
      "State 000 = 2 which is < half\n",
      "State 000 = 5 which is < half\n",
      "State 000 = 4 which is < half\n",
      "State 000 = 5 which is < half\n",
      "State 000 = 4 which is < half\n",
      "State 000 = 1 which is < half\n",
      "State 000 = 8 which is < half\n",
      "State 000 = 6 which is < half\n",
      "State 000 = 7 which is < half\n",
      "State 000 = 6 which is < half\n",
      "State 000 = 8 which is < half\n",
      "State 000 = 0 which is < half\n",
      "State 000 = 7 which is < half\n",
      "State 000 = 3 which is < half\n",
      "State 000 = 7 which is < half\n",
      "State 000 = 3 which is < half\n",
      "State 000 = 5 which is < half\n",
      "State 000 = 6 which is < half\n",
      "State 000 = 3 which is < half\n",
      "State 000 = 10 which is < half\n",
      "State 000 = 6 which is < half\n"
     ]
    }
   ],
   "source": [
    "from qiskit import QuantumRegister, ClassicalRegister, QuantumCircuit, execute, Aer\n",
    "from math import pi\n",
    "from random import randrange\n",
    "\n",
    "theata = [3*2*pi/31,7*2*pi/31,11*2*pi/31]\n",
    "    \n",
    "# the streams of lengths from 1 to 30\n",
    "for i in range(1,31):\n",
    "    q = QuantumRegister(3)\n",
    "    c = ClassicalRegister(3)\n",
    "    \n",
    "    qc = QuantumCircuit(q,c)\n",
    "    \n",
    "    qc.ry(2*theata[0],q[0])\n",
    "    qc.ry(2*theata[1],q[1])\n",
    "    qc.ry(2*theata[2],q[2])\n",
    "    \n",
    "    qc.measure(q,c)\n",
    "    # execute the circuit 1000 times\n",
    "    job = execute(qc,Aer.get_backend('qasm_simulator'),shots=1000)\n",
    "    counts = job.result().get_counts(qc)\n",
    "    \n",
    "    if '000' in counts.keys():\n",
    "        c = counts['000']\n",
    "    else:\n",
    "        c = 0\n",
    "    \n",
    "    print(\"State 000 =\", c, \"which is < half\" if c/1000 < 0.5 else \"which >= to half\")\n",
    "    "
   ]
  },
  {
   "cell_type": "markdown",
   "metadata": {},
   "source": [
    "<a href=\"B72_Rotation_Automata_Solutions.ipynb#task5\">click for our solution</a>"
   ]
  },
  {
   "cell_type": "markdown",
   "metadata": {},
   "source": [
    "<h3>Task 6</h3>\n",
    "\n",
    "Let $ \\mathsf{p} = 31 $.\n",
    "\n",
    "Create a circuit with three quantum bits and three classical bits.\n",
    "\n",
    "Rotate the qubits with random angles of the form $ k\\frac{2\\pi}{31} $, where $ k \n",
    "\\in \\{1,\\ldots,30\\}.$\n",
    "\n",
    "Execute your circuit for all streams of lengths from 1 to 30.\n",
    "\n",
    "Calculate the maximum percentage of observing the state $ \\ket{000} $.\n",
    "\n",
    "Repeat this task for a few times.\n",
    "\n",
    "<i>Note that whether a key is in dictionary or not can be checked as follows:</i>\n",
    "\n",
    "    if '000' in counts.keys():\n",
    "        c = counts['000']\n",
    "    else:\n",
    "        c = 0"
   ]
  },
  {
   "cell_type": "code",
   "execution_count": 10,
   "metadata": {},
   "outputs": [
    {
     "name": "stdout",
     "output_type": "stream",
     "text": [
      "max % 50.3\n"
     ]
    }
   ],
   "source": [
    "from qiskit import QuantumRegister, ClassicalRegister, QuantumCircuit, execute, Aer\n",
    "from math import pi\n",
    "from random import randrange\n",
    "\n",
    "rand_mul = [randrange(1,31), randrange(1,31), randrange(1,31)]\n",
    "theata = [rand_mul[0]*2*pi/31, rand_mul[1]*2*pi/31, rand_mul[2]*2*pi/31]\n",
    "max_percentage = 0\n",
    "\n",
    "for i in range(1,31):\n",
    "    q = QuantumRegister(3)\n",
    "    c = ClassicalRegister(3)\n",
    "    qc = QuantumCircuit(q,c)\n",
    "    \n",
    "    qc.ry(theata[0],q[0])\n",
    "    qc.ry(theata[1],q[1])\n",
    "    qc.ry(theata[2],q[2])\n",
    "    \n",
    "    qc.measure(q,c)\n",
    "    job = execute(qc,Aer.get_backend('qasm_simulator'),shots=1000)\n",
    "    counts = job.result().get_counts(qc)\n",
    "    \n",
    "    if '000' in counts.keys():\n",
    "        c = counts['000']\n",
    "    else:\n",
    "        c = 0\n",
    "    \n",
    "    percentage = c/1000*100\n",
    "    \n",
    "    if percentage > max_percentage:\n",
    "        max_percentage = percentage\n",
    "        \n",
    "print(\"max %\", max_percentage)    \n",
    "    "
   ]
  },
  {
   "cell_type": "markdown",
   "metadata": {},
   "source": [
    "<a href=\"B72_Rotation_Automata_Solutions.ipynb#task6\">click for our solution</a>"
   ]
  },
  {
   "cell_type": "markdown",
   "metadata": {},
   "source": [
    "<h3>Task 7</h3>\n",
    "\n",
    "Repeat Task 6 by using four and five qubits."
   ]
  },
  {
   "cell_type": "code",
   "execution_count": 45,
   "metadata": {},
   "outputs": [
    {
     "name": "stdout",
     "output_type": "stream",
     "text": [
      "max percentage is 13.8\n"
     ]
    }
   ],
   "source": [
    "from qiskit import QuantumRegister, ClassicalRegister, QuantumCircuit, execute, Aer\n",
    "from random import randrange\n",
    "from math import pi\n",
    "\n",
    "rand_mul = [randrange(1,31),randrange(1,31),randrange(1,31),randrange(1,31),randrange(1,31)]\n",
    "theata = [rand_mul[0]*2*pi/31, rand_mul[1]*2*pi/31, rand_mul[2]*2*pi/31, rand_mul[3], rand_mul[4]]\n",
    "max_percentage = 0\n",
    "no_of_qubits = [4,5]\n",
    "\n",
    "for qubits in no_of_qubits: \n",
    "    for i in range(1,31):\n",
    "        q = QuantumRegister(qubits)\n",
    "        c = ClassicalRegister(qubits)        \n",
    "        qc = QuantumCircuit(q,c)\n",
    "        \n",
    "        qc.ry(theata[0],q[0])\n",
    "        qc.ry(theata[1],q[1])\n",
    "        qc.ry(theata[2],q[2])\n",
    "        qc.ry(theata[3],q[3])\n",
    "\n",
    "        if qubits == 5:\n",
    "            qc.ry(theata[4],q[4])\n",
    "        \n",
    "        qc.measure(q,c)\n",
    "        job = execute(qc,Aer.get_backend('qasm_simulator'),shots=1000)\n",
    "        counts = job.result().get_counts(qc)\n",
    "        \n",
    "        \n",
    "        if qubits == 4:\n",
    "            zeros = '0000'\n",
    "        \n",
    "        if qubits == 5:\n",
    "            zeros = '00000'\n",
    "            \n",
    "        if zeros in counts.keys():\n",
    "            c = counts[zeros]  \n",
    "        else:\n",
    "            c = 0\n",
    "\n",
    "        percentage = round(c/1000*100,2)\n",
    "\n",
    "        if percentage > max_percentage:\n",
    "            max_percentage = percentage\n",
    "\n",
    "print(\"max percentage is\", max_percentage)        \n",
    "        "
   ]
  },
  {
   "cell_type": "markdown",
   "metadata": {},
   "source": [
    "<a href=\"B72_Rotation_Automata_Solutions.ipynb#task7\">click for our solution</a>"
   ]
  },
  {
   "cell_type": "markdown",
   "metadata": {},
   "source": [
    "<h3>Remarks</h3>\n",
    "\n",
    "Problem $\\sf MOD_p$ can be classically solved by using no less than $\\sf p$ states.\n",
    "\n",
    "As we have observed, the same problem can be solved by using a few quantum states in some cases.\n",
    "\n",
    "In fact, the above given random strategy can be implemented more state efficiently (we discuss the basics of this technique in the next notebook) so that $ \\log \\mathsf{p} $ quantum states is enough to solve the problem with high probability.\n",
    "\n",
    "Thus, we need at least logarithmic number of classical bits. On the other hand, we can use double logarithmic quantum bits. This is another exponential advantage of quantum computation.  \n",
    "\n",
    "<i> One implementation issue for the quantum algorithm is to implement more and more precise rotations, i.e., implementing the rotation with angle $ \\frac{2\\pi}{p} $ may not be possible when $ p $ gets bigger and bigger.\n",
    "\n",
    "Besides, a long sequence of rotations may require some error corrections, and each error correction solution can use new qubits.\n",
    "</i>"
   ]
  },
  {
   "cell_type": "code",
   "execution_count": null,
   "metadata": {},
   "outputs": [],
   "source": []
  }
 ],
 "metadata": {
  "kernelspec": {
   "display_name": "Python 3",
   "language": "python",
   "name": "python3"
  },
  "language_info": {
   "codemirror_mode": {
    "name": "ipython",
    "version": 3
   },
   "file_extension": ".py",
   "mimetype": "text/x-python",
   "name": "python",
   "nbconvert_exporter": "python",
   "pygments_lexer": "ipython3",
   "version": "3.8.3"
  }
 },
 "nbformat": 4,
 "nbformat_minor": 2
}
