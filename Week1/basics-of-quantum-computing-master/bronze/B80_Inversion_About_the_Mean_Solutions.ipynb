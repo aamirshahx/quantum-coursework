{
 "cells": [
  {
   "cell_type": "markdown",
   "metadata": {},
   "source": [
    "<table> <tr>\n",
    "        <td  style=\"background-color:#ffffff;\">\n",
    "            <a href=\"http://qworld.lu.lv\" target=\"_blank\"><img src=\"..\\images\\qworld.jpg\" width=\"25%\" align=\"left\"> </a></td>\n",
    "        <td style=\"background-color:#ffffff;vertical-align:bottom;text-align:right;\">\n",
    "            prepared by <a href=\"http://abu.lu.lv\" target=\"_blank\">Abuzer Yakaryilmaz</a> (<a href=\"http://qworld.lu.lv/index.php/qlatvia/\" target=\"_blank\">QLatvia</a>)\n",
    "        </td>        \n",
    "</tr></table>"
   ]
  },
  {
   "cell_type": "markdown",
   "metadata": {},
   "source": [
    "<table width=\"100%\"><tr><td style=\"color:#bbbbbb;background-color:#ffffff;font-size:11px;font-style:italic;text-align:right;\">This cell contains some macros. If there is a problem with displaying mathematical formulas, please run this cell to load these macros. </td></tr></table>\n",
    "$ \\newcommand{\\bra}[1]{\\langle #1|} $\n",
    "$ \\newcommand{\\ket}[1]{|#1\\rangle} $\n",
    "$ \\newcommand{\\braket}[2]{\\langle #1|#2\\rangle} $\n",
    "$ \\newcommand{\\dot}[2]{ #1 \\cdot #2} $\n",
    "$ \\newcommand{\\biginner}[2]{\\left\\langle #1,#2\\right\\rangle} $\n",
    "$ \\newcommand{\\mymatrix}[2]{\\left( \\begin{array}{#1} #2\\end{array} \\right)} $\n",
    "$ \\newcommand{\\myvector}[1]{\\mymatrix{c}{#1}} $\n",
    "$ \\newcommand{\\myrvector}[1]{\\mymatrix{r}{#1}} $\n",
    "$ \\newcommand{\\mypar}[1]{\\left( #1 \\right)} $\n",
    "$ \\newcommand{\\mybigpar}[1]{ \\Big( #1 \\Big)} $\n",
    "$ \\newcommand{\\sqrttwo}{\\frac{1}{\\sqrt{2}}} $\n",
    "$ \\newcommand{\\dsqrttwo}{\\dfrac{1}{\\sqrt{2}}} $\n",
    "$ \\newcommand{\\onehalf}{\\frac{1}{2}} $\n",
    "$ \\newcommand{\\donehalf}{\\dfrac{1}{2}} $\n",
    "$ \\newcommand{\\hadamard}{ \\mymatrix{rr}{ \\sqrttwo & \\sqrttwo \\\\ \\sqrttwo & -\\sqrttwo }} $\n",
    "$ \\newcommand{\\vzero}{\\myvector{1\\\\0}} $\n",
    "$ \\newcommand{\\vone}{\\myvector{0\\\\1}} $\n",
    "$ \\newcommand{\\stateplus}{\\myvector{ \\sqrttwo \\\\  \\sqrttwo } } $\n",
    "$ \\newcommand{\\stateminus}{ \\myrvector{ \\sqrttwo \\\\ -\\sqrttwo } } $\n",
    "$ \\newcommand{\\myarray}[2]{ \\begin{array}{#1}#2\\end{array}} $\n",
    "$ \\newcommand{\\X}{ \\mymatrix{cc}{0 & 1 \\\\ 1 & 0}  } $\n",
    "$ \\newcommand{\\I}{ \\mymatrix{rr}{1 & 0 \\\\ 0 & 1}  } $\n",
    "$ \\newcommand{\\Z}{ \\mymatrix{rr}{1 & 0 \\\\ 0 & -1}  } $\n",
    "$ \\newcommand{\\Htwo}{ \\mymatrix{rrrr}{ \\frac{1}{2} & \\frac{1}{2} & \\frac{1}{2} & \\frac{1}{2} \\\\ \\frac{1}{2} & -\\frac{1}{2} & \\frac{1}{2} & -\\frac{1}{2} \\\\ \\frac{1}{2} & \\frac{1}{2} & -\\frac{1}{2} & -\\frac{1}{2} \\\\ \\frac{1}{2} & -\\frac{1}{2} & -\\frac{1}{2} & \\frac{1}{2} } } $\n",
    "$ \\newcommand{\\CNOT}{ \\mymatrix{cccc}{1 & 0 & 0 & 0 \\\\ 0 & 1 & 0 & 0 \\\\ 0 & 0 & 0 & 1 \\\\ 0 & 0 & 1 & 0} } $\n",
    "$ \\newcommand{\\norm}[1]{ \\left\\lVert #1 \\right\\rVert } $\n",
    "$ \\newcommand{\\pstate}[1]{ \\lceil \\mspace{-1mu} #1 \\mspace{-1.5mu} \\rfloor } $"
   ]
  },
  {
   "cell_type": "markdown",
   "metadata": {},
   "source": [
    "<h2> <font color=\"blue\"> Solutions for </font> Inversion About the Mean</h2>"
   ]
  },
  {
   "cell_type": "markdown",
   "metadata": {},
   "source": [
    "<a id=\"task1\"></a>\n",
    "<h3>Task 1</h3>\n",
    "\n",
    "We play this game for $ N = 8 $.\n",
    "\n",
    "Suppose that only the 4th element is marked.\n",
    "\n",
    "We can visualize the values of elements in the list in the beginning as follows."
   ]
  },
  {
   "cell_type": "code",
   "execution_count": 2,
   "metadata": {},
   "outputs": [
    {
     "data": {
      "text/plain": [
       "<BarContainer object of 8 artists>"
      ]
     },
     "execution_count": 2,
     "metadata": {},
     "output_type": "execute_result"
    },
    {
     "data": {
      "image/png": "[encoded data removed]",
      "text/plain": [
       "<Figure size 432x288 with 1 Axes>"
      ]
     },
     "metadata": {
      "needs_background": "light"
     },
     "output_type": "display_data"
    }
   ],
   "source": [
    "from matplotlib.pyplot import bar\n",
    "\n",
    "labels = []\n",
    "elements = []\n",
    "for i in range(8):\n",
    "    labels = labels + [i+1]\n",
    "    elements  = elements + [1]\n",
    "\n",
    "# visualize the values of elements in the list \n",
    "bar(labels,elements)"
   ]
  },
  {
   "cell_type": "markdown",
   "metadata": {},
   "source": [
    "<h3>Solution</h3>"
   ]
  },
  {
   "cell_type": "markdown",
   "metadata": {},
   "source": [
    "Iterate the game for one step and visualize the values of elements in the list after each phase."
   ]
  },
  {
   "cell_type": "markdown",
   "metadata": {},
   "source": [
    "1st step - query phase:"
   ]
  },
  {
   "cell_type": "code",
   "execution_count": 3,
   "metadata": {},
   "outputs": [
    {
     "data": {
      "text/plain": [
       "<BarContainer object of 8 artists>"
      ]
     },
     "execution_count": 3,
     "metadata": {},
     "output_type": "execute_result"
    },
    {
     "data": {
      "image/png": "[encoded data removed]",
      "text/plain": [
       "<Figure size 432x288 with 1 Axes>"
      ]
     },
     "metadata": {
      "needs_background": "light"
     },
     "output_type": "display_data"
    }
   ],
   "source": [
    "# \n",
    "# 1st step - query\n",
    "#\n",
    "\n",
    "# flip the sign of the marked element\n",
    "elements[3] = -1 * elements[3]\n",
    "\n",
    "# visualize the values of elements in the list \n",
    "bar(labels,elements)"
   ]
  },
  {
   "cell_type": "markdown",
   "metadata": {},
   "source": [
    "1st step - inversion phase:"
   ]
  },
  {
   "cell_type": "code",
   "execution_count": 4,
   "metadata": {},
   "outputs": [
    {
     "data": {
      "text/plain": [
       "<BarContainer object of 8 artists>"
      ]
     },
     "execution_count": 4,
     "metadata": {},
     "output_type": "execute_result"
    },
    {
     "data": {
      "image/png": "[encoded data removed]",
      "text/plain": [
       "<Figure size 432x288 with 1 Axes>"
      ]
     },
     "metadata": {
      "needs_background": "light"
     },
     "output_type": "display_data"
    }
   ],
   "source": [
    "#\n",
    "# 1st step - inversion\n",
    "#\n",
    "\n",
    "# summation of all values\n",
    "sum = 0\n",
    "for i in range(len(elements)):\n",
    "    sum += elements[i]\n",
    "\n",
    "# mean of all values\n",
    "mean = sum / len(elements)\n",
    "\n",
    "# reflection over the mean\n",
    "for i in range(len(elements)):\n",
    "    value = elements[i]\n",
    "    new_value = mean - (elements[i]-mean)\n",
    "    elements[i] = new_value\n",
    "\n",
    "# visualize the values of elements in the list \n",
    "bar(labels,elements)"
   ]
  },
  {
   "cell_type": "markdown",
   "metadata": {},
   "source": [
    "Iterate the game for one more step and visualize the values of elements in the list after each phase."
   ]
  },
  {
   "cell_type": "markdown",
   "metadata": {},
   "source": [
    "2nd step - query phase:"
   ]
  },
  {
   "cell_type": "code",
   "execution_count": 6,
   "metadata": {},
   "outputs": [
    {
     "data": {
      "text/plain": [
       "<BarContainer object of 8 artists>"
      ]
     },
     "execution_count": 6,
     "metadata": {},
     "output_type": "execute_result"
    },
    {
     "data": {
      "image/png": "[encoded data removed]",
      "text/plain": [
       "<Figure size 432x288 with 1 Axes>"
      ]
     },
     "metadata": {
      "needs_background": "light"
     },
     "output_type": "display_data"
    }
   ],
   "source": [
    "# \n",
    "# 2nd step - query\n",
    "#\n",
    "\n",
    "# flip the sign of the marked element\n",
    "elements[3] = -1 * elements[3]\n",
    "\n",
    "# visualize the values of elements in the list \n",
    "bar(labels,elements)"
   ]
  },
  {
   "cell_type": "markdown",
   "metadata": {},
   "source": [
    "2nd step - inversion phase:"
   ]
  },
  {
   "cell_type": "code",
   "execution_count": 5,
   "metadata": {},
   "outputs": [
    {
     "data": {
      "text/plain": [
       "<BarContainer object of 8 artists>"
      ]
     },
     "execution_count": 5,
     "metadata": {},
     "output_type": "execute_result"
    },
    {
     "data": {
      "image/png": "[encoded data removed]",
      "text/plain": [
       "<Figure size 432x288 with 1 Axes>"
      ]
     },
     "metadata": {
      "needs_background": "light"
     },
     "output_type": "display_data"
    }
   ],
   "source": [
    "#\n",
    "# 2nd step - inversion\n",
    "#\n",
    "\n",
    "# summation of all values\n",
    "sum = 0\n",
    "for i in range(len(elements)):\n",
    "    sum += elements[i]\n",
    "\n",
    "# mean of all values\n",
    "mean = sum / len(elements)\n",
    "\n",
    "# reflection over mean\n",
    "for i in range(len(elements)):\n",
    "    value = elements[i]\n",
    "    new_value = mean - (elements[i]-mean)\n",
    "    elements[i] = new_value\n",
    "\n",
    "# visualize the values of elements in the list \n",
    "bar(labels,elements)"
   ]
  },
  {
   "cell_type": "markdown",
   "metadata": {},
   "source": [
    "Iterate the game three more steps and visualize the values of elements in the list at the end."
   ]
  },
  {
   "cell_type": "code",
   "execution_count": null,
   "metadata": {},
   "outputs": [],
   "source": [
    "for i in range(3):\n",
    "    # flip the sign of the marked element\n",
    "    elements[3] = -1 * elements[3]\n",
    "    \n",
    "    # summation of all values\n",
    "    sum = 0\n",
    "    for i in range(len(elements)):\n",
    "        sum += elements[i]\n",
    "\n",
    "    # mean of all values\n",
    "    mean = sum / len(elements)\n",
    "\n",
    "    # reflection over mean\n",
    "    for i in range(len(elements)):\n",
    "        value = elements[i]\n",
    "        new_value = mean - (elements[i]-mean)\n",
    "        elements[i] = new_value\n",
    "        \n",
    "# visualize the values of elements in the list \n",
    "bar(labels,elements)        "
   ]
  },
  {
   "cell_type": "markdown",
   "metadata": {},
   "source": [
    "<hr>"
   ]
  },
  {
   "cell_type": "markdown",
   "metadata": {},
   "source": [
    "<a id=\"task2\"></a>\n",
    "<h3>Task 2</h3>\n",
    "\n",
    "Write a function called *query* that \n",
    "- takes a list of elements and the list of marked elements,\n",
    "- change the sign of the marked elements, and then\n",
    "- returns the list.\n",
    "\n",
    "Write a function called *inversion* that\n",
    "- takes a list of elements and\n",
    "- reflects the value of each element over the mean of all values, and then\n",
    "- return the list.\n",
    "\n",
    "We iterate the same game given in Task 1 ($ N = 8 $ and the 4th element is the only marked one) 20 steps by using the functions *query* and *inversion*.\n",
    "\n",
    "\n",
    "**This time we trace the values of only the 4th element. We store the values of the 4th element on a list after each step, and then, we display this list as a bar chart.**"
   ]
  },
  {
   "cell_type": "markdown",
   "metadata": {},
   "source": [
    "<h3>Solution</h3>"
   ]
  },
  {
   "cell_type": "code",
   "execution_count": null,
   "metadata": {},
   "outputs": [],
   "source": [
    "def query(elements=[1],marked_elements=[0]):\n",
    "    for i in marked_elements:\n",
    "        elements[i] = -1 * elements[i]    \n",
    "    return elements"
   ]
  },
  {
   "cell_type": "code",
   "execution_count": null,
   "metadata": {},
   "outputs": [],
   "source": [
    "def inversion (elements=[1]):\n",
    "    # summation of all values\n",
    "    summation = 0\n",
    "    for i in range(len(elements)):\n",
    "        summation += elements[i]\n",
    "\n",
    "    # mean of all values\n",
    "    mean = summation / len(elements)\n",
    "\n",
    "    # reflection over mean\n",
    "    for i in range(len(elements)):\n",
    "        value = elements[i]\n",
    "        new_value = mean - (elements[i]-mean)\n",
    "        elements[i] = new_value   \n",
    "    return elements"
   ]
  },
  {
   "cell_type": "code",
   "execution_count": null,
   "metadata": {},
   "outputs": [],
   "source": [
    "from matplotlib.pyplot import bar\n",
    "\n",
    "# define the list of size 8 on which each element has value of 1\n",
    "elements = []\n",
    "for i in range(8):\n",
    "    elements  = elements + [1]\n",
    "\n",
    "# index of the marked element\n",
    "marked_elements = [3]\n",
    "    \n",
    "# define the list of iterations\n",
    "iterations = []\n",
    "# the list storing the values of the 4th element after each step\n",
    "L = []\n",
    "\n",
    "# the first values\n",
    "iterations.append(0)\n",
    "L.append(elements[marked_elements[0]])\n",
    "\n",
    "for step in range(20):\n",
    "    # store the iteration\n",
    "    iterations.append(step+1)\n",
    "    \n",
    "    # flip the sign of the marked element\n",
    "    elements = query(elements,marked_elements)\n",
    "    elements = inversion(elements)    \n",
    "    \n",
    "    # store the new value of the 4th element\n",
    "    L.append(elements[marked_elements[0]])\n",
    "    \n",
    "# visualize the values of the 4th elements after each iteration\n",
    "bar(iterations,L)\n",
    "print(iterations)\n",
    "print(L)"
   ]
  },
  {
   "cell_type": "markdown",
   "metadata": {},
   "source": [
    "<hr>"
   ]
  },
  {
   "cell_type": "markdown",
   "metadata": {},
   "source": [
    "<a id=\"task3\"></a>\n",
    "<h3> Task 3</h3>\n",
    "\n",
    "Repeat Task 2 where $ N = 16 $ and the 11th element is marked."
   ]
  },
  {
   "cell_type": "markdown",
   "metadata": {},
   "source": [
    "<h3>Solution</h3>"
   ]
  },
  {
   "cell_type": "code",
   "execution_count": null,
   "metadata": {},
   "outputs": [],
   "source": [
    "def query(elements=[1],marked_elements=[0]):\n",
    "    for i in marked_elements:\n",
    "        elements[i] = -1 * elements[i]    \n",
    "    return elements\n",
    "\n",
    "def inversion (elements=[1]):\n",
    "    # summation of all values\n",
    "    summation = 0\n",
    "    for i in range(len(elements)):\n",
    "        summation += elements[i]\n",
    "\n",
    "    # mean of all values\n",
    "    mean = summation / len(elements)\n",
    "\n",
    "    # reflection over mean\n",
    "    for i in range(len(elements)):\n",
    "        value = elements[i]\n",
    "        new_value = mean - (elements[i]-mean)\n",
    "        elements[i] = new_value   \n",
    "    return elements"
   ]
  },
  {
   "cell_type": "code",
   "execution_count": null,
   "metadata": {},
   "outputs": [],
   "source": [
    "from matplotlib.pyplot import bar\n",
    "\n",
    "# define the list of size 8 on which each element has value of 1\n",
    "elements = []\n",
    "for i in range(16):\n",
    "    elements  = elements + [1]\n",
    "\n",
    "# index of the marked element\n",
    "marked_elements = [10]\n",
    "    \n",
    "# define the list of iterations\n",
    "iterations = []\n",
    "# the list storing the values of the marked element after each step\n",
    "L = []\n",
    "\n",
    "# the first values\n",
    "iterations.append(0)\n",
    "L.append(elements[marked_elements[0]])\n",
    "\n",
    "for step in range(20):\n",
    "    # store the iteration\n",
    "    iterations.append(step+1)\n",
    "    \n",
    "    # flip the sign of the marked element\n",
    "    elements = query(elements,marked_elements)\n",
    "    elements = inversion(elements)    \n",
    "    \n",
    "    # store the new value of the 4th element\n",
    "    L.append(elements[marked_elements[0]])\n",
    "    \n",
    "# visualize the values of the marked elements after each iteration\n",
    "bar(iterations,L)\n",
    "print(iterations)\n",
    "print(L)"
   ]
  },
  {
   "cell_type": "markdown",
   "metadata": {},
   "source": [
    "<hr>"
   ]
  },
  {
   "cell_type": "markdown",
   "metadata": {},
   "source": [
    "<a id=\"task4\"></a>\n",
    "<h3> Task 4</h3>\n",
    "\n",
    "Repeat Task 3 by tracing only the 5th element where $ N = 16 $ and the 5th, 8th, and 10th elements are marked."
   ]
  },
  {
   "cell_type": "markdown",
   "metadata": {},
   "source": [
    "<h3>Solution</h3>"
   ]
  },
  {
   "cell_type": "code",
   "execution_count": null,
   "metadata": {},
   "outputs": [],
   "source": [
    "def query(elements=[1],marked_elements=[0]):\n",
    "    for i in marked_elements:\n",
    "        elements[i] = -1 * elements[i]    \n",
    "    return elements\n",
    "\n",
    "def inversion (elements=[1]):\n",
    "    # summation of all values\n",
    "    summation = 0\n",
    "    for i in range(len(elements)):\n",
    "        summation += elements[i]\n",
    "\n",
    "    # mean of all values\n",
    "    mean = summation / len(elements)\n",
    "\n",
    "    # reflection over mean\n",
    "    for i in range(len(elements)):\n",
    "        value = elements[i]\n",
    "        new_value = mean - (elements[i]-mean)\n",
    "        elements[i] = new_value   \n",
    "    return elements"
   ]
  },
  {
   "cell_type": "code",
   "execution_count": null,
   "metadata": {},
   "outputs": [],
   "source": [
    "from matplotlib.pyplot import bar\n",
    "\n",
    "# define the list of size 8 on which each element has value of 1\n",
    "elements = []\n",
    "for i in range(16):\n",
    "    elements  = elements + [1]\n",
    "\n",
    "# index of the marked element\n",
    "marked_elements = [5,8,10]\n",
    "    \n",
    "# define the list of iterations\n",
    "iterations = []\n",
    "# the list storing the values of the first element after each step\n",
    "L = []\n",
    "\n",
    "# the first values\n",
    "iterations.append(0)\n",
    "L.append(elements[marked_elements[0]])\n",
    "\n",
    "for step in range(20):\n",
    "    # store the iteration\n",
    "    iterations.append(step+1)\n",
    "    \n",
    "    # flip the sign of the marked element\n",
    "    elements = query(elements,marked_elements)\n",
    "    elements = inversion(elements)\n",
    "    \n",
    "    # store the new value of the first marked element\n",
    "    L.append(elements[marked_elements[0]])\n",
    "    \n",
    "# visualizing the values of the first marked elements after each iteration\n",
    "bar(iterations,L)\n",
    "print(iterations)\n",
    "print(L)"
   ]
  },
  {
   "cell_type": "markdown",
   "metadata": {},
   "source": [
    "<hr>"
   ]
  },
  {
   "cell_type": "markdown",
   "metadata": {},
   "source": [
    "<a id=\"task5\"></a>\n",
    "<h3> Task 5</h3>\n",
    "\n",
    "We iterate the same game 20 steps where $ N = 16 $ and the marked elements are the first four elements. \n",
    "\n",
    "Print the length of the list of elements after each query and inversion phases. \n",
    "\n",
    "*Remark that the initial length is $ \\sqrt{ \\sum_{i=1}^{16} 1^2 }  =4 $.*"
   ]
  },
  {
   "cell_type": "markdown",
   "metadata": {},
   "source": [
    "<h3>Solution</h3>"
   ]
  },
  {
   "cell_type": "code",
   "execution_count": 1,
   "metadata": {},
   "outputs": [],
   "source": [
    "def query(elements=[1],marked_elements=[0]):\n",
    "    for i in marked_elements:\n",
    "        elements[i] = -1 * elements[i]    \n",
    "    return elements\n",
    "\n",
    "def inversion (elements=[1]):\n",
    "    # summation of all values\n",
    "    summation = 0\n",
    "    for i in range(len(elements)):\n",
    "        summation += elements[i]\n",
    "\n",
    "    # mean of all values\n",
    "    mean = summation / len(elements)\n",
    "\n",
    "    # reflection over mean\n",
    "    for i in range(len(elements)):\n",
    "        value = elements[i]\n",
    "        new_value = mean - (elements[i]-mean)\n",
    "        elements[i] = new_value   \n",
    "    return elements\n",
    "\n",
    "def length_of_list (elements=[1]):\n",
    "    summation = 0\n",
    "    for el in elements:\n",
    "        summation = summation + el**2\n",
    "    return round(summation**0.5,3)"
   ]
  },
  {
   "cell_type": "code",
   "execution_count": 2,
   "metadata": {},
   "outputs": [
    {
     "name": "stdout",
     "output_type": "stream",
     "text": [
      "the initial length 4.0\n"
     ]
    },
    {
     "ename": "NameError",
     "evalue": "name 'iterations' is not defined",
     "output_type": "error",
     "traceback": [
      "\u001b[0;31m---------------------------------------------------------------------------\u001b[0m",
      "\u001b[0;31mNameError\u001b[0m                                 Traceback (most recent call last)",
      "\u001b[0;32m<ipython-input-2-1f92d88d63bb>\u001b[0m in \u001b[0;36m<module>\u001b[0;34m\u001b[0m\n\u001b[1;32m     11\u001b[0m \u001b[0;32mfor\u001b[0m \u001b[0mstep\u001b[0m \u001b[0;32min\u001b[0m \u001b[0mrange\u001b[0m\u001b[0;34m(\u001b[0m\u001b[0;36m20\u001b[0m\u001b[0;34m)\u001b[0m\u001b[0;34m:\u001b[0m\u001b[0;34m\u001b[0m\u001b[0;34m\u001b[0m\u001b[0m\n\u001b[1;32m     12\u001b[0m     \u001b[0;31m# store the iteration\u001b[0m\u001b[0;34m\u001b[0m\u001b[0;34m\u001b[0m\u001b[0;34m\u001b[0m\u001b[0m\n\u001b[0;32m---> 13\u001b[0;31m     \u001b[0miterations\u001b[0m\u001b[0;34m.\u001b[0m\u001b[0mappend\u001b[0m\u001b[0;34m(\u001b[0m\u001b[0mstep\u001b[0m\u001b[0;34m+\u001b[0m\u001b[0;36m1\u001b[0m\u001b[0;34m)\u001b[0m\u001b[0;34m\u001b[0m\u001b[0;34m\u001b[0m\u001b[0m\n\u001b[0m\u001b[1;32m     14\u001b[0m \u001b[0;34m\u001b[0m\u001b[0m\n\u001b[1;32m     15\u001b[0m     \u001b[0;31m# flip the sign of the marked element\u001b[0m\u001b[0;34m\u001b[0m\u001b[0;34m\u001b[0m\u001b[0;34m\u001b[0m\u001b[0m\n",
      "\u001b[0;31mNameError\u001b[0m: name 'iterations' is not defined"
     ]
    }
   ],
   "source": [
    "# define the list of size 8 on which each element has value of 1\n",
    "elements = []\n",
    "for i in range(16):\n",
    "    elements  = elements + [1]\n",
    "\n",
    "# index of the marked element\n",
    "marked_elements = [0,1,2,3]\n",
    "\n",
    "print(\"the initial length\",length_of_list(elements))\n",
    "\n",
    "for step in range(20):\n",
    "    # store the iteration\n",
    "    iterations.append(step+1)\n",
    "    \n",
    "    # flip the sign of the marked element\n",
    "    elements = query(elements,marked_elements)\n",
    "    print(\"step\",step,\"the length after query is \",length_of_list(elements))\n",
    "    elements = inversion(elements)\n",
    "    print(\"step\",step,\"the length after inversion is \",length_of_list(elements))"
   ]
  },
  {
   "cell_type": "markdown",
   "metadata": {},
   "source": [
    "<hr>"
   ]
  },
  {
   "cell_type": "markdown",
   "metadata": {},
   "source": [
    "<a id=\"task6\"></a>\n",
    "<h3> Task 6</h3>\n",
    "\n",
    "Repeat Task 5 where $ N = 10 $ and the last element is marked.\n",
    "\n",
    "*Remark that the initial length is $ \\sqrt{10} $.*"
   ]
  },
  {
   "cell_type": "markdown",
   "metadata": {},
   "source": [
    "<h3>Solution</h3>"
   ]
  },
  {
   "cell_type": "code",
   "execution_count": 3,
   "metadata": {},
   "outputs": [],
   "source": [
    "def query(elements=[1],marked_elements=[0]):\n",
    "    for i in marked_elements:\n",
    "        elements[i] = -1 * elements[i]    \n",
    "    return elements\n",
    "\n",
    "def inversion (elements=[1]):\n",
    "    # summation of all values\n",
    "    summation = 0\n",
    "    for i in range(len(elements)):\n",
    "        summation += elements[i]\n",
    "\n",
    "    # mean of all values\n",
    "    mean = summation / len(elements)\n",
    "\n",
    "    # reflection over mean\n",
    "    for i in range(len(elements)):\n",
    "        value = elements[i]\n",
    "        new_value = mean - (elements[i]-mean)\n",
    "        elements[i] = new_value   \n",
    "    return elements\n",
    "\n",
    "def length_of_list (elements=[1]):\n",
    "    summation = 0\n",
    "    for el in elements:\n",
    "        summation = summation + el**2\n",
    "    return round(summation**0.5,3)"
   ]
  },
  {
   "cell_type": "code",
   "execution_count": 4,
   "metadata": {},
   "outputs": [
    {
     "name": "stdout",
     "output_type": "stream",
     "text": [
      "the initial length 3.162\n"
     ]
    },
    {
     "ename": "NameError",
     "evalue": "name 'iterations' is not defined",
     "output_type": "error",
     "traceback": [
      "\u001b[0;31m---------------------------------------------------------------------------\u001b[0m",
      "\u001b[0;31mNameError\u001b[0m                                 Traceback (most recent call last)",
      "\u001b[0;32m<ipython-input-4-d9b71c14a530>\u001b[0m in \u001b[0;36m<module>\u001b[0;34m\u001b[0m\n\u001b[1;32m     11\u001b[0m \u001b[0;32mfor\u001b[0m \u001b[0mstep\u001b[0m \u001b[0;32min\u001b[0m \u001b[0mrange\u001b[0m\u001b[0;34m(\u001b[0m\u001b[0;36m20\u001b[0m\u001b[0;34m)\u001b[0m\u001b[0;34m:\u001b[0m\u001b[0;34m\u001b[0m\u001b[0;34m\u001b[0m\u001b[0m\n\u001b[1;32m     12\u001b[0m     \u001b[0;31m# store the iteration\u001b[0m\u001b[0;34m\u001b[0m\u001b[0;34m\u001b[0m\u001b[0;34m\u001b[0m\u001b[0m\n\u001b[0;32m---> 13\u001b[0;31m     \u001b[0miterations\u001b[0m\u001b[0;34m.\u001b[0m\u001b[0mappend\u001b[0m\u001b[0;34m(\u001b[0m\u001b[0mstep\u001b[0m\u001b[0;34m+\u001b[0m\u001b[0;36m1\u001b[0m\u001b[0;34m)\u001b[0m\u001b[0;34m\u001b[0m\u001b[0;34m\u001b[0m\u001b[0m\n\u001b[0m\u001b[1;32m     14\u001b[0m \u001b[0;34m\u001b[0m\u001b[0m\n\u001b[1;32m     15\u001b[0m     \u001b[0;31m# flip the sign of the marked element\u001b[0m\u001b[0;34m\u001b[0m\u001b[0;34m\u001b[0m\u001b[0;34m\u001b[0m\u001b[0m\n",
      "\u001b[0;31mNameError\u001b[0m: name 'iterations' is not defined"
     ]
    }
   ],
   "source": [
    "# define the list of size 10 on which each element has value of 1\n",
    "elements = []\n",
    "for i in range(10):\n",
    "    elements  = elements + [1]\n",
    "\n",
    "# index of the marked element\n",
    "marked_elements = [9]\n",
    "\n",
    "print(\"the initial length\",length_of_list(elements))\n",
    "\n",
    "for step in range(20):\n",
    "    # store the iteration\n",
    "    iterations.append(step+1)\n",
    "    \n",
    "    # flip the sign of the marked element\n",
    "    elements = query(elements,marked_elements)\n",
    "    print(\"step\",step,\"the length after query is \",length_of_list(elements))\n",
    "    elements = inversion(elements)\n",
    "    print(\"step\",step,\"the length after inversion is \",length_of_list(elements))"
   ]
  },
  {
   "cell_type": "markdown",
   "metadata": {},
   "source": [
    "<hr>"
   ]
  },
  {
   "cell_type": "markdown",
   "metadata": {},
   "source": [
    "<a id=\"task7\"></a>\n",
    "<h3> Task 7 </h3>\n",
    "\n",
    "What are the initial values for the modifed game if $ N=8 $?"
   ]
  },
  {
   "cell_type": "markdown",
   "metadata": {},
   "source": [
    "<h3>Solution</h3>"
   ]
  },
  {
   "cell_type": "markdown",
   "metadata": {},
   "source": [
    "The list is $ [ a,a,a,a,a,a,a,a ] $ at the beginning.\n",
    "\n",
    "If it is a quantum state, then its length must be 1: $ 8a^2 = 1 $ and so $ a = \\frac{1}{2\\sqrt{2}} $.\n",
    "\n",
    "In general, any list with $ N $ elements is $ \\big[ \\frac{1}{\\sqrt{N}},\\ldots,\\frac{1}{\\sqrt{N}}, \\big]  $."
   ]
  },
  {
   "cell_type": "markdown",
   "metadata": {},
   "source": [
    "<hr>"
   ]
  },
  {
   "cell_type": "markdown",
   "metadata": {},
   "source": [
    "<a id=\"task8\"></a>\n",
    "<h3>Task 8</h3>\n",
    "\n",
    "Iterate the modified game for 20 steps where $ N = 8 $ and the second element is marked.\n",
    "\n",
    "Print the list of elements after each phase.\n",
    "\n",
    "Check whether the length of list is 1 after each iteration."
   ]
  },
  {
   "cell_type": "markdown",
   "metadata": {},
   "source": [
    "<h3>Solution</h3>"
   ]
  },
  {
   "cell_type": "code",
   "execution_count": null,
   "metadata": {},
   "outputs": [],
   "source": [
    "def query(elements=[1],marked_elements=[0]):\n",
    "    for i in marked_elements:\n",
    "        elements[i] = -1 * elements[i]    \n",
    "    return elements\n",
    "\n",
    "def inversion (elements=[1]):\n",
    "    # summation of all values\n",
    "    summation = 0\n",
    "    for i in range(len(elements)):\n",
    "        summation += elements[i]\n",
    "\n",
    "    # mean of all values\n",
    "    mean = summation / len(elements)\n",
    "\n",
    "    # reflection over mean\n",
    "    for i in range(len(elements)):\n",
    "        value = elements[i]\n",
    "        new_value = mean - (elements[i]-mean)\n",
    "        elements[i] = new_value   \n",
    "    return elements\n",
    "\n",
    "def length_of_list (elements=[1]):\n",
    "    summation = 0\n",
    "    for el in elements:\n",
    "        summation = summation + el**2\n",
    "    return round(summation**0.5,3)\n",
    "\n",
    "# print the elements of a given list with a given precision\n",
    "def print_list(L,precision):\n",
    "    output = \"\"\n",
    "    for i in range(len(L)):\n",
    "        output = output + str(round(L[i],precision))+\"  \"\n",
    "    print(output)"
   ]
  },
  {
   "cell_type": "code",
   "execution_count": null,
   "metadata": {},
   "outputs": [],
   "source": [
    "# define the list of size 8 on which each element has value of 1\n",
    "elements = []\n",
    "for i in range(8):\n",
    "    elements  = elements + [1/(8**0.5)]\n",
    "\n",
    "# index of the marked element\n",
    "marked_elements = [1]\n",
    "\n",
    "print(\"step 0\")\n",
    "print(\"the list of elements is\")\n",
    "print_list(elements,3)\n",
    "print(\"the initial length\",length_of_list(elements))\n",
    "\n",
    "for step in range(20):\n",
    "    # store the iteration\n",
    "    iterations.append(step+1)\n",
    "    \n",
    "    # flip the sign of the marked element\n",
    "    elements = query(elements,marked_elements)\n",
    "    elements = inversion(elements)\n",
    "    print()\n",
    "    print(\"after step\",step+1)\n",
    "    print(\"the list of elements is\")\n",
    "    print_list(elements,3)\n",
    "    print(\"the length after iteration is \",length_of_list(elements))"
   ]
  },
  {
   "cell_type": "markdown",
   "metadata": {},
   "source": [
    "<hr>"
   ]
  },
  {
   "cell_type": "markdown",
   "metadata": {},
   "source": [
    "<a id=\"task9\"></a>\n",
    "<h3>Task 9</h3>\n",
    "\n",
    "Repeat Task 8 for $ N = 16 $ where the first 12 elements are marked."
   ]
  },
  {
   "cell_type": "markdown",
   "metadata": {},
   "source": [
    "<h3>Solution</h3>"
   ]
  },
  {
   "cell_type": "code",
   "execution_count": null,
   "metadata": {},
   "outputs": [],
   "source": [
    "def query(elements=[1],marked_elements=[0]):\n",
    "    for i in marked_elements:\n",
    "        elements[i] = -1 * elements[i]    \n",
    "    return elements\n",
    "\n",
    "def inversion (elements=[1]):\n",
    "    # summation of all values\n",
    "    summation = 0\n",
    "    for i in range(len(elements)):\n",
    "        summation += elements[i]\n",
    "\n",
    "    # mean of all values\n",
    "    mean = summation / len(elements)\n",
    "\n",
    "    # reflection over mean\n",
    "    for i in range(len(elements)):\n",
    "        value = elements[i]\n",
    "        new_value = mean - (elements[i]-mean)\n",
    "        elements[i] = new_value   \n",
    "    return elements\n",
    "\n",
    "def length_of_list (elements=[1]):\n",
    "    summation = 0\n",
    "    for el in elements:\n",
    "        summation = summation + el**2\n",
    "    return round(summation**0.5,3)\n",
    "\n",
    "# print the elements of a given list with a given precision\n",
    "def print_list(L,precision):\n",
    "    output = \"\"\n",
    "    for i in range(len(L)):\n",
    "        output = output + str(round(L[i],precision))+\"  \"\n",
    "    print(output)"
   ]
  },
  {
   "cell_type": "code",
   "execution_count": null,
   "metadata": {},
   "outputs": [],
   "source": [
    "# define the list of size 8 on which each element has value of 1\n",
    "elements = []\n",
    "for i in range(16):\n",
    "    elements  = elements + [1/(16**0.5)]\n",
    "\n",
    "# index of the marked element\n",
    "marked_elements = range(12)\n",
    "\n",
    "print(\"step 0\")\n",
    "print(\"the list of elements is\")\n",
    "print_list(elements,3)\n",
    "print(\"the initial length\",length_of_list(elements))\n",
    "\n",
    "for step in range(20):\n",
    "    # store the iteration\n",
    "    iterations.append(step+1)\n",
    "    \n",
    "    # flip the sign of the marked element\n",
    "    elements = query(elements,marked_elements)\n",
    "    elements = inversion(elements)\n",
    "    print()\n",
    "    print(\"after step\",step+1)\n",
    "    print(\"the list of elements is\")\n",
    "    print_list(elements,3)\n",
    "    print(\"the length after iteration is \",length_of_list(elements))"
   ]
  }
 ],
 "metadata": {
  "kernelspec": {
   "display_name": "Python 3",
   "language": "python",
   "name": "python3"
  },
  "language_info": {
   "codemirror_mode": {
    "name": "ipython",
    "version": 3
   },
   "file_extension": ".py",
   "mimetype": "text/x-python",
   "name": "python",
   "nbconvert_exporter": "python",
   "pygments_lexer": "ipython3",
   "version": "3.8.3"
  }
 },
 "nbformat": 4,
 "nbformat_minor": 2
}
