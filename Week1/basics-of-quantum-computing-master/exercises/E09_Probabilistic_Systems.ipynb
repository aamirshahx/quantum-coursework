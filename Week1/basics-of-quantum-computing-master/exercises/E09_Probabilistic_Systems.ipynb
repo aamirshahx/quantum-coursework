{
 "cells": [
  {
   "cell_type": "markdown",
   "metadata": {},
   "source": [
    "<table> <tr>\n",
    "        <td  style=\"background-color:#ffffff;\">\n",
    "            <a href=\"http://qworld.lu.lv\" target=\"_blank\"><img src=\"..\\images\\qworld.jpg\" width=\"25%\" align=\"left\"> </a></td>\n",
    "        <td style=\"background-color:#ffffff;vertical-align:bottom;text-align:right;\">\n",
    "            prepared by <a href=\"http://abu.lu.lv\" target=\"_blank\">Abuzer Yakaryilmaz</a> (<a href=\"http://qworld.lu.lv/index.php/qlatvia/\" target=\"_blank\">QLatvia</a>)\n",
    "        </td>        \n",
    "</tr></table>"
   ]
  },
  {
   "cell_type": "markdown",
   "metadata": {},
   "source": [
    "<table width=\"100%\"><tr><td style=\"color:#bbbbbb;background-color:#ffffff;font-size:11px;font-style:italic;text-align:right;\">This cell contains some macros. If there is a problem with displaying mathematical formulas, please run this cell to load these macros. </td></tr></table>\n",
    "$ \\newcommand{\\bra}[1]{\\langle #1|} $\n",
    "$ \\newcommand{\\ket}[1]{|#1\\rangle} $\n",
    "$ \\newcommand{\\braket}[2]{\\langle #1|#2\\rangle} $\n",
    "$ \\newcommand{\\dot}[2]{ #1 \\cdot #2} $\n",
    "$ \\newcommand{\\biginner}[2]{\\left\\langle #1,#2\\right\\rangle} $\n",
    "$ \\newcommand{\\mymatrix}[2]{\\left( \\begin{array}{#1} #2\\end{array} \\right)} $\n",
    "$ \\newcommand{\\myvector}[1]{\\mymatrix{c}{#1}} $\n",
    "$ \\newcommand{\\myrvector}[1]{\\mymatrix{r}{#1}} $\n",
    "$ \\newcommand{\\mypar}[1]{\\left( #1 \\right)} $\n",
    "$ \\newcommand{\\mybigpar}[1]{ \\Big( #1 \\Big)} $\n",
    "$ \\newcommand{\\sqrttwo}{\\frac{1}{\\sqrt{2}}} $\n",
    "$ \\newcommand{\\dsqrttwo}{\\dfrac{1}{\\sqrt{2}}} $\n",
    "$ \\newcommand{\\onehalf}{\\frac{1}{2}} $\n",
    "$ \\newcommand{\\donehalf}{\\dfrac{1}{2}} $\n",
    "$ \\newcommand{\\hadamard}{ \\mymatrix{rr}{ \\sqrttwo & \\sqrttwo \\\\ \\sqrttwo & -\\sqrttwo }} $\n",
    "$ \\newcommand{\\vzero}{\\myvector{1\\\\0}} $\n",
    "$ \\newcommand{\\vone}{\\myvector{0\\\\1}} $\n",
    "$ \\newcommand{\\vhadamardzero}{\\myvector{ \\sqrttwo \\\\  \\sqrttwo } } $\n",
    "$ \\newcommand{\\vhadamardone}{ \\myrvector{ \\sqrttwo \\\\ -\\sqrttwo } } $\n",
    "$ \\newcommand{\\myarray}[2]{ \\begin{array}{#1}#2\\end{array}} $\n",
    "$ \\newcommand{\\X}{ \\mymatrix{cc}{0 & 1 \\\\ 1 & 0}  } $\n",
    "$ \\newcommand{\\Z}{ \\mymatrix{rr}{1 & 0 \\\\ 0 & -1}  } $\n",
    "$ \\newcommand{\\Htwo}{ \\mymatrix{rrrr}{ \\frac{1}{2} & \\frac{1}{2} & \\frac{1}{2} & \\frac{1}{2} \\\\ \\frac{1}{2} & -\\frac{1}{2} & \\frac{1}{2} & -\\frac{1}{2} \\\\ \\frac{1}{2} & \\frac{1}{2} & -\\frac{1}{2} & -\\frac{1}{2} \\\\ \\frac{1}{2} & -\\frac{1}{2} & -\\frac{1}{2} & \\frac{1}{2} } } $\n",
    "$ \\newcommand{\\CNOT}{ \\mymatrix{cccc}{1 & 0 & 0 & 0 \\\\ 0 & 1 & 0 & 0 \\\\ 0 & 0 & 0 & 1 \\\\ 0 & 0 & 1 & 0} } $\n",
    "$ \\newcommand{\\norm}[1]{ \\left\\lVert #1 \\right\\rVert } $"
   ]
  },
  {
   "cell_type": "markdown",
   "metadata": {},
   "source": [
    "<h2> Exercises for Probabilistic Systems </h2>\n",
    "<hr>\n",
    "Run the following cell to open the exercises.\n",
    "\n",
    "<i><a href=\"https://www.mathjax.org\" target=\"_blank\">MathJax</a> is used to express mathematical expressions and it requires internet connection.</i>\n",
    "<hr>"
   ]
  },
  {
   "cell_type": "code",
   "execution_count": 1,
   "metadata": {},
   "outputs": [
    {
     "data": {
      "text/plain": [
       "True"
      ]
     },
     "execution_count": 1,
     "metadata": {},
     "output_type": "execute_result"
    }
   ],
   "source": [
    "import os, webbrowser\n",
    "webbrowser.open(os.path.abspath(\"E09_Probabilistic_Systems.html\"))"
   ]
  },
  {
   "cell_type": "markdown",
   "metadata": {},
   "source": [
    "Convention: The transition probability from the 4th state to the 2nd state is presented in the 4th column and the 2nd row of the corresponsing probabilistic operator."
   ]
  },
  {
   "cell_type": "markdown",
   "metadata": {},
   "source": [
    "What is the third value of $ u = \\myvector{0.1 \\ 0.3 \\ ? \\ 0} $ if it represents a probabilistic state?"
   ]
  },
  {
   "cell_type": "code",
   "execution_count": null,
   "metadata": {},
   "outputs": [],
   "source": [
    "0.7"
   ]
  },
  {
   "cell_type": "markdown",
   "metadata": {},
   "source": [
    "What is the value of $ (x+y) $ if $ M = \\mymatrix{cc}{ 0.2 & x \\ y & 0.7 } $ a probabilistic operator?"
   ]
  },
  {
   "cell_type": "markdown",
   "metadata": {},
   "source": [
    ":("
   ]
  },
  {
   "cell_type": "markdown",
   "metadata": {},
   "source": [
    "What is the value of $ (x+y+z) $ if $ M = \\mymatrix{ccc}{ 0.2 & 0.3 & 0.5 \\ 0.4 & 0 & 0.1 \\ x & y & z } $ a probabilistic operator?"
   ]
  },
  {
   "cell_type": "markdown",
   "metadata": {},
   "source": [
    "What is the value of $ (x+y+z) $ if $ M = \\mymatrix{ccc}{ 0.8 & 0.7 & x \\ 0.2 & 0 & y \\ 0 & 0.3 & z } $ a probabilistic operator?"
   ]
  },
  {
   "cell_type": "markdown",
   "metadata": {},
   "source": [
    "Which of the following probabilistic operators maps the probabilistic state $ v = \\myvector{0.3 \\ 0.7} $ to the probabilistic state $ v' = \\myvector{0.52 \\ 0.48} $?"
   ]
  },
  {
   "cell_type": "markdown",
   "metadata": {},
   "source": [
    "We have a probabilistic system with two states. When the system is in the first state with probability $0.4$, it applies a probabilistic operator such that (i) the transition probability from the first state to the second state is $0.2$ and (ii) the transition probability from the second state to the second state is $ 0.5 $. What is the next probabilistic state?"
   ]
  },
  {
   "cell_type": "markdown",
   "metadata": {},
   "source": [
    "We have a probabilistic system with two states. Starting with the initial probabilistic state $ u = \\mymatrix{cc}{0.4 \\ 0.6} $, the probabilistic operator $ M = \\mymatrix{cc}{0.5 & 1 \\ 0.5 & 0} $ is applied three times. What is the final probabilistic state?"
   ]
  },
  {
   "cell_type": "markdown",
   "metadata": {},
   "source": [
    "We have a system composed by two probabilistic bits. The probability of being in the state $ 0 $ in the first bit is $ 0.6 $, and the same probability for the second bit is $ 0.2 $. What is the probabilistic state of the composite system?"
   ]
  },
  {
   "cell_type": "markdown",
   "metadata": {},
   "source": [
    "The probabilistic state of the composite system with three bits is represented by a vector with eight entries. Which entry represents the state $ 010 $?"
   ]
  },
  {
   "cell_type": "markdown",
   "metadata": {},
   "source": [
    "The probabilistic state of the composite system with three bits is represented by a vector with eight entries. Which state corresponds to the 6th entry?"
   ]
  },
  {
   "cell_type": "markdown",
   "metadata": {},
   "source": [
    "We have a composite system with two probabilistic bits. Which one of the following cannot be a state of this system?"
   ]
  },
  {
   "cell_type": "markdown",
   "metadata": {},
   "source": [
    "We have a composite system with two probabilistic bits. Let $ v = \\dfrac{1}{7} \\pstate{01} + \\dfrac{2}{7} \\pstate{00} + \\dfrac{4}{7} \\pstate{10} $ be its probabilistic state. Which one of the following represents this state?"
   ]
  },
  {
   "cell_type": "markdown",
   "metadata": {},
   "source": [
    "Which of the following transitions belong to the operator $ \\mymatrix{cc|cc}{ 0 & 0 & 0 & 1 \\ 0 & 0 & 1 & 0 \\ \\hline 1 & 0 & 0 & 0 \\ 0 & 1 & 0 & 0 } $?\n",
    "\n",
    "We apply a controlled-NOT operator on two probabilistic bit where the second one is the controlled bit and the first one is the target the bit. Which of the following transitions represent this operator?\n",
    "\n",
    "We have a composite system with two probabilistic bits.\n",
    "\n",
    "First, both bits are set to the state 0.\n",
    "\n",
    "Second, the fair coin operator $ \\faircoin $ is applied to the first bit, and the NOT operator $ \\X $ is applied to the second bit.\n",
    "\n",
    "Third, the CNOT operator $ \\CNOT $ is applied to the composite system.\n",
    "\n",
    "What is the final probabilistic state of the composite system?\n"
   ]
  },
  {
   "cell_type": "markdown",
   "metadata": {},
   "source": [
    "We have a composite system with three probabilistic bits.\n",
    "\n",
    "First, all bits are set to the state 0.\n",
    "\n",
    "Second, the fair coin operator $ \\faircoin $ is applied to the second bit, and the NOT operator $ \\X $ is applied \n",
    "to the first bit.\n",
    "\n",
    "Third, the CNOT operator is applied on the second and the third bits where the second bit is the controlled bit and the third bit is the target bit.\n",
    "\n",
    "Fourth, the CNOT operator is applied on the third and first bits where the third operator is the controlled bit and the first bit is the target bit.\n",
    "\n",
    "What is the final probabilistic state of the composite system?"
   ]
  },
  {
   "cell_type": "markdown",
   "metadata": {},
   "source": []
  },
  {
   "cell_type": "code",
   "execution_count": null,
   "metadata": {},
   "outputs": [],
   "source": []
  }
 ],
 "metadata": {
  "kernelspec": {
   "display_name": "Python 3",
   "language": "python",
   "name": "python3"
  },
  "language_info": {
   "codemirror_mode": {
    "name": "ipython",
    "version": 3
   },
   "file_extension": ".py",
   "mimetype": "text/x-python",
   "name": "python",
   "nbconvert_exporter": "python",
   "pygments_lexer": "ipython3",
   "version": "3.8.3"
  }
 },
 "nbformat": 4,
 "nbformat_minor": 2
}
