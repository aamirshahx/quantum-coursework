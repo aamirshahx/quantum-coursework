{
 "cells": [
  {
   "cell_type": "markdown",
   "metadata": {},
   "source": [
    "<table> <tr>\n",
    "        <td  style=\"background-color:#ffffff;\">\n",
    "            <a href=\"http://qworld.lu.lv\" target=\"_blank\"><img src=\"..\\images\\qworld.jpg\" width=\"25%\" align=\"left\"> </a></td>\n",
    "        <td style=\"background-color:#ffffff;vertical-align:bottom;text-align:right;\">\n",
    "            prepared by  <a href=\"http://abu.lu.lv\" target=\"_blank\">Abuzer Yakaryilmaz</a> (<a href=\"http://qworld.lu.lv/index.php/qlatvia/\" target=\"_blank\">QLatvia</a>)\n",
    "        </td>        \n",
    "</tr></table>"
   ]
  },
  {
   "cell_type": "markdown",
   "metadata": {},
   "source": [
    "<table width=\"100%\"><tr><td style=\"color:#bbbbbb;background-color:#ffffff;font-size:11px;font-style:italic;text-align:right;\">This cell contains some macros. If there is a problem with displaying mathematical formulas, please run this cell to load these macros. </td></tr></table>\n",
    "$ \\newcommand{\\bra}[1]{\\langle #1|} $\n",
    "$ \\newcommand{\\ket}[1]{|#1\\rangle} $\n",
    "$ \\newcommand{\\braket}[2]{\\langle #1|#2\\rangle} $\n",
    "$ \\newcommand{\\dot}[2]{ #1 \\cdot #2} $\n",
    "$ \\newcommand{\\biginner}[2]{\\left\\langle #1,#2\\right\\rangle} $\n",
    "$ \\newcommand{\\mymatrix}[2]{\\left( \\begin{array}{#1} #2\\end{array} \\right)} $\n",
    "$ \\newcommand{\\myvector}[1]{\\mymatrix{c}{#1}} $\n",
    "$ \\newcommand{\\myrvector}[1]{\\mymatrix{r}{#1}} $\n",
    "$ \\newcommand{\\mypar}[1]{\\left( #1 \\right)} $\n",
    "$ \\newcommand{\\mybigpar}[1]{ \\Big( #1 \\Big)} $\n",
    "$ \\newcommand{\\sqrttwo}{\\frac{1}{\\sqrt{2}}} $\n",
    "$ \\newcommand{\\dsqrttwo}{\\dfrac{1}{\\sqrt{2}}} $\n",
    "$ \\newcommand{\\onehalf}{\\frac{1}{2}} $\n",
    "$ \\newcommand{\\donehalf}{\\dfrac{1}{2}} $\n",
    "$ \\newcommand{\\hadamard}{ \\mymatrix{rr}{ \\sqrttwo & \\sqrttwo \\\\ \\sqrttwo & -\\sqrttwo }} $\n",
    "$ \\newcommand{\\vzero}{\\myvector{1\\\\0}} $\n",
    "$ \\newcommand{\\vone}{\\myvector{0\\\\1}} $\n",
    "$ \\newcommand{\\vhadamardzero}{\\myvector{ \\sqrttwo \\\\  \\sqrttwo } } $\n",
    "$ \\newcommand{\\vhadamardone}{ \\myrvector{ \\sqrttwo \\\\ -\\sqrttwo } } $\n",
    "$ \\newcommand{\\myarray}[2]{ \\begin{array}{#1}#2\\end{array}} $\n",
    "$ \\newcommand{\\X}{ \\mymatrix{cc}{0 & 1 \\\\ 1 & 0}  } $\n",
    "$ \\newcommand{\\Z}{ \\mymatrix{rr}{1 & 0 \\\\ 0 & -1}  } $\n",
    "$ \\newcommand{\\Htwo}{ \\mymatrix{rrrr}{ \\frac{1}{2} & \\frac{1}{2} & \\frac{1}{2} & \\frac{1}{2} \\\\ \\frac{1}{2} & -\\frac{1}{2} & \\frac{1}{2} & -\\frac{1}{2} \\\\ \\frac{1}{2} & \\frac{1}{2} & -\\frac{1}{2} & -\\frac{1}{2} \\\\ \\frac{1}{2} & -\\frac{1}{2} & -\\frac{1}{2} & \\frac{1}{2} } } $\n",
    "$ \\newcommand{\\CNOT}{ \\mymatrix{cccc}{1 & 0 & 0 & 0 \\\\ 0 & 1 & 0 & 0 \\\\ 0 & 0 & 0 & 1 \\\\ 0 & 0 & 1 & 0} } $\n",
    "$ \\newcommand{\\norm}[1]{ \\left\\lVert #1 \\right\\rVert } $"
   ]
  },
  {
   "cell_type": "markdown",
   "metadata": {},
   "source": [
    "<h2> Exercises for Basic Math </h2>\n",
    "<hr>\n",
    "Run the following cell to open the exercises.\n",
    "\n",
    "<i><a href=\"https://www.mathjax.org\" target=\"_blank\">MathJax</a> is used to express mathematical expressions and it requires internet connection.</i>\n",
    "<hr>"
   ]
  },
  {
   "cell_type": "code",
   "execution_count": 3,
   "metadata": {
    "scrolled": true
   },
   "outputs": [
    {
     "data": {
      "text/plain": [
       "True"
      ]
     },
     "execution_count": 3,
     "metadata": {},
     "output_type": "execute_result"
    }
   ],
   "source": [
    "import os, webbrowser\n",
    "webbrowser.open(os.path.abspath(\"E05_Basic_Math.html\"))"
   ]
  },
  {
   "cell_type": "markdown",
   "metadata": {},
   "source": [
    "For the given vectors $ u = \\myrvector{2 \\ -3 \\ 4 \\ 1} $ and $ v=\\myrvector{-1 \\ 1 \\ -3 \\ 4} $, what is the second entry of $ 2u-3v $?\n",
    "\n",
    "\n",
    "For the given vector $ u = \\myrvector{-1 \\ 2 \\ -4} $, for which value of $r$ is the summation of the entries of vector $ (r \\cdot u) $ is $ -6 $?\n",
    "\n",
    "\n",
    "For the given vector $ u = \\myrvector{-1 \\ 1 \\ -2} $, what is $ \\norm{u} $?\n",
    "\n",
    "\n",
    "For the given vector $ u = \\myrvector{1 \\ -2 \\ 2 \\ 4} $, what is $ u \\cdot u $?\n",
    "\n",
    "\n",
    "For the given vectors $ u = \\myrvector{1 \\ 2 \\ 3} $ and $ v = \\myrvector{1 \\ 2 \\ -3} $, what is $ u \\cdot v $?\n",
    "\n",
    "\n",
    "Which of the following vector is perpendicular (orthogonal) to the vector $ \\myrvector{-3 \\ 4} $?\n",
    "\n",
    "\n",
    "For the given matrices $ M = \\mymatrix{rrr}{1 & 0 & -2 \\ -2 & -1 & 3 \\ 0 & 1 & -2} $ and $ N = \\mymatrix{rrr}{-1 & 3 & 2 \\ 0 & 2 & 1 \\ 4 & -1 & 0} $, what is the $ (2,3) $th entry of $ -2M + 3N $?\n",
    "\n",
    "\n",
    "For the given matrices $ M = \\mymatrix{rrr}{1 & 0 & -2 \\ -2 & -1 & 3 \\ 0 & 1 & -2} $ and $ N = \\mymatrix{rrr}{-1 & 3 & 2 \\ 0 & 2 & 1 \\ 4 & -1 & 0} $, what is the $ (2,3) $th entry of $ N \\cdot M $?\n",
    "\n",
    "\n",
    "For the given matrices $ A = \\mymatrix{rr}{1 & 0 \\ 2 & -1} $, what is $ A \\cdot A^T $?\n",
    "\n",
    "\n",
    "For the given matrices $ A = \\mymatrix{rr}{1 & 0 \\ 2 & -1} $, what is $ A^T \\cdot A $?\n",
    "\n",
    "\n",
    "For the given vectors $ u = \\myrvector{1 \\ 2} $ and $ v = \\myrvector{1 \\ 3 \\ 5} $, what is the 4th entry of $ u \\otimes v $?\n",
    "\n",
    "\n",
    "For the given vectors $ u = \\myrvector{1 \\ 2} $ and $ v = \\myrvector{1 \\ 3 \\ 5} $, what is the 4th entry of $ v \\otimes u $?\n",
    "\n",
    "\n",
    "What is the $(3,4)$th entry of $ \\mymatrix{rr}{1 & 0 \\ -1 & 2} \\otimes \\mymatrix{rr}{2 & 3 \\ 0 & 5} $?\n",
    "\n",
    "\n",
    "What is the $(3,4)$th entry of $ \\mymatrix{rr}{2 & 3 \\ 0 & 5} \\otimes \\mymatrix{rr}{1 & 0 \\ -1 & 2} $?\n",
    "\n",
    "\n",
    "What is the $(3,3)$th entry of $ \\mymatrix{rrr}{-1 & 2 & 0 \\ -2 & -1 & 2} \\otimes \\mymatrix{rr}{0 & -2 \\ 3 & -1 \\ -1 & 1 } $?\n",
    "\n",
    "\n",
    "What is the $(5,5)$th entry of $ \\mymatrix{rrr}{-1 & 2 & 0 \\ -2 & -1 & 2} \\otimes \\mymatrix{rr}{0 & -2 \\ 3 & -1 \\ -1 & 1 } $?\n",
    "\n"
   ]
  },
  {
   "cell_type": "code",
   "execution_count": null,
   "metadata": {},
   "outputs": [],
   "source": []
  }
 ],
 "metadata": {
  "kernelspec": {
   "display_name": "Python 3",
   "language": "python",
   "name": "python3"
  },
  "language_info": {
   "codemirror_mode": {
    "name": "ipython",
    "version": 3
   },
   "file_extension": ".py",
   "mimetype": "text/x-python",
   "name": "python",
   "nbconvert_exporter": "python",
   "pygments_lexer": "ipython3",
   "version": "3.8.3"
  }
 },
 "nbformat": 4,
 "nbformat_minor": 2
}
