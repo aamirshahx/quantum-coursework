{
 "cells": [
  {
   "cell_type": "markdown",
   "metadata": {},
   "source": [
    "<table> <tr>\n",
    "        <td  style=\"background-color:#ffffff;\"><a href=\"http://qworld.lu.lv/\" target=\"_blank\"><img src=\"..\\images\\qworld.jpg\" width=\"25%\" align=\"left\"></a></td>\n",
    "        <td  style=\"background-color:#ffffff;vertical-align:bottom;\">\n",
    "            prepared by Abuzer Yakaryilmaz (<a href=\"http://qworld.lu.lv/index.php/qlatvia/\" target=\"_blank\">QLatvia</a>)\n",
    "        </td>        \n",
    "</tr></table>"
   ]
  },
  {
   "cell_type": "markdown",
   "metadata": {},
   "source": [
    "<table width=\"100%\"><tr><td style=\"color:#bbbbbb;background-color:#ffffff;font-size:11px;font-style:italic;text-align:right;\">This cell contains some macros. If there is a problem with displaying mathematical formulas, please run this cell to load these macros. </td></tr></table>\n",
    "$ \\newcommand{\\bra}[1]{\\langle #1|} $\n",
    "$ \\newcommand{\\ket}[1]{|#1\\rangle} $\n",
    "$ \\newcommand{\\braket}[2]{\\langle #1|#2\\rangle} $\n",
    "$ \\newcommand{\\dot}[2]{ #1 \\cdot #2} $\n",
    "$ \\newcommand{\\biginner}[2]{\\left\\langle #1,#2\\right\\rangle} $\n",
    "$ \\newcommand{\\mymatrix}[2]{\\left( \\begin{array}{#1} #2\\end{array} \\right)} $\n",
    "$ \\newcommand{\\myvector}[1]{\\mymatrix{c}{#1}} $\n",
    "$ \\newcommand{\\myrvector}[1]{\\mymatrix{r}{#1}} $\n",
    "$ \\newcommand{\\mypar}[1]{\\left( #1 \\right)} $\n",
    "$ \\newcommand{\\mybigpar}[1]{ \\Big( #1 \\Big)} $\n",
    "$ \\newcommand{\\sqrttwo}{\\frac{1}{\\sqrt{2}}} $\n",
    "$ \\newcommand{\\dsqrttwo}{\\dfrac{1}{\\sqrt{2}}} $\n",
    "$ \\newcommand{\\onehalf}{\\frac{1}{2}} $\n",
    "$ \\newcommand{\\donehalf}{\\dfrac{1}{2}} $\n",
    "$ \\newcommand{\\hadamard}{ \\mymatrix{rr}{ \\sqrttwo & \\sqrttwo \\\\ \\sqrttwo & -\\sqrttwo }} $\n",
    "$ \\newcommand{\\vzero}{\\myvector{1\\\\0}} $\n",
    "$ \\newcommand{\\vone}{\\myvector{0\\\\1}} $\n",
    "$ \\newcommand{\\vhadamardzero}{\\myvector{ \\sqrttwo \\\\  \\sqrttwo } } $\n",
    "$ \\newcommand{\\vhadamardone}{ \\myrvector{ \\sqrttwo \\\\ -\\sqrttwo } } $\n",
    "$ \\newcommand{\\myarray}[2]{ \\begin{array}{#1}#2\\end{array}} $\n",
    "$ \\newcommand{\\X}{ \\mymatrix{cc}{0 & 1 \\\\ 1 & 0}  } $\n",
    "$ \\newcommand{\\Z}{ \\mymatrix{rr}{1 & 0 \\\\ 0 & -1}  } $\n",
    "$ \\newcommand{\\Htwo}{ \\mymatrix{rrrr}{ \\frac{1}{2} & \\frac{1}{2} & \\frac{1}{2} & \\frac{1}{2} \\\\ \\frac{1}{2} & -\\frac{1}{2} & \\frac{1}{2} & -\\frac{1}{2} \\\\ \\frac{1}{2} & \\frac{1}{2} & -\\frac{1}{2} & -\\frac{1}{2} \\\\ \\frac{1}{2} & -\\frac{1}{2} & -\\frac{1}{2} & \\frac{1}{2} } } $\n",
    "$ \\newcommand{\\CNOT}{ \\mymatrix{cccc}{1 & 0 & 0 & 0 \\\\ 0 & 1 & 0 & 0 \\\\ 0 & 0 & 0 & 1 \\\\ 0 & 0 & 1 & 0} } $\n",
    "$ \\newcommand{\\norm}[1]{ \\left\\lVert #1 \\right\\rVert } $\n",
    "$ \\newcommand{\\pstate}[1]{ \\lceil \\mspace{-1mu} #1 \\mspace{-1.5mu} \\rfloor } $"
   ]
  },
  {
   "cell_type": "markdown",
   "metadata": {},
   "source": [
    "## Qiskit installation and test\n",
    "\n",
    "This notebook has four parts: <a href=\"#intro\">Introduction</a>, <a href=\"#install\">Install Qiskit</a>, <a href=\"#check\">Check Qiskit version</a>, and <a href=\"#example\">Execute an example program<a>."
   ]
  },
  {
   "cell_type": "markdown",
   "metadata": {},
   "source": [
    "<hr id=\"intro\">\n",
    "\n",
    "### Introduction\n",
    "\n",
    "February 26, 2020:\n",
    " \n",
    "<font color=\"blue\">Our tutorial works fine with **Qiskit version 0.15.0**</font>. _<font color=\"red\">There can be some problems with the other versions</font>._\n",
    "\n",
    "_Update your system before starting the tutorial if your system has a different the Qiskit version_\n",
    "\n",
    "Check your system, if Qiskit has already been installed:"
   ]
  },
  {
   "cell_type": "code",
   "execution_count": 1,
   "metadata": {},
   "outputs": [
    {
     "name": "stdout",
     "output_type": "stream",
     "text": [
      "The version of Qiskit is 0.20.0\n",
      "\n",
      "The version of each component:\n",
      "qiskit-terra -> 0.15.1\n",
      "qiskit-aer -> 0.6.1\n",
      "qiskit-ignis -> 0.4.0\n",
      "qiskit-ibmq-provider -> 0.8.0\n",
      "qiskit-aqua -> 0.7.5\n",
      "qiskit -> 0.20.0\n"
     ]
    }
   ],
   "source": [
    "import qiskit\n",
    "versions = qiskit.__qiskit_version__\n",
    "print(\"The version of Qiskit is\",versions['qiskit'])\n",
    "print()\n",
    "print(\"The version of each component:\")\n",
    "for key in versions:\n",
    "    print(key,\"->\",versions[key])"
   ]
  },
  {
   "cell_type": "markdown",
   "metadata": {},
   "source": [
    "<hr id=\"install\">\n",
    "\n",
    "### Install Qiskit\n",
    "\n",
    "#### Exprienced users\n",
    "\n",
    "Visit the following links:\n",
    "\n",
    "https://github.com/Qiskit/qiskit-tutorials/blob/master/INSTALL.md\n",
    "\n",
    "https://pypi.org/project/qiskit/0.15.0/"
   ]
  },
  {
   "cell_type": "markdown",
   "metadata": {},
   "source": [
    "#### Beginnners\n",
    "\n",
    "open a terminal <a href=\"/terminals/ambainis\">by clicking here</a> (or go to the [dashboard](http://localhost:8888), and open a new terminal by using the menu \"new\" on the right)"
   ]
  },
  {
   "cell_type": "markdown",
   "metadata": {},
   "source": [
    "_**Uninstall Qiskit** from your system if needed:_\n",
    "    \n",
    "    pip uninstall qiskit"
   ]
  },
  {
   "cell_type": "markdown",
   "metadata": {},
   "source": [
    "_**Update Qiskit** in your system:_\n",
    "    \n",
    "    pip install -U qiskit==0.15.0\n",
    "    \n",
    "or\n",
    "\n",
    "    pip install -U qiskit==0.15.0 --user"
   ]
  },
  {
   "cell_type": "markdown",
   "metadata": {},
   "source": [
    "_**Install Qiskit**:_\n",
    "    \n",
    "    pip install qiskit==0.15.0\n",
    "    \n",
    "or    \n",
    "\n",
    "    pip install qiskit==0.15.0 --user"
   ]
  },
  {
   "cell_type": "markdown",
   "metadata": {},
   "source": [
    "__*Restart the kernel*__ (check \"Kernel\" menu) to apply the changes to the current notebook."
   ]
  },
  {
   "cell_type": "markdown",
   "metadata": {},
   "source": [
    "<hr id=\"check\">\n",
    "\n",
    "### Check Qiskit version\n",
    "\n",
    "Check your system, if Qiskit has already been installed:"
   ]
  },
  {
   "cell_type": "code",
   "execution_count": null,
   "metadata": {},
   "outputs": [],
   "source": [
    "import qiskit\n",
    "versions = qiskit.__qiskit_version__\n",
    "print(\"The version of Qiskit is\",versions['qiskit'])\n",
    "print()\n",
    "print(\"The version of each component:\")\n",
    "for key in versions:\n",
    "    print(key,\"->\",versions[key])"
   ]
  },
  {
   "cell_type": "markdown",
   "metadata": {},
   "source": [
    "<hr id=\"example\">\n",
    "\n",
    "### Execute an example program\n"
   ]
  },
  {
   "cell_type": "markdown",
   "metadata": {},
   "source": [
    "1) Create a quantum circuit"
   ]
  },
  {
   "cell_type": "code",
   "execution_count": null,
   "metadata": {},
   "outputs": [],
   "source": [
    "# import the objects from qiskit\n",
    "from qiskit import QuantumRegister, ClassicalRegister, QuantumCircuit, execute, Aer\n",
    "from random import randrange\n",
    "\n",
    "# create a quantum circuit and its register objects\n",
    "qreg = QuantumRegister(2) # quantum register with two quantum bits\n",
    "creg = ClassicalRegister(2) # classical register with two classical bit\n",
    "circuit = QuantumCircuit(qreg,creg) # quantum circuit composed by a quantum register and a classical register\n",
    "\n",
    "# apply a Hadamard gate to the first qubit\n",
    "circuit.h(qreg[0])\n",
    "\n",
    "# set the second qubit to state |1>\n",
    "circuit.x(qreg[1])\n",
    "\n",
    "# apply CNOT(first_qubit,second_qubit)\n",
    "circuit.cx(qreg[0],qreg[1])\n",
    "\n",
    "# measure the both qubits\n",
    "circuit.measure(qreg,creg)\n",
    "\n",
    "print(\"The execution of the cell was completed, and the circuit was created :)\")"
   ]
  },
  {
   "cell_type": "markdown",
   "metadata": {},
   "source": [
    "2) Draw the circuit\n",
    "\n",
    "_Run the cell once more if the figure is not shown_"
   ]
  },
  {
   "cell_type": "code",
   "execution_count": null,
   "metadata": {},
   "outputs": [],
   "source": [
    "# draw circuit \n",
    "circuit.draw(output='mpl')\n",
    "\n",
    "# the output will be a \"matplotlib.Figure\" object"
   ]
  },
  {
   "cell_type": "markdown",
   "metadata": {},
   "source": [
    "3) Execute the circuit 1024 times in the local simulator and print the observed the outcomes"
   ]
  },
  {
   "cell_type": "code",
   "execution_count": null,
   "metadata": {},
   "outputs": [],
   "source": [
    "## execute the circuit 1024 times\n",
    "job = execute(circuit,Aer.get_backend('qasm_simulator'),shots=1024)\n",
    "# get the result\n",
    "counts = job.result().get_counts(circuit)\n",
    "print(counts)"
   ]
  }
 ],
 "metadata": {
  "kernelspec": {
   "display_name": "Python 3",
   "language": "python",
   "name": "python3"
  },
  "language_info": {
   "codemirror_mode": {
    "name": "ipython",
    "version": 3
   },
   "file_extension": ".py",
   "mimetype": "text/x-python",
   "name": "python",
   "nbconvert_exporter": "python",
   "pygments_lexer": "ipython3",
   "version": "3.8.3"
  }
 },
 "nbformat": 4,
 "nbformat_minor": 2
}
